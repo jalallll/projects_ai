{
  "nbformat": 4,
  "nbformat_minor": 0,
  "metadata": {
    "colab": {
      "name": "cs4442_a4.ipynb",
      "provenance": [],
      "machine_shape": "hm",
      "background_execution": "on"
    },
    "kernelspec": {
      "name": "python3",
      "display_name": "Python 3"
    },
    "language_info": {
      "name": "python"
    },
    "accelerator": "GPU"
  },
  "cells": [
    {
      "cell_type": "code",
      "execution_count": null,
      "metadata": {
        "id": "L5m2D5STCjkk"
      },
      "outputs": [],
      "source": [
        "import torch\n",
        "from sklearn.metrics import confusion_matrix\n",
        "from sklearn.metrics import ConfusionMatrixDisplay\n",
        "import time\n",
        "from torchvision import models\n",
        "import torchvision\n",
        "from torch.utils.data import random_split\n",
        "import random\n",
        "import torch.nn as nn\n",
        "import torch.nn.functional as F\n",
        "import torchvision.datasets as datasets\n",
        "import numpy as np\n",
        "import matplotlib.pyplot as plt\n",
        "import torchvision.transforms as transforms\n",
        "import copy\n",
        "import torch.optim as optim\n",
        "from torch.optim.lr_scheduler import _LRScheduler\n",
        "import torch.utils.data as data\n",
        "from sklearn import decomposition\n",
        "from sklearn import manifold\n"
      ]
    },
    {
      "cell_type": "markdown",
      "source": [
        "# Create transformations for training and test datasets"
      ],
      "metadata": {
        "id": "swDuegcNSAL2"
      }
    },
    {
      "cell_type": "code",
      "source": [
        "transform = transforms.Compose([\n",
        "    transforms.Resize(256),\n",
        "    transforms.CenterCrop(224),\n",
        "    transforms.ToTensor(),\n",
        "    transforms.Normalize([0.485, 0.456, 0.406],[0.229, 0.224, 0.225])\n",
        "])\n"
      ],
      "metadata": {
        "id": "UqV1p1KdClVw"
      },
      "execution_count": null,
      "outputs": []
    },
    {
      "cell_type": "markdown",
      "source": [
        "# Download datasets and apply transformations"
      ],
      "metadata": {
        "id": "ZwzZcEt0SILq"
      }
    },
    {
      "cell_type": "code",
      "source": [
        "train_set = torchvision.datasets.CIFAR10(root='./data', train=True,\n",
        "                                        download=True, transform=transform)\n",
        "test_set = torchvision.datasets.CIFAR10(root='./data', train=False,\n",
        "                                       download=True, transform=transform)\n"
      ],
      "metadata": {
        "colab": {
          "base_uri": "https://localhost:8080/"
        },
        "id": "2pM-sicsSKZZ",
        "outputId": "97d31a72-fc52-4caf-9881-4f8e376459fb"
      },
      "execution_count": null,
      "outputs": [
        {
          "output_type": "stream",
          "name": "stdout",
          "text": [
            "Files already downloaded and verified\n",
            "Files already downloaded and verified\n"
          ]
        }
      ]
    },
    {
      "cell_type": "markdown",
      "source": [
        "# Split training data into validation data"
      ],
      "metadata": {
        "id": "TO5VCBozSK01"
      }
    },
    {
      "cell_type": "code",
      "source": [
        "# training size = 40,000\n",
        "# Validation size = 10,000\n",
        "\n",
        "train_size = 40000\n",
        "val_size = 10000\n",
        "\n",
        "train_set, val_set = random_split(train_set, [train_size,val_size])\n",
        "\n"
      ],
      "metadata": {
        "id": "ValjJtjISQ8o"
      },
      "execution_count": null,
      "outputs": []
    },
    {
      "cell_type": "markdown",
      "source": [
        "# Create dataloaders for datasets (training, validation, testing)"
      ],
      "metadata": {
        "id": "CAsgFQYRSREz"
      }
    },
    {
      "cell_type": "code",
      "source": [
        "batch_size = 100\n",
        "\n",
        "train_loader = torch.utils.data.DataLoader(train_set, batch_size=batch_size,\n",
        "                                          shuffle=False, pin_memory=True)\n",
        "\n",
        "val_loader = torch.utils.data.DataLoader(val_set, batch_size=batch_size,\n",
        "                                          shuffle=False, pin_memory=True)\n",
        "\n",
        "test_loader = torch.utils.data.DataLoader(test_set, batch_size=batch_size,\n",
        "                                         shuffle=False, pin_memory=True)"
      ],
      "metadata": {
        "id": "NN8scOnhSVQy"
      },
      "execution_count": null,
      "outputs": []
    },
    {
      "cell_type": "markdown",
      "source": [
        "# Get Class labels"
      ],
      "metadata": {
        "id": "8uia-mtKHNa_"
      }
    },
    {
      "cell_type": "code",
      "source": [
        "# Cifar10 class labels\n",
        "cifar_classes = test_set.classes\n",
        "print(cifar_classes)\n",
        "\n",
        "with open(\"image_net_classes.txt\") as f:\n",
        "    image_net_classes = eval(f.read())"
      ],
      "metadata": {
        "colab": {
          "base_uri": "https://localhost:8080/"
        },
        "id": "QEiRIDL1VMRs",
        "outputId": "53224313-d99e-414d-b6dd-699bfe7e40ec"
      },
      "execution_count": null,
      "outputs": [
        {
          "output_type": "stream",
          "name": "stdout",
          "text": [
            "['airplane', 'automobile', 'bird', 'cat', 'deer', 'dog', 'frog', 'horse', 'ship', 'truck']\n"
          ]
        }
      ]
    },
    {
      "cell_type": "code",
      "source": [
        "print(image_net_classes)"
      ],
      "metadata": {
        "colab": {
          "base_uri": "https://localhost:8080/"
        },
        "id": "VTowc57m8ikG",
        "outputId": "2fb15d98-13f2-46f5-bfd1-f59fd22d5687"
      },
      "execution_count": null,
      "outputs": [
        {
          "output_type": "stream",
          "name": "stdout",
          "text": [
            "{0: 'tench, Tinca tinca', 1: 'goldfish, Carassius auratus', 2: 'great white shark, white shark, man-eater, man-eating shark, Carcharodon carcharias', 3: 'tiger shark, Galeocerdo cuvieri', 4: 'hammerhead, hammerhead shark', 5: 'electric ray, crampfish, numbfish, torpedo', 6: 'stingray', 7: 'cock', 8: 'hen', 9: 'ostrich, Struthio camelus', 10: 'brambling, Fringilla montifringilla', 11: 'goldfinch, Carduelis carduelis', 12: 'house finch, linnet, Carpodacus mexicanus', 13: 'junco, snowbird', 14: 'indigo bunting, indigo finch, indigo bird, Passerina cyanea', 15: 'robin, American robin, Turdus migratorius', 16: 'bulbul', 17: 'jay', 18: 'magpie', 19: 'chickadee', 20: 'water ouzel, dipper', 21: 'kite', 22: 'bald eagle, American eagle, Haliaeetus leucocephalus', 23: 'vulture', 24: 'great grey owl, great gray owl, Strix nebulosa', 25: 'European fire salamander, Salamandra salamandra', 26: 'common newt, Triturus vulgaris', 27: 'eft', 28: 'spotted salamander, Ambystoma maculatum', 29: 'axolotl, mud puppy, Ambystoma mexicanum', 30: 'bullfrog, Rana catesbeiana', 31: 'tree frog, tree-frog', 32: 'tailed frog, bell toad, ribbed toad, tailed toad, Ascaphus trui', 33: 'loggerhead, loggerhead turtle, Caretta caretta', 34: 'leatherback turtle, leatherback, leathery turtle, Dermochelys coriacea', 35: 'mud turtle', 36: 'terrapin', 37: 'box turtle, box tortoise', 38: 'banded gecko', 39: 'common iguana, iguana, Iguana iguana', 40: 'American chameleon, anole, Anolis carolinensis', 41: 'whiptail, whiptail lizard', 42: 'agama', 43: 'frilled lizard, Chlamydosaurus kingi', 44: 'alligator lizard', 45: 'Gila monster, Heloderma suspectum', 46: 'green lizard, Lacerta viridis', 47: 'African chameleon, Chamaeleo chamaeleon', 48: 'Komodo dragon, Komodo lizard, dragon lizard, giant lizard, Varanus komodoensis', 49: 'African crocodile, Nile crocodile, Crocodylus niloticus', 50: 'American alligator, Alligator mississipiensis', 51: 'triceratops', 52: 'thunder snake, worm snake, Carphophis amoenus', 53: 'ringneck snake, ring-necked snake, ring snake', 54: 'hognose snake, puff adder, sand viper', 55: 'green snake, grass snake', 56: 'king snake, kingsnake', 57: 'garter snake, grass snake', 58: 'water snake', 59: 'vine snake', 60: 'night snake, Hypsiglena torquata', 61: 'boa constrictor, Constrictor constrictor', 62: 'rock python, rock snake, Python sebae', 63: 'Indian cobra, Naja naja', 64: 'green mamba', 65: 'sea snake', 66: 'horned viper, cerastes, sand viper, horned asp, Cerastes cornutus', 67: 'diamondback, diamondback rattlesnake, Crotalus adamanteus', 68: 'sidewinder, horned rattlesnake, Crotalus cerastes', 69: 'trilobite', 70: 'harvestman, daddy longlegs, Phalangium opilio', 71: 'scorpion', 72: 'black and gold garden spider, Argiope aurantia', 73: 'barn spider, Araneus cavaticus', 74: 'garden spider, Aranea diademata', 75: 'black widow, Latrodectus mactans', 76: 'tarantula', 77: 'wolf spider, hunting spider', 78: 'tick', 79: 'centipede', 80: 'black grouse', 81: 'ptarmigan', 82: 'ruffed grouse, partridge, Bonasa umbellus', 83: 'prairie chicken, prairie grouse, prairie fowl', 84: 'peacock', 85: 'quail', 86: 'partridge', 87: 'African grey, African gray, Psittacus erithacus', 88: 'macaw', 89: 'sulphur-crested cockatoo, Kakatoe galerita, Cacatua galerita', 90: 'lorikeet', 91: 'coucal', 92: 'bee eater', 93: 'hornbill', 94: 'hummingbird', 95: 'jacamar', 96: 'toucan', 97: 'drake', 98: 'red-breasted merganser, Mergus serrator', 99: 'goose', 100: 'black swan, Cygnus atratus', 101: 'tusker', 102: 'echidna, spiny anteater, anteater', 103: 'platypus, duckbill, duckbilled platypus, duck-billed platypus, Ornithorhynchus anatinus', 104: 'wallaby, brush kangaroo', 105: 'koala, koala bear, kangaroo bear, native bear, Phascolarctos cinereus', 106: 'wombat', 107: 'jellyfish', 108: 'sea anemone, anemone', 109: 'brain coral', 110: 'flatworm, platyhelminth', 111: 'nematode, nematode worm, roundworm', 112: 'conch', 113: 'snail', 114: 'slug', 115: 'sea slug, nudibranch', 116: 'chiton, coat-of-mail shell, sea cradle, polyplacophore', 117: 'chambered nautilus, pearly nautilus, nautilus', 118: 'Dungeness crab, Cancer magister', 119: 'rock crab, Cancer irroratus', 120: 'fiddler crab', 121: 'king crab, Alaska crab, Alaskan king crab, Alaska king crab, Paralithodes camtschatica', 122: 'American lobster, Northern lobster, Maine lobster, Homarus americanus', 123: 'spiny lobster, langouste, rock lobster, crawfish, crayfish, sea crawfish', 124: 'crayfish, crawfish, crawdad, crawdaddy', 125: 'hermit crab', 126: 'isopod', 127: 'white stork, Ciconia ciconia', 128: 'black stork, Ciconia nigra', 129: 'spoonbill', 130: 'flamingo', 131: 'little blue heron, Egretta caerulea', 132: 'American egret, great white heron, Egretta albus', 133: 'bittern', 134: 'crane', 135: 'limpkin, Aramus pictus', 136: 'European gallinule, Porphyrio porphyrio', 137: 'American coot, marsh hen, mud hen, water hen, Fulica americana', 138: 'bustard', 139: 'ruddy turnstone, Arenaria interpres', 140: 'red-backed sandpiper, dunlin, Erolia alpina', 141: 'redshank, Tringa totanus', 142: 'dowitcher', 143: 'oystercatcher, oyster catcher', 144: 'pelican', 145: 'king penguin, Aptenodytes patagonica', 146: 'albatross, mollymawk', 147: 'grey whale, gray whale, devilfish, Eschrichtius gibbosus, Eschrichtius robustus', 148: 'killer whale, killer, orca, grampus, sea wolf, Orcinus orca', 149: 'dugong, Dugong dugon', 150: 'sea lion', 151: 'Chihuahua', 152: 'Japanese spaniel', 153: 'Maltese dog, Maltese terrier, Maltese', 154: 'Pekinese, Pekingese, Peke', 155: 'Shih-Tzu', 156: 'Blenheim spaniel', 157: 'papillon', 158: 'toy terrier', 159: 'Rhodesian ridgeback', 160: 'Afghan hound, Afghan', 161: 'basset, basset hound', 162: 'beagle', 163: 'bloodhound, sleuthhound', 164: 'bluetick', 165: 'black-and-tan coonhound', 166: 'Walker hound, Walker foxhound', 167: 'English foxhound', 168: 'redbone', 169: 'borzoi, Russian wolfhound', 170: 'Irish wolfhound', 171: 'Italian greyhound', 172: 'whippet', 173: 'Ibizan hound, Ibizan Podenco', 174: 'Norwegian elkhound, elkhound', 175: 'otterhound, otter hound', 176: 'Saluki, gazelle hound', 177: 'Scottish deerhound, deerhound', 178: 'Weimaraner', 179: 'Staffordshire bullterrier, Staffordshire bull terrier', 180: 'American Staffordshire terrier, Staffordshire terrier, American pit bull terrier, pit bull terrier', 181: 'Bedlington terrier', 182: 'Border terrier', 183: 'Kerry blue terrier', 184: 'Irish terrier', 185: 'Norfolk terrier', 186: 'Norwich terrier', 187: 'Yorkshire terrier', 188: 'wire-haired fox terrier', 189: 'Lakeland terrier', 190: 'Sealyham terrier, Sealyham', 191: 'Airedale, Airedale terrier', 192: 'cairn, cairn terrier', 193: 'Australian terrier', 194: 'Dandie Dinmont, Dandie Dinmont terrier', 195: 'Boston bull, Boston terrier', 196: 'miniature schnauzer', 197: 'giant schnauzer', 198: 'standard schnauzer', 199: 'Scotch terrier, Scottish terrier, Scottie', 200: 'Tibetan terrier, chrysanthemum dog', 201: 'silky terrier, Sydney silky', 202: 'soft-coated wheaten terrier', 203: 'West Highland white terrier', 204: 'Lhasa, Lhasa apso', 205: 'flat-coated retriever', 206: 'curly-coated retriever', 207: 'golden retriever', 208: 'Labrador retriever', 209: 'Chesapeake Bay retriever', 210: 'German short-haired pointer', 211: 'vizsla, Hungarian pointer', 212: 'English setter', 213: 'Irish setter, red setter', 214: 'Gordon setter', 215: 'Brittany spaniel', 216: 'clumber, clumber spaniel', 217: 'English springer, English springer spaniel', 218: 'Welsh springer spaniel', 219: 'cocker spaniel, English cocker spaniel, cocker', 220: 'Sussex spaniel', 221: 'Irish water spaniel', 222: 'kuvasz', 223: 'schipperke', 224: 'groenendael', 225: 'malinois', 226: 'briard', 227: 'kelpie', 228: 'komondor', 229: 'Old English sheepdog, bobtail', 230: 'Shetland sheepdog, Shetland sheep dog, Shetland', 231: 'collie', 232: 'Border collie', 233: 'Bouvier des Flandres, Bouviers des Flandres', 234: 'Rottweiler', 235: 'German shepherd, German shepherd dog, German police dog, alsatian', 236: 'Doberman, Doberman pinscher', 237: 'miniature pinscher', 238: 'Greater Swiss Mountain dog', 239: 'Bernese mountain dog', 240: 'Appenzeller', 241: 'EntleBucher', 242: 'boxer', 243: 'bull mastiff', 244: 'Tibetan mastiff', 245: 'French bulldog', 246: 'Great Dane', 247: 'Saint Bernard, St Bernard', 248: 'Eskimo dog, husky', 249: 'malamute, malemute, Alaskan malamute', 250: 'Siberian husky', 251: 'dalmatian, coach dog, carriage dog', 252: 'affenpinscher, monkey pinscher, monkey dog', 253: 'basenji', 254: 'pug, pug-dog', 255: 'Leonberg', 256: 'Newfoundland, Newfoundland dog', 257: 'Great Pyrenees', 258: 'Samoyed, Samoyede', 259: 'Pomeranian', 260: 'chow, chow chow', 261: 'keeshond', 262: 'Brabancon griffon', 263: 'Pembroke, Pembroke Welsh corgi', 264: 'Cardigan, Cardigan Welsh corgi', 265: 'toy poodle', 266: 'miniature poodle', 267: 'standard poodle', 268: 'Mexican hairless', 269: 'timber wolf, grey wolf, gray wolf, Canis lupus', 270: 'white wolf, Arctic wolf, Canis lupus tundrarum', 271: 'red wolf, maned wolf, Canis rufus, Canis niger', 272: 'coyote, prairie wolf, brush wolf, Canis latrans', 273: 'dingo, warrigal, warragal, Canis dingo', 274: 'dhole, Cuon alpinus', 275: 'African hunting dog, hyena dog, Cape hunting dog, Lycaon pictus', 276: 'hyena, hyaena', 277: 'red fox, Vulpes vulpes', 278: 'kit fox, Vulpes macrotis', 279: 'Arctic fox, white fox, Alopex lagopus', 280: 'grey fox, gray fox, Urocyon cinereoargenteus', 281: 'tabby, tabby cat', 282: 'tiger cat', 283: 'Persian cat', 284: 'Siamese cat, Siamese', 285: 'Egyptian cat', 286: 'cougar, puma, catamount, mountain lion, painter, panther, Felis concolor', 287: 'lynx, catamount', 288: 'leopard, Panthera pardus', 289: 'snow leopard, ounce, Panthera uncia', 290: 'jaguar, panther, Panthera onca, Felis onca', 291: 'lion, king of beasts, Panthera leo', 292: 'tiger, Panthera tigris', 293: 'cheetah, chetah, Acinonyx jubatus', 294: 'brown bear, bruin, Ursus arctos', 295: 'American black bear, black bear, Ursus americanus, Euarctos americanus', 296: 'ice bear, polar bear, Ursus Maritimus, Thalarctos maritimus', 297: 'sloth bear, Melursus ursinus, Ursus ursinus', 298: 'mongoose', 299: 'meerkat, mierkat', 300: 'tiger beetle', 301: 'ladybug, ladybeetle, lady beetle, ladybird, ladybird beetle', 302: 'ground beetle, carabid beetle', 303: 'long-horned beetle, longicorn, longicorn beetle', 304: 'leaf beetle, chrysomelid', 305: 'dung beetle', 306: 'rhinoceros beetle', 307: 'weevil', 308: 'fly', 309: 'bee', 310: 'ant, emmet, pismire', 311: 'grasshopper, hopper', 312: 'cricket', 313: 'walking stick, walkingstick, stick insect', 314: 'cockroach, roach', 315: 'mantis, mantid', 316: 'cicada, cicala', 317: 'leafhopper', 318: 'lacewing, lacewing fly', 319: \"dragonfly, darning needle, devil's darning needle, sewing needle, snake feeder, snake doctor, mosquito hawk, skeeter hawk\", 320: 'damselfly', 321: 'admiral', 322: 'ringlet, ringlet butterfly', 323: 'monarch, monarch butterfly, milkweed butterfly, Danaus plexippus', 324: 'cabbage butterfly', 325: 'sulphur butterfly, sulfur butterfly', 326: 'lycaenid, lycaenid butterfly', 327: 'starfish, sea star', 328: 'sea urchin', 329: 'sea cucumber, holothurian', 330: 'wood rabbit, cottontail, cottontail rabbit', 331: 'hare', 332: 'Angora, Angora rabbit', 333: 'hamster', 334: 'porcupine, hedgehog', 335: 'fox squirrel, eastern fox squirrel, Sciurus niger', 336: 'marmot', 337: 'beaver', 338: 'guinea pig, Cavia cobaya', 339: 'sorrel', 340: 'zebra', 341: 'hog, pig, grunter, squealer, Sus scrofa', 342: 'wild boar, boar, Sus scrofa', 343: 'warthog', 344: 'hippopotamus, hippo, river horse, Hippopotamus amphibius', 345: 'ox', 346: 'water buffalo, water ox, Asiatic buffalo, Bubalus bubalis', 347: 'bison', 348: 'ram, tup', 349: 'bighorn, bighorn sheep, cimarron, Rocky Mountain bighorn, Rocky Mountain sheep, Ovis canadensis', 350: 'ibex, Capra ibex', 351: 'hartebeest', 352: 'impala, Aepyceros melampus', 353: 'gazelle', 354: 'Arabian camel, dromedary, Camelus dromedarius', 355: 'llama', 356: 'weasel', 357: 'mink', 358: 'polecat, fitch, foulmart, foumart, Mustela putorius', 359: 'black-footed ferret, ferret, Mustela nigripes', 360: 'otter', 361: 'skunk, polecat, wood pussy', 362: 'badger', 363: 'armadillo', 364: 'three-toed sloth, ai, Bradypus tridactylus', 365: 'orangutan, orang, orangutang, Pongo pygmaeus', 366: 'gorilla, Gorilla gorilla', 367: 'chimpanzee, chimp, Pan troglodytes', 368: 'gibbon, Hylobates lar', 369: 'siamang, Hylobates syndactylus, Symphalangus syndactylus', 370: 'guenon, guenon monkey', 371: 'patas, hussar monkey, Erythrocebus patas', 372: 'baboon', 373: 'macaque', 374: 'langur', 375: 'colobus, colobus monkey', 376: 'proboscis monkey, Nasalis larvatus', 377: 'marmoset', 378: 'capuchin, ringtail, Cebus capucinus', 379: 'howler monkey, howler', 380: 'titi, titi monkey', 381: 'spider monkey, Ateles geoffroyi', 382: 'squirrel monkey, Saimiri sciureus', 383: 'Madagascar cat, ring-tailed lemur, Lemur catta', 384: 'indri, indris, Indri indri, Indri brevicaudatus', 385: 'Indian elephant, Elephas maximus', 386: 'African elephant, Loxodonta africana', 387: 'lesser panda, red panda, panda, bear cat, cat bear, Ailurus fulgens', 388: 'giant panda, panda, panda bear, coon bear, Ailuropoda melanoleuca', 389: 'barracouta, snoek', 390: 'eel', 391: 'coho, cohoe, coho salmon, blue jack, silver salmon, Oncorhynchus kisutch', 392: 'rock beauty, Holocanthus tricolor', 393: 'anemone fish', 394: 'sturgeon', 395: 'gar, garfish, garpike, billfish, Lepisosteus osseus', 396: 'lionfish', 397: 'puffer, pufferfish, blowfish, globefish', 398: 'abacus', 399: 'abaya', 400: \"academic gown, academic robe, judge's robe\", 401: 'accordion, piano accordion, squeeze box', 402: 'acoustic guitar', 403: 'aircraft carrier, carrier, flattop, attack aircraft carrier', 404: 'airliner', 405: 'airship, dirigible', 406: 'altar', 407: 'ambulance', 408: 'amphibian, amphibious vehicle', 409: 'analog clock', 410: 'apiary, bee house', 411: 'apron', 412: 'ashcan, trash can, garbage can, wastebin, ash bin, ash-bin, ashbin, dustbin, trash barrel, trash bin', 413: 'assault rifle, assault gun', 414: 'backpack, back pack, knapsack, packsack, rucksack, haversack', 415: 'bakery, bakeshop, bakehouse', 416: 'balance beam, beam', 417: 'balloon', 418: 'ballpoint, ballpoint pen, ballpen, Biro', 419: 'Band Aid', 420: 'banjo', 421: 'bannister, banister, balustrade, balusters, handrail', 422: 'barbell', 423: 'barber chair', 424: 'barbershop', 425: 'barn', 426: 'barometer', 427: 'barrel, cask', 428: 'barrow, garden cart, lawn cart, wheelbarrow', 429: 'baseball', 430: 'basketball', 431: 'bassinet', 432: 'bassoon', 433: 'bathing cap, swimming cap', 434: 'bath towel', 435: 'bathtub, bathing tub, bath, tub', 436: 'beach wagon, station wagon, wagon, estate car, beach waggon, station waggon, waggon', 437: 'beacon, lighthouse, beacon light, pharos', 438: 'beaker', 439: 'bearskin, busby, shako', 440: 'beer bottle', 441: 'beer glass', 442: 'bell cote, bell cot', 443: 'bib', 444: 'bicycle-built-for-two, tandem bicycle, tandem', 445: 'bikini, two-piece', 446: 'binder, ring-binder', 447: 'binoculars, field glasses, opera glasses', 448: 'birdhouse', 449: 'boathouse', 450: 'bobsled, bobsleigh, bob', 451: 'bolo tie, bolo, bola tie, bola', 452: 'bonnet, poke bonnet', 453: 'bookcase', 454: 'bookshop, bookstore, bookstall', 455: 'bottlecap', 456: 'bow', 457: 'bow tie, bow-tie, bowtie', 458: 'brass, memorial tablet, plaque', 459: 'brassiere, bra, bandeau', 460: 'breakwater, groin, groyne, mole, bulwark, seawall, jetty', 461: 'breastplate, aegis, egis', 462: 'broom', 463: 'bucket, pail', 464: 'buckle', 465: 'bulletproof vest', 466: 'bullet train, bullet', 467: 'butcher shop, meat market', 468: 'cab, hack, taxi, taxicab', 469: 'caldron, cauldron', 470: 'candle, taper, wax light', 471: 'cannon', 472: 'canoe', 473: 'can opener, tin opener', 474: 'cardigan', 475: 'car mirror', 476: 'carousel, carrousel, merry-go-round, roundabout, whirligig', 477: \"carpenter's kit, tool kit\", 478: 'carton', 479: 'car wheel', 480: 'cash machine, cash dispenser, automated teller machine, automatic teller machine, automated teller, automatic teller, ATM', 481: 'cassette', 482: 'cassette player', 483: 'castle', 484: 'catamaran', 485: 'CD player', 486: 'cello, violoncello', 487: 'cellular telephone, cellular phone, cellphone, cell, mobile phone', 488: 'chain', 489: 'chainlink fence', 490: 'chain mail, ring mail, mail, chain armor, chain armour, ring armor, ring armour', 491: 'chain saw, chainsaw', 492: 'chest', 493: 'chiffonier, commode', 494: 'chime, bell, gong', 495: 'china cabinet, china closet', 496: 'Christmas stocking', 497: 'church, church building', 498: 'cinema, movie theater, movie theatre, movie house, picture palace', 499: 'cleaver, meat cleaver, chopper', 500: 'cliff dwelling', 501: 'cloak', 502: 'clog, geta, patten, sabot', 503: 'cocktail shaker', 504: 'coffee mug', 505: 'coffeepot', 506: 'coil, spiral, volute, whorl, helix', 507: 'combination lock', 508: 'computer keyboard, keypad', 509: 'confectionery, confectionary, candy store', 510: 'container ship, containership, container vessel', 511: 'convertible', 512: 'corkscrew, bottle screw', 513: 'cornet, horn, trumpet, trump', 514: 'cowboy boot', 515: 'cowboy hat, ten-gallon hat', 516: 'cradle', 517: 'crane', 518: 'crash helmet', 519: 'crate', 520: 'crib, cot', 521: 'Crock Pot', 522: 'croquet ball', 523: 'crutch', 524: 'cuirass', 525: 'dam, dike, dyke', 526: 'desk', 527: 'desktop computer', 528: 'dial telephone, dial phone', 529: 'diaper, nappy, napkin', 530: 'digital clock', 531: 'digital watch', 532: 'dining table, board', 533: 'dishrag, dishcloth', 534: 'dishwasher, dish washer, dishwashing machine', 535: 'disk brake, disc brake', 536: 'dock, dockage, docking facility', 537: 'dogsled, dog sled, dog sleigh', 538: 'dome', 539: 'doormat, welcome mat', 540: 'drilling platform, offshore rig', 541: 'drum, membranophone, tympan', 542: 'drumstick', 543: 'dumbbell', 544: 'Dutch oven', 545: 'electric fan, blower', 546: 'electric guitar', 547: 'electric locomotive', 548: 'entertainment center', 549: 'envelope', 550: 'espresso maker', 551: 'face powder', 552: 'feather boa, boa', 553: 'file, file cabinet, filing cabinet', 554: 'fireboat', 555: 'fire engine, fire truck', 556: 'fire screen, fireguard', 557: 'flagpole, flagstaff', 558: 'flute, transverse flute', 559: 'folding chair', 560: 'football helmet', 561: 'forklift', 562: 'fountain', 563: 'fountain pen', 564: 'four-poster', 565: 'freight car', 566: 'French horn, horn', 567: 'frying pan, frypan, skillet', 568: 'fur coat', 569: 'garbage truck, dustcart', 570: 'gasmask, respirator, gas helmet', 571: 'gas pump, gasoline pump, petrol pump, island dispenser', 572: 'goblet', 573: 'go-kart', 574: 'golf ball', 575: 'golfcart, golf cart', 576: 'gondola', 577: 'gong, tam-tam', 578: 'gown', 579: 'grand piano, grand', 580: 'greenhouse, nursery, glasshouse', 581: 'grille, radiator grille', 582: 'grocery store, grocery, food market, market', 583: 'guillotine', 584: 'hair slide', 585: 'hair spray', 586: 'half track', 587: 'hammer', 588: 'hamper', 589: 'hand blower, blow dryer, blow drier, hair dryer, hair drier', 590: 'hand-held computer, hand-held microcomputer', 591: 'handkerchief, hankie, hanky, hankey', 592: 'hard disc, hard disk, fixed disk', 593: 'harmonica, mouth organ, harp, mouth harp', 594: 'harp', 595: 'harvester, reaper', 596: 'hatchet', 597: 'holster', 598: 'home theater, home theatre', 599: 'honeycomb', 600: 'hook, claw', 601: 'hoopskirt, crinoline', 602: 'horizontal bar, high bar', 603: 'horse cart, horse-cart', 604: 'hourglass', 605: 'iPod', 606: 'iron, smoothing iron', 607: \"jack-o'-lantern\", 608: 'jean, blue jean, denim', 609: 'jeep, landrover', 610: 'jersey, T-shirt, tee shirt', 611: 'jigsaw puzzle', 612: 'jinrikisha, ricksha, rickshaw', 613: 'joystick', 614: 'kimono', 615: 'knee pad', 616: 'knot', 617: 'lab coat, laboratory coat', 618: 'ladle', 619: 'lampshade, lamp shade', 620: 'laptop, laptop computer', 621: 'lawn mower, mower', 622: 'lens cap, lens cover', 623: 'letter opener, paper knife, paperknife', 624: 'library', 625: 'lifeboat', 626: 'lighter, light, igniter, ignitor', 627: 'limousine, limo', 628: 'liner, ocean liner', 629: 'lipstick, lip rouge', 630: 'Loafer', 631: 'lotion', 632: 'loudspeaker, speaker, speaker unit, loudspeaker system, speaker system', 633: \"loupe, jeweler's loupe\", 634: 'lumbermill, sawmill', 635: 'magnetic compass', 636: 'mailbag, postbag', 637: 'mailbox, letter box', 638: 'maillot', 639: 'maillot, tank suit', 640: 'manhole cover', 641: 'maraca', 642: 'marimba, xylophone', 643: 'mask', 644: 'matchstick', 645: 'maypole', 646: 'maze, labyrinth', 647: 'measuring cup', 648: 'medicine chest, medicine cabinet', 649: 'megalith, megalithic structure', 650: 'microphone, mike', 651: 'microwave, microwave oven', 652: 'military uniform', 653: 'milk can', 654: 'minibus', 655: 'miniskirt, mini', 656: 'minivan', 657: 'missile', 658: 'mitten', 659: 'mixing bowl', 660: 'mobile home, manufactured home', 661: 'Model T', 662: 'modem', 663: 'monastery', 664: 'monitor', 665: 'moped', 666: 'mortar', 667: 'mortarboard', 668: 'mosque', 669: 'mosquito net', 670: 'motor scooter, scooter', 671: 'mountain bike, all-terrain bike, off-roader', 672: 'mountain tent', 673: 'mouse, computer mouse', 674: 'mousetrap', 675: 'moving van', 676: 'muzzle', 677: 'nail', 678: 'neck brace', 679: 'necklace', 680: 'nipple', 681: 'notebook, notebook computer', 682: 'obelisk', 683: 'oboe, hautboy, hautbois', 684: 'ocarina, sweet potato', 685: 'odometer, hodometer, mileometer, milometer', 686: 'oil filter', 687: 'organ, pipe organ', 688: 'oscilloscope, scope, cathode-ray oscilloscope, CRO', 689: 'overskirt', 690: 'oxcart', 691: 'oxygen mask', 692: 'packet', 693: 'paddle, boat paddle', 694: 'paddlewheel, paddle wheel', 695: 'padlock', 696: 'paintbrush', 697: \"pajama, pyjama, pj's, jammies\", 698: 'palace', 699: 'panpipe, pandean pipe, syrinx', 700: 'paper towel', 701: 'parachute, chute', 702: 'parallel bars, bars', 703: 'park bench', 704: 'parking meter', 705: 'passenger car, coach, carriage', 706: 'patio, terrace', 707: 'pay-phone, pay-station', 708: 'pedestal, plinth, footstall', 709: 'pencil box, pencil case', 710: 'pencil sharpener', 711: 'perfume, essence', 712: 'Petri dish', 713: 'photocopier', 714: 'pick, plectrum, plectron', 715: 'pickelhaube', 716: 'picket fence, paling', 717: 'pickup, pickup truck', 718: 'pier', 719: 'piggy bank, penny bank', 720: 'pill bottle', 721: 'pillow', 722: 'ping-pong ball', 723: 'pinwheel', 724: 'pirate, pirate ship', 725: 'pitcher, ewer', 726: \"plane, carpenter's plane, woodworking plane\", 727: 'planetarium', 728: 'plastic bag', 729: 'plate rack', 730: 'plow, plough', 731: \"plunger, plumber's helper\", 732: 'Polaroid camera, Polaroid Land camera', 733: 'pole', 734: 'police van, police wagon, paddy wagon, patrol wagon, wagon, black Maria', 735: 'poncho', 736: 'pool table, billiard table, snooker table', 737: 'pop bottle, soda bottle', 738: 'pot, flowerpot', 739: \"potter's wheel\", 740: 'power drill', 741: 'prayer rug, prayer mat', 742: 'printer', 743: 'prison, prison house', 744: 'projectile, missile', 745: 'projector', 746: 'puck, hockey puck', 747: 'punching bag, punch bag, punching ball, punchball', 748: 'purse', 749: 'quill, quill pen', 750: 'quilt, comforter, comfort, puff', 751: 'racer, race car, racing car', 752: 'racket, racquet', 753: 'radiator', 754: 'radio, wireless', 755: 'radio telescope, radio reflector', 756: 'rain barrel', 757: 'recreational vehicle, RV, R.V.', 758: 'reel', 759: 'reflex camera', 760: 'refrigerator, icebox', 761: 'remote control, remote', 762: 'restaurant, eating house, eating place, eatery', 763: 'revolver, six-gun, six-shooter', 764: 'rifle', 765: 'rocking chair, rocker', 766: 'rotisserie', 767: 'rubber eraser, rubber, pencil eraser', 768: 'rugby ball', 769: 'rule, ruler', 770: 'running shoe', 771: 'safe', 772: 'safety pin', 773: 'saltshaker, salt shaker', 774: 'sandal', 775: 'sarong', 776: 'sax, saxophone', 777: 'scabbard', 778: 'scale, weighing machine', 779: 'school bus', 780: 'schooner', 781: 'scoreboard', 782: 'screen, CRT screen', 783: 'screw', 784: 'screwdriver', 785: 'seat belt, seatbelt', 786: 'sewing machine', 787: 'shield, buckler', 788: 'shoe shop, shoe-shop, shoe store', 789: 'shoji', 790: 'shopping basket', 791: 'shopping cart', 792: 'shovel', 793: 'shower cap', 794: 'shower curtain', 795: 'ski', 796: 'ski mask', 797: 'sleeping bag', 798: 'slide rule, slipstick', 799: 'sliding door', 800: 'slot, one-armed bandit', 801: 'snorkel', 802: 'snowmobile', 803: 'snowplow, snowplough', 804: 'soap dispenser', 805: 'soccer ball', 806: 'sock', 807: 'solar dish, solar collector, solar furnace', 808: 'sombrero', 809: 'soup bowl', 810: 'space bar', 811: 'space heater', 812: 'space shuttle', 813: 'spatula', 814: 'speedboat', 815: \"spider web, spider's web\", 816: 'spindle', 817: 'sports car, sport car', 818: 'spotlight, spot', 819: 'stage', 820: 'steam locomotive', 821: 'steel arch bridge', 822: 'steel drum', 823: 'stethoscope', 824: 'stole', 825: 'stone wall', 826: 'stopwatch, stop watch', 827: 'stove', 828: 'strainer', 829: 'streetcar, tram, tramcar, trolley, trolley car', 830: 'stretcher', 831: 'studio couch, day bed', 832: 'stupa, tope', 833: 'submarine, pigboat, sub, U-boat', 834: 'suit, suit of clothes', 835: 'sundial', 836: 'sunglass', 837: 'sunglasses, dark glasses, shades', 838: 'sunscreen, sunblock, sun blocker', 839: 'suspension bridge', 840: 'swab, swob, mop', 841: 'sweatshirt', 842: 'swimming trunks, bathing trunks', 843: 'swing', 844: 'switch, electric switch, electrical switch', 845: 'syringe', 846: 'table lamp', 847: 'tank, army tank, armored combat vehicle, armoured combat vehicle', 848: 'tape player', 849: 'teapot', 850: 'teddy, teddy bear', 851: 'television, television system', 852: 'tennis ball', 853: 'thatch, thatched roof', 854: 'theater curtain, theatre curtain', 855: 'thimble', 856: 'thresher, thrasher, threshing machine', 857: 'throne', 858: 'tile roof', 859: 'toaster', 860: 'tobacco shop, tobacconist shop, tobacconist', 861: 'toilet seat', 862: 'torch', 863: 'totem pole', 864: 'tow truck, tow car, wrecker', 865: 'toyshop', 866: 'tractor', 867: 'trailer truck, tractor trailer, trucking rig, rig, articulated lorry, semi', 868: 'tray', 869: 'trench coat', 870: 'tricycle, trike, velocipede', 871: 'trimaran', 872: 'tripod', 873: 'triumphal arch', 874: 'trolleybus, trolley coach, trackless trolley', 875: 'trombone', 876: 'tub, vat', 877: 'turnstile', 878: 'typewriter keyboard', 879: 'umbrella', 880: 'unicycle, monocycle', 881: 'upright, upright piano', 882: 'vacuum, vacuum cleaner', 883: 'vase', 884: 'vault', 885: 'velvet', 886: 'vending machine', 887: 'vestment', 888: 'viaduct', 889: 'violin, fiddle', 890: 'volleyball', 891: 'waffle iron', 892: 'wall clock', 893: 'wallet, billfold, notecase, pocketbook', 894: 'wardrobe, closet, press', 895: 'warplane, military plane', 896: 'washbasin, handbasin, washbowl, lavabo, wash-hand basin', 897: 'washer, automatic washer, washing machine', 898: 'water bottle', 899: 'water jug', 900: 'water tower', 901: 'whiskey jug', 902: 'whistle', 903: 'wig', 904: 'window screen', 905: 'window shade', 906: 'Windsor tie', 907: 'wine bottle', 908: 'wing', 909: 'wok', 910: 'wooden spoon', 911: 'wool, woolen, woollen', 912: 'worm fence, snake fence, snake-rail fence, Virginia fence', 913: 'wreck', 914: 'yawl', 915: 'yurt', 916: 'web site, website, internet site, site', 917: 'comic book', 918: 'crossword puzzle, crossword', 919: 'street sign', 920: 'traffic light, traffic signal, stoplight', 921: 'book jacket, dust cover, dust jacket, dust wrapper', 922: 'menu', 923: 'plate', 924: 'guacamole', 925: 'consomme', 926: 'hot pot, hotpot', 927: 'trifle', 928: 'ice cream, icecream', 929: 'ice lolly, lolly, lollipop, popsicle', 930: 'French loaf', 931: 'bagel, beigel', 932: 'pretzel', 933: 'cheeseburger', 934: 'hotdog, hot dog, red hot', 935: 'mashed potato', 936: 'head cabbage', 937: 'broccoli', 938: 'cauliflower', 939: 'zucchini, courgette', 940: 'spaghetti squash', 941: 'acorn squash', 942: 'butternut squash', 943: 'cucumber, cuke', 944: 'artichoke, globe artichoke', 945: 'bell pepper', 946: 'cardoon', 947: 'mushroom', 948: 'Granny Smith', 949: 'strawberry', 950: 'orange', 951: 'lemon', 952: 'fig', 953: 'pineapple, ananas', 954: 'banana', 955: 'jackfruit, jak, jack', 956: 'custard apple', 957: 'pomegranate', 958: 'hay', 959: 'carbonara', 960: 'chocolate sauce, chocolate syrup', 961: 'dough', 962: 'meat loaf, meatloaf', 963: 'pizza, pizza pie', 964: 'potpie', 965: 'burrito', 966: 'red wine', 967: 'espresso', 968: 'cup', 969: 'eggnog', 970: 'alp', 971: 'bubble', 972: 'cliff, drop, drop-off', 973: 'coral reef', 974: 'geyser', 975: 'lakeside, lakeshore', 976: 'promontory, headland, head, foreland', 977: 'sandbar, sand bar', 978: 'seashore, coast, seacoast, sea-coast', 979: 'valley, vale', 980: 'volcano', 981: 'ballplayer, baseball player', 982: 'groom, bridegroom', 983: 'scuba diver', 984: 'rapeseed', 985: 'daisy', 986: \"yellow lady's slipper, yellow lady-slipper, Cypripedium calceolus, Cypripedium parviflorum\", 987: 'corn', 988: 'acorn', 989: 'hip, rose hip, rosehip', 990: 'buckeye, horse chestnut, conker', 991: 'coral fungus', 992: 'agaric', 993: 'gyromitra', 994: 'stinkhorn, carrion fungus', 995: 'earthstar', 996: 'hen-of-the-woods, hen of the woods, Polyporus frondosus, Grifola frondosa', 997: 'bolete', 998: 'ear, spike, capitulum', 999: 'toilet tissue, toilet paper, bathroom tissue'}\n"
          ]
        }
      ]
    },
    {
      "cell_type": "code",
      "source": [
        "in_count = {}\n",
        "for i in range(len(image_net_classes)):\n",
        "  in_count[image_net_classes[i]] = [0] \n",
        "\n",
        "confusion = {}\n",
        "for i in range(len(cifar_classes)):\n",
        "  confusion[cifar_classes[i]] = []"
      ],
      "metadata": {
        "id": "UPAmM5b0HMss"
      },
      "execution_count": null,
      "outputs": []
    },
    {
      "cell_type": "code",
      "source": [
        "print(confusion)"
      ],
      "metadata": {
        "colab": {
          "base_uri": "https://localhost:8080/"
        },
        "id": "-7bziiTVGvYR",
        "outputId": "b12347f5-d4b2-4f00-c02e-b4a7723700a8"
      },
      "execution_count": null,
      "outputs": [
        {
          "output_type": "stream",
          "name": "stdout",
          "text": [
            "{'airplane': [], 'automobile': [], 'bird': [], 'cat': [], 'deer': [], 'dog': [], 'frog': [], 'horse': [], 'ship': [], 'truck': []}\n"
          ]
        }
      ]
    },
    {
      "cell_type": "code",
      "source": [
        "print(in_count)"
      ],
      "metadata": {
        "colab": {
          "base_uri": "https://localhost:8080/"
        },
        "id": "rMZm6gV8IOr4",
        "outputId": "ef474ef1-d402-4a3e-ede0-54324b3daee7"
      },
      "execution_count": null,
      "outputs": [
        {
          "output_type": "stream",
          "name": "stdout",
          "text": [
            "{'tench, Tinca tinca': [0], 'goldfish, Carassius auratus': [0], 'great white shark, white shark, man-eater, man-eating shark, Carcharodon carcharias': [0], 'tiger shark, Galeocerdo cuvieri': [0], 'hammerhead, hammerhead shark': [0], 'electric ray, crampfish, numbfish, torpedo': [0], 'stingray': [0], 'cock': [0], 'hen': [0], 'ostrich, Struthio camelus': [0], 'brambling, Fringilla montifringilla': [0], 'goldfinch, Carduelis carduelis': [0], 'house finch, linnet, Carpodacus mexicanus': [0], 'junco, snowbird': [0], 'indigo bunting, indigo finch, indigo bird, Passerina cyanea': [0], 'robin, American robin, Turdus migratorius': [0], 'bulbul': [0], 'jay': [0], 'magpie': [0], 'chickadee': [0], 'water ouzel, dipper': [0], 'kite': [0], 'bald eagle, American eagle, Haliaeetus leucocephalus': [0], 'vulture': [0], 'great grey owl, great gray owl, Strix nebulosa': [0], 'European fire salamander, Salamandra salamandra': [0], 'common newt, Triturus vulgaris': [0], 'eft': [0], 'spotted salamander, Ambystoma maculatum': [0], 'axolotl, mud puppy, Ambystoma mexicanum': [0], 'bullfrog, Rana catesbeiana': [0], 'tree frog, tree-frog': [0], 'tailed frog, bell toad, ribbed toad, tailed toad, Ascaphus trui': [0], 'loggerhead, loggerhead turtle, Caretta caretta': [0], 'leatherback turtle, leatherback, leathery turtle, Dermochelys coriacea': [0], 'mud turtle': [0], 'terrapin': [0], 'box turtle, box tortoise': [0], 'banded gecko': [0], 'common iguana, iguana, Iguana iguana': [0], 'American chameleon, anole, Anolis carolinensis': [0], 'whiptail, whiptail lizard': [0], 'agama': [0], 'frilled lizard, Chlamydosaurus kingi': [0], 'alligator lizard': [0], 'Gila monster, Heloderma suspectum': [0], 'green lizard, Lacerta viridis': [0], 'African chameleon, Chamaeleo chamaeleon': [0], 'Komodo dragon, Komodo lizard, dragon lizard, giant lizard, Varanus komodoensis': [0], 'African crocodile, Nile crocodile, Crocodylus niloticus': [0], 'American alligator, Alligator mississipiensis': [0], 'triceratops': [0], 'thunder snake, worm snake, Carphophis amoenus': [0], 'ringneck snake, ring-necked snake, ring snake': [0], 'hognose snake, puff adder, sand viper': [0], 'green snake, grass snake': [0], 'king snake, kingsnake': [0], 'garter snake, grass snake': [0], 'water snake': [0], 'vine snake': [0], 'night snake, Hypsiglena torquata': [0], 'boa constrictor, Constrictor constrictor': [0], 'rock python, rock snake, Python sebae': [0], 'Indian cobra, Naja naja': [0], 'green mamba': [0], 'sea snake': [0], 'horned viper, cerastes, sand viper, horned asp, Cerastes cornutus': [0], 'diamondback, diamondback rattlesnake, Crotalus adamanteus': [0], 'sidewinder, horned rattlesnake, Crotalus cerastes': [0], 'trilobite': [0], 'harvestman, daddy longlegs, Phalangium opilio': [0], 'scorpion': [0], 'black and gold garden spider, Argiope aurantia': [0], 'barn spider, Araneus cavaticus': [0], 'garden spider, Aranea diademata': [0], 'black widow, Latrodectus mactans': [0], 'tarantula': [0], 'wolf spider, hunting spider': [0], 'tick': [0], 'centipede': [0], 'black grouse': [0], 'ptarmigan': [0], 'ruffed grouse, partridge, Bonasa umbellus': [0], 'prairie chicken, prairie grouse, prairie fowl': [0], 'peacock': [0], 'quail': [0], 'partridge': [0], 'African grey, African gray, Psittacus erithacus': [0], 'macaw': [0], 'sulphur-crested cockatoo, Kakatoe galerita, Cacatua galerita': [0], 'lorikeet': [0], 'coucal': [0], 'bee eater': [0], 'hornbill': [0], 'hummingbird': [0], 'jacamar': [0], 'toucan': [0], 'drake': [0], 'red-breasted merganser, Mergus serrator': [0], 'goose': [0], 'black swan, Cygnus atratus': [0], 'tusker': [0], 'echidna, spiny anteater, anteater': [0], 'platypus, duckbill, duckbilled platypus, duck-billed platypus, Ornithorhynchus anatinus': [0], 'wallaby, brush kangaroo': [0], 'koala, koala bear, kangaroo bear, native bear, Phascolarctos cinereus': [0], 'wombat': [0], 'jellyfish': [0], 'sea anemone, anemone': [0], 'brain coral': [0], 'flatworm, platyhelminth': [0], 'nematode, nematode worm, roundworm': [0], 'conch': [0], 'snail': [0], 'slug': [0], 'sea slug, nudibranch': [0], 'chiton, coat-of-mail shell, sea cradle, polyplacophore': [0], 'chambered nautilus, pearly nautilus, nautilus': [0], 'Dungeness crab, Cancer magister': [0], 'rock crab, Cancer irroratus': [0], 'fiddler crab': [0], 'king crab, Alaska crab, Alaskan king crab, Alaska king crab, Paralithodes camtschatica': [0], 'American lobster, Northern lobster, Maine lobster, Homarus americanus': [0], 'spiny lobster, langouste, rock lobster, crawfish, crayfish, sea crawfish': [0], 'crayfish, crawfish, crawdad, crawdaddy': [0], 'hermit crab': [0], 'isopod': [0], 'white stork, Ciconia ciconia': [0], 'black stork, Ciconia nigra': [0], 'spoonbill': [0], 'flamingo': [0], 'little blue heron, Egretta caerulea': [0], 'American egret, great white heron, Egretta albus': [0], 'bittern': [0], 'crane': [0], 'limpkin, Aramus pictus': [0], 'European gallinule, Porphyrio porphyrio': [0], 'American coot, marsh hen, mud hen, water hen, Fulica americana': [0], 'bustard': [0], 'ruddy turnstone, Arenaria interpres': [0], 'red-backed sandpiper, dunlin, Erolia alpina': [0], 'redshank, Tringa totanus': [0], 'dowitcher': [0], 'oystercatcher, oyster catcher': [0], 'pelican': [0], 'king penguin, Aptenodytes patagonica': [0], 'albatross, mollymawk': [0], 'grey whale, gray whale, devilfish, Eschrichtius gibbosus, Eschrichtius robustus': [0], 'killer whale, killer, orca, grampus, sea wolf, Orcinus orca': [0], 'dugong, Dugong dugon': [0], 'sea lion': [0], 'Chihuahua': [0], 'Japanese spaniel': [0], 'Maltese dog, Maltese terrier, Maltese': [0], 'Pekinese, Pekingese, Peke': [0], 'Shih-Tzu': [0], 'Blenheim spaniel': [0], 'papillon': [0], 'toy terrier': [0], 'Rhodesian ridgeback': [0], 'Afghan hound, Afghan': [0], 'basset, basset hound': [0], 'beagle': [0], 'bloodhound, sleuthhound': [0], 'bluetick': [0], 'black-and-tan coonhound': [0], 'Walker hound, Walker foxhound': [0], 'English foxhound': [0], 'redbone': [0], 'borzoi, Russian wolfhound': [0], 'Irish wolfhound': [0], 'Italian greyhound': [0], 'whippet': [0], 'Ibizan hound, Ibizan Podenco': [0], 'Norwegian elkhound, elkhound': [0], 'otterhound, otter hound': [0], 'Saluki, gazelle hound': [0], 'Scottish deerhound, deerhound': [0], 'Weimaraner': [0], 'Staffordshire bullterrier, Staffordshire bull terrier': [0], 'American Staffordshire terrier, Staffordshire terrier, American pit bull terrier, pit bull terrier': [0], 'Bedlington terrier': [0], 'Border terrier': [0], 'Kerry blue terrier': [0], 'Irish terrier': [0], 'Norfolk terrier': [0], 'Norwich terrier': [0], 'Yorkshire terrier': [0], 'wire-haired fox terrier': [0], 'Lakeland terrier': [0], 'Sealyham terrier, Sealyham': [0], 'Airedale, Airedale terrier': [0], 'cairn, cairn terrier': [0], 'Australian terrier': [0], 'Dandie Dinmont, Dandie Dinmont terrier': [0], 'Boston bull, Boston terrier': [0], 'miniature schnauzer': [0], 'giant schnauzer': [0], 'standard schnauzer': [0], 'Scotch terrier, Scottish terrier, Scottie': [0], 'Tibetan terrier, chrysanthemum dog': [0], 'silky terrier, Sydney silky': [0], 'soft-coated wheaten terrier': [0], 'West Highland white terrier': [0], 'Lhasa, Lhasa apso': [0], 'flat-coated retriever': [0], 'curly-coated retriever': [0], 'golden retriever': [0], 'Labrador retriever': [0], 'Chesapeake Bay retriever': [0], 'German short-haired pointer': [0], 'vizsla, Hungarian pointer': [0], 'English setter': [0], 'Irish setter, red setter': [0], 'Gordon setter': [0], 'Brittany spaniel': [0], 'clumber, clumber spaniel': [0], 'English springer, English springer spaniel': [0], 'Welsh springer spaniel': [0], 'cocker spaniel, English cocker spaniel, cocker': [0], 'Sussex spaniel': [0], 'Irish water spaniel': [0], 'kuvasz': [0], 'schipperke': [0], 'groenendael': [0], 'malinois': [0], 'briard': [0], 'kelpie': [0], 'komondor': [0], 'Old English sheepdog, bobtail': [0], 'Shetland sheepdog, Shetland sheep dog, Shetland': [0], 'collie': [0], 'Border collie': [0], 'Bouvier des Flandres, Bouviers des Flandres': [0], 'Rottweiler': [0], 'German shepherd, German shepherd dog, German police dog, alsatian': [0], 'Doberman, Doberman pinscher': [0], 'miniature pinscher': [0], 'Greater Swiss Mountain dog': [0], 'Bernese mountain dog': [0], 'Appenzeller': [0], 'EntleBucher': [0], 'boxer': [0], 'bull mastiff': [0], 'Tibetan mastiff': [0], 'French bulldog': [0], 'Great Dane': [0], 'Saint Bernard, St Bernard': [0], 'Eskimo dog, husky': [0], 'malamute, malemute, Alaskan malamute': [0], 'Siberian husky': [0], 'dalmatian, coach dog, carriage dog': [0], 'affenpinscher, monkey pinscher, monkey dog': [0], 'basenji': [0], 'pug, pug-dog': [0], 'Leonberg': [0], 'Newfoundland, Newfoundland dog': [0], 'Great Pyrenees': [0], 'Samoyed, Samoyede': [0], 'Pomeranian': [0], 'chow, chow chow': [0], 'keeshond': [0], 'Brabancon griffon': [0], 'Pembroke, Pembroke Welsh corgi': [0], 'Cardigan, Cardigan Welsh corgi': [0], 'toy poodle': [0], 'miniature poodle': [0], 'standard poodle': [0], 'Mexican hairless': [0], 'timber wolf, grey wolf, gray wolf, Canis lupus': [0], 'white wolf, Arctic wolf, Canis lupus tundrarum': [0], 'red wolf, maned wolf, Canis rufus, Canis niger': [0], 'coyote, prairie wolf, brush wolf, Canis latrans': [0], 'dingo, warrigal, warragal, Canis dingo': [0], 'dhole, Cuon alpinus': [0], 'African hunting dog, hyena dog, Cape hunting dog, Lycaon pictus': [0], 'hyena, hyaena': [0], 'red fox, Vulpes vulpes': [0], 'kit fox, Vulpes macrotis': [0], 'Arctic fox, white fox, Alopex lagopus': [0], 'grey fox, gray fox, Urocyon cinereoargenteus': [0], 'tabby, tabby cat': [0], 'tiger cat': [0], 'Persian cat': [0], 'Siamese cat, Siamese': [0], 'Egyptian cat': [0], 'cougar, puma, catamount, mountain lion, painter, panther, Felis concolor': [0], 'lynx, catamount': [0], 'leopard, Panthera pardus': [0], 'snow leopard, ounce, Panthera uncia': [0], 'jaguar, panther, Panthera onca, Felis onca': [0], 'lion, king of beasts, Panthera leo': [0], 'tiger, Panthera tigris': [0], 'cheetah, chetah, Acinonyx jubatus': [0], 'brown bear, bruin, Ursus arctos': [0], 'American black bear, black bear, Ursus americanus, Euarctos americanus': [0], 'ice bear, polar bear, Ursus Maritimus, Thalarctos maritimus': [0], 'sloth bear, Melursus ursinus, Ursus ursinus': [0], 'mongoose': [0], 'meerkat, mierkat': [0], 'tiger beetle': [0], 'ladybug, ladybeetle, lady beetle, ladybird, ladybird beetle': [0], 'ground beetle, carabid beetle': [0], 'long-horned beetle, longicorn, longicorn beetle': [0], 'leaf beetle, chrysomelid': [0], 'dung beetle': [0], 'rhinoceros beetle': [0], 'weevil': [0], 'fly': [0], 'bee': [0], 'ant, emmet, pismire': [0], 'grasshopper, hopper': [0], 'cricket': [0], 'walking stick, walkingstick, stick insect': [0], 'cockroach, roach': [0], 'mantis, mantid': [0], 'cicada, cicala': [0], 'leafhopper': [0], 'lacewing, lacewing fly': [0], \"dragonfly, darning needle, devil's darning needle, sewing needle, snake feeder, snake doctor, mosquito hawk, skeeter hawk\": [0], 'damselfly': [0], 'admiral': [0], 'ringlet, ringlet butterfly': [0], 'monarch, monarch butterfly, milkweed butterfly, Danaus plexippus': [0], 'cabbage butterfly': [0], 'sulphur butterfly, sulfur butterfly': [0], 'lycaenid, lycaenid butterfly': [0], 'starfish, sea star': [0], 'sea urchin': [0], 'sea cucumber, holothurian': [0], 'wood rabbit, cottontail, cottontail rabbit': [0], 'hare': [0], 'Angora, Angora rabbit': [0], 'hamster': [0], 'porcupine, hedgehog': [0], 'fox squirrel, eastern fox squirrel, Sciurus niger': [0], 'marmot': [0], 'beaver': [0], 'guinea pig, Cavia cobaya': [0], 'sorrel': [0], 'zebra': [0], 'hog, pig, grunter, squealer, Sus scrofa': [0], 'wild boar, boar, Sus scrofa': [0], 'warthog': [0], 'hippopotamus, hippo, river horse, Hippopotamus amphibius': [0], 'ox': [0], 'water buffalo, water ox, Asiatic buffalo, Bubalus bubalis': [0], 'bison': [0], 'ram, tup': [0], 'bighorn, bighorn sheep, cimarron, Rocky Mountain bighorn, Rocky Mountain sheep, Ovis canadensis': [0], 'ibex, Capra ibex': [0], 'hartebeest': [0], 'impala, Aepyceros melampus': [0], 'gazelle': [0], 'Arabian camel, dromedary, Camelus dromedarius': [0], 'llama': [0], 'weasel': [0], 'mink': [0], 'polecat, fitch, foulmart, foumart, Mustela putorius': [0], 'black-footed ferret, ferret, Mustela nigripes': [0], 'otter': [0], 'skunk, polecat, wood pussy': [0], 'badger': [0], 'armadillo': [0], 'three-toed sloth, ai, Bradypus tridactylus': [0], 'orangutan, orang, orangutang, Pongo pygmaeus': [0], 'gorilla, Gorilla gorilla': [0], 'chimpanzee, chimp, Pan troglodytes': [0], 'gibbon, Hylobates lar': [0], 'siamang, Hylobates syndactylus, Symphalangus syndactylus': [0], 'guenon, guenon monkey': [0], 'patas, hussar monkey, Erythrocebus patas': [0], 'baboon': [0], 'macaque': [0], 'langur': [0], 'colobus, colobus monkey': [0], 'proboscis monkey, Nasalis larvatus': [0], 'marmoset': [0], 'capuchin, ringtail, Cebus capucinus': [0], 'howler monkey, howler': [0], 'titi, titi monkey': [0], 'spider monkey, Ateles geoffroyi': [0], 'squirrel monkey, Saimiri sciureus': [0], 'Madagascar cat, ring-tailed lemur, Lemur catta': [0], 'indri, indris, Indri indri, Indri brevicaudatus': [0], 'Indian elephant, Elephas maximus': [0], 'African elephant, Loxodonta africana': [0], 'lesser panda, red panda, panda, bear cat, cat bear, Ailurus fulgens': [0], 'giant panda, panda, panda bear, coon bear, Ailuropoda melanoleuca': [0], 'barracouta, snoek': [0], 'eel': [0], 'coho, cohoe, coho salmon, blue jack, silver salmon, Oncorhynchus kisutch': [0], 'rock beauty, Holocanthus tricolor': [0], 'anemone fish': [0], 'sturgeon': [0], 'gar, garfish, garpike, billfish, Lepisosteus osseus': [0], 'lionfish': [0], 'puffer, pufferfish, blowfish, globefish': [0], 'abacus': [0], 'abaya': [0], \"academic gown, academic robe, judge's robe\": [0], 'accordion, piano accordion, squeeze box': [0], 'acoustic guitar': [0], 'aircraft carrier, carrier, flattop, attack aircraft carrier': [0], 'airliner': [0], 'airship, dirigible': [0], 'altar': [0], 'ambulance': [0], 'amphibian, amphibious vehicle': [0], 'analog clock': [0], 'apiary, bee house': [0], 'apron': [0], 'ashcan, trash can, garbage can, wastebin, ash bin, ash-bin, ashbin, dustbin, trash barrel, trash bin': [0], 'assault rifle, assault gun': [0], 'backpack, back pack, knapsack, packsack, rucksack, haversack': [0], 'bakery, bakeshop, bakehouse': [0], 'balance beam, beam': [0], 'balloon': [0], 'ballpoint, ballpoint pen, ballpen, Biro': [0], 'Band Aid': [0], 'banjo': [0], 'bannister, banister, balustrade, balusters, handrail': [0], 'barbell': [0], 'barber chair': [0], 'barbershop': [0], 'barn': [0], 'barometer': [0], 'barrel, cask': [0], 'barrow, garden cart, lawn cart, wheelbarrow': [0], 'baseball': [0], 'basketball': [0], 'bassinet': [0], 'bassoon': [0], 'bathing cap, swimming cap': [0], 'bath towel': [0], 'bathtub, bathing tub, bath, tub': [0], 'beach wagon, station wagon, wagon, estate car, beach waggon, station waggon, waggon': [0], 'beacon, lighthouse, beacon light, pharos': [0], 'beaker': [0], 'bearskin, busby, shako': [0], 'beer bottle': [0], 'beer glass': [0], 'bell cote, bell cot': [0], 'bib': [0], 'bicycle-built-for-two, tandem bicycle, tandem': [0], 'bikini, two-piece': [0], 'binder, ring-binder': [0], 'binoculars, field glasses, opera glasses': [0], 'birdhouse': [0], 'boathouse': [0], 'bobsled, bobsleigh, bob': [0], 'bolo tie, bolo, bola tie, bola': [0], 'bonnet, poke bonnet': [0], 'bookcase': [0], 'bookshop, bookstore, bookstall': [0], 'bottlecap': [0], 'bow': [0], 'bow tie, bow-tie, bowtie': [0], 'brass, memorial tablet, plaque': [0], 'brassiere, bra, bandeau': [0], 'breakwater, groin, groyne, mole, bulwark, seawall, jetty': [0], 'breastplate, aegis, egis': [0], 'broom': [0], 'bucket, pail': [0], 'buckle': [0], 'bulletproof vest': [0], 'bullet train, bullet': [0], 'butcher shop, meat market': [0], 'cab, hack, taxi, taxicab': [0], 'caldron, cauldron': [0], 'candle, taper, wax light': [0], 'cannon': [0], 'canoe': [0], 'can opener, tin opener': [0], 'cardigan': [0], 'car mirror': [0], 'carousel, carrousel, merry-go-round, roundabout, whirligig': [0], \"carpenter's kit, tool kit\": [0], 'carton': [0], 'car wheel': [0], 'cash machine, cash dispenser, automated teller machine, automatic teller machine, automated teller, automatic teller, ATM': [0], 'cassette': [0], 'cassette player': [0], 'castle': [0], 'catamaran': [0], 'CD player': [0], 'cello, violoncello': [0], 'cellular telephone, cellular phone, cellphone, cell, mobile phone': [0], 'chain': [0], 'chainlink fence': [0], 'chain mail, ring mail, mail, chain armor, chain armour, ring armor, ring armour': [0], 'chain saw, chainsaw': [0], 'chest': [0], 'chiffonier, commode': [0], 'chime, bell, gong': [0], 'china cabinet, china closet': [0], 'Christmas stocking': [0], 'church, church building': [0], 'cinema, movie theater, movie theatre, movie house, picture palace': [0], 'cleaver, meat cleaver, chopper': [0], 'cliff dwelling': [0], 'cloak': [0], 'clog, geta, patten, sabot': [0], 'cocktail shaker': [0], 'coffee mug': [0], 'coffeepot': [0], 'coil, spiral, volute, whorl, helix': [0], 'combination lock': [0], 'computer keyboard, keypad': [0], 'confectionery, confectionary, candy store': [0], 'container ship, containership, container vessel': [0], 'convertible': [0], 'corkscrew, bottle screw': [0], 'cornet, horn, trumpet, trump': [0], 'cowboy boot': [0], 'cowboy hat, ten-gallon hat': [0], 'cradle': [0], 'crash helmet': [0], 'crate': [0], 'crib, cot': [0], 'Crock Pot': [0], 'croquet ball': [0], 'crutch': [0], 'cuirass': [0], 'dam, dike, dyke': [0], 'desk': [0], 'desktop computer': [0], 'dial telephone, dial phone': [0], 'diaper, nappy, napkin': [0], 'digital clock': [0], 'digital watch': [0], 'dining table, board': [0], 'dishrag, dishcloth': [0], 'dishwasher, dish washer, dishwashing machine': [0], 'disk brake, disc brake': [0], 'dock, dockage, docking facility': [0], 'dogsled, dog sled, dog sleigh': [0], 'dome': [0], 'doormat, welcome mat': [0], 'drilling platform, offshore rig': [0], 'drum, membranophone, tympan': [0], 'drumstick': [0], 'dumbbell': [0], 'Dutch oven': [0], 'electric fan, blower': [0], 'electric guitar': [0], 'electric locomotive': [0], 'entertainment center': [0], 'envelope': [0], 'espresso maker': [0], 'face powder': [0], 'feather boa, boa': [0], 'file, file cabinet, filing cabinet': [0], 'fireboat': [0], 'fire engine, fire truck': [0], 'fire screen, fireguard': [0], 'flagpole, flagstaff': [0], 'flute, transverse flute': [0], 'folding chair': [0], 'football helmet': [0], 'forklift': [0], 'fountain': [0], 'fountain pen': [0], 'four-poster': [0], 'freight car': [0], 'French horn, horn': [0], 'frying pan, frypan, skillet': [0], 'fur coat': [0], 'garbage truck, dustcart': [0], 'gasmask, respirator, gas helmet': [0], 'gas pump, gasoline pump, petrol pump, island dispenser': [0], 'goblet': [0], 'go-kart': [0], 'golf ball': [0], 'golfcart, golf cart': [0], 'gondola': [0], 'gong, tam-tam': [0], 'gown': [0], 'grand piano, grand': [0], 'greenhouse, nursery, glasshouse': [0], 'grille, radiator grille': [0], 'grocery store, grocery, food market, market': [0], 'guillotine': [0], 'hair slide': [0], 'hair spray': [0], 'half track': [0], 'hammer': [0], 'hamper': [0], 'hand blower, blow dryer, blow drier, hair dryer, hair drier': [0], 'hand-held computer, hand-held microcomputer': [0], 'handkerchief, hankie, hanky, hankey': [0], 'hard disc, hard disk, fixed disk': [0], 'harmonica, mouth organ, harp, mouth harp': [0], 'harp': [0], 'harvester, reaper': [0], 'hatchet': [0], 'holster': [0], 'home theater, home theatre': [0], 'honeycomb': [0], 'hook, claw': [0], 'hoopskirt, crinoline': [0], 'horizontal bar, high bar': [0], 'horse cart, horse-cart': [0], 'hourglass': [0], 'iPod': [0], 'iron, smoothing iron': [0], \"jack-o'-lantern\": [0], 'jean, blue jean, denim': [0], 'jeep, landrover': [0], 'jersey, T-shirt, tee shirt': [0], 'jigsaw puzzle': [0], 'jinrikisha, ricksha, rickshaw': [0], 'joystick': [0], 'kimono': [0], 'knee pad': [0], 'knot': [0], 'lab coat, laboratory coat': [0], 'ladle': [0], 'lampshade, lamp shade': [0], 'laptop, laptop computer': [0], 'lawn mower, mower': [0], 'lens cap, lens cover': [0], 'letter opener, paper knife, paperknife': [0], 'library': [0], 'lifeboat': [0], 'lighter, light, igniter, ignitor': [0], 'limousine, limo': [0], 'liner, ocean liner': [0], 'lipstick, lip rouge': [0], 'Loafer': [0], 'lotion': [0], 'loudspeaker, speaker, speaker unit, loudspeaker system, speaker system': [0], \"loupe, jeweler's loupe\": [0], 'lumbermill, sawmill': [0], 'magnetic compass': [0], 'mailbag, postbag': [0], 'mailbox, letter box': [0], 'maillot': [0], 'maillot, tank suit': [0], 'manhole cover': [0], 'maraca': [0], 'marimba, xylophone': [0], 'mask': [0], 'matchstick': [0], 'maypole': [0], 'maze, labyrinth': [0], 'measuring cup': [0], 'medicine chest, medicine cabinet': [0], 'megalith, megalithic structure': [0], 'microphone, mike': [0], 'microwave, microwave oven': [0], 'military uniform': [0], 'milk can': [0], 'minibus': [0], 'miniskirt, mini': [0], 'minivan': [0], 'missile': [0], 'mitten': [0], 'mixing bowl': [0], 'mobile home, manufactured home': [0], 'Model T': [0], 'modem': [0], 'monastery': [0], 'monitor': [0], 'moped': [0], 'mortar': [0], 'mortarboard': [0], 'mosque': [0], 'mosquito net': [0], 'motor scooter, scooter': [0], 'mountain bike, all-terrain bike, off-roader': [0], 'mountain tent': [0], 'mouse, computer mouse': [0], 'mousetrap': [0], 'moving van': [0], 'muzzle': [0], 'nail': [0], 'neck brace': [0], 'necklace': [0], 'nipple': [0], 'notebook, notebook computer': [0], 'obelisk': [0], 'oboe, hautboy, hautbois': [0], 'ocarina, sweet potato': [0], 'odometer, hodometer, mileometer, milometer': [0], 'oil filter': [0], 'organ, pipe organ': [0], 'oscilloscope, scope, cathode-ray oscilloscope, CRO': [0], 'overskirt': [0], 'oxcart': [0], 'oxygen mask': [0], 'packet': [0], 'paddle, boat paddle': [0], 'paddlewheel, paddle wheel': [0], 'padlock': [0], 'paintbrush': [0], \"pajama, pyjama, pj's, jammies\": [0], 'palace': [0], 'panpipe, pandean pipe, syrinx': [0], 'paper towel': [0], 'parachute, chute': [0], 'parallel bars, bars': [0], 'park bench': [0], 'parking meter': [0], 'passenger car, coach, carriage': [0], 'patio, terrace': [0], 'pay-phone, pay-station': [0], 'pedestal, plinth, footstall': [0], 'pencil box, pencil case': [0], 'pencil sharpener': [0], 'perfume, essence': [0], 'Petri dish': [0], 'photocopier': [0], 'pick, plectrum, plectron': [0], 'pickelhaube': [0], 'picket fence, paling': [0], 'pickup, pickup truck': [0], 'pier': [0], 'piggy bank, penny bank': [0], 'pill bottle': [0], 'pillow': [0], 'ping-pong ball': [0], 'pinwheel': [0], 'pirate, pirate ship': [0], 'pitcher, ewer': [0], \"plane, carpenter's plane, woodworking plane\": [0], 'planetarium': [0], 'plastic bag': [0], 'plate rack': [0], 'plow, plough': [0], \"plunger, plumber's helper\": [0], 'Polaroid camera, Polaroid Land camera': [0], 'pole': [0], 'police van, police wagon, paddy wagon, patrol wagon, wagon, black Maria': [0], 'poncho': [0], 'pool table, billiard table, snooker table': [0], 'pop bottle, soda bottle': [0], 'pot, flowerpot': [0], \"potter's wheel\": [0], 'power drill': [0], 'prayer rug, prayer mat': [0], 'printer': [0], 'prison, prison house': [0], 'projectile, missile': [0], 'projector': [0], 'puck, hockey puck': [0], 'punching bag, punch bag, punching ball, punchball': [0], 'purse': [0], 'quill, quill pen': [0], 'quilt, comforter, comfort, puff': [0], 'racer, race car, racing car': [0], 'racket, racquet': [0], 'radiator': [0], 'radio, wireless': [0], 'radio telescope, radio reflector': [0], 'rain barrel': [0], 'recreational vehicle, RV, R.V.': [0], 'reel': [0], 'reflex camera': [0], 'refrigerator, icebox': [0], 'remote control, remote': [0], 'restaurant, eating house, eating place, eatery': [0], 'revolver, six-gun, six-shooter': [0], 'rifle': [0], 'rocking chair, rocker': [0], 'rotisserie': [0], 'rubber eraser, rubber, pencil eraser': [0], 'rugby ball': [0], 'rule, ruler': [0], 'running shoe': [0], 'safe': [0], 'safety pin': [0], 'saltshaker, salt shaker': [0], 'sandal': [0], 'sarong': [0], 'sax, saxophone': [0], 'scabbard': [0], 'scale, weighing machine': [0], 'school bus': [0], 'schooner': [0], 'scoreboard': [0], 'screen, CRT screen': [0], 'screw': [0], 'screwdriver': [0], 'seat belt, seatbelt': [0], 'sewing machine': [0], 'shield, buckler': [0], 'shoe shop, shoe-shop, shoe store': [0], 'shoji': [0], 'shopping basket': [0], 'shopping cart': [0], 'shovel': [0], 'shower cap': [0], 'shower curtain': [0], 'ski': [0], 'ski mask': [0], 'sleeping bag': [0], 'slide rule, slipstick': [0], 'sliding door': [0], 'slot, one-armed bandit': [0], 'snorkel': [0], 'snowmobile': [0], 'snowplow, snowplough': [0], 'soap dispenser': [0], 'soccer ball': [0], 'sock': [0], 'solar dish, solar collector, solar furnace': [0], 'sombrero': [0], 'soup bowl': [0], 'space bar': [0], 'space heater': [0], 'space shuttle': [0], 'spatula': [0], 'speedboat': [0], \"spider web, spider's web\": [0], 'spindle': [0], 'sports car, sport car': [0], 'spotlight, spot': [0], 'stage': [0], 'steam locomotive': [0], 'steel arch bridge': [0], 'steel drum': [0], 'stethoscope': [0], 'stole': [0], 'stone wall': [0], 'stopwatch, stop watch': [0], 'stove': [0], 'strainer': [0], 'streetcar, tram, tramcar, trolley, trolley car': [0], 'stretcher': [0], 'studio couch, day bed': [0], 'stupa, tope': [0], 'submarine, pigboat, sub, U-boat': [0], 'suit, suit of clothes': [0], 'sundial': [0], 'sunglass': [0], 'sunglasses, dark glasses, shades': [0], 'sunscreen, sunblock, sun blocker': [0], 'suspension bridge': [0], 'swab, swob, mop': [0], 'sweatshirt': [0], 'swimming trunks, bathing trunks': [0], 'swing': [0], 'switch, electric switch, electrical switch': [0], 'syringe': [0], 'table lamp': [0], 'tank, army tank, armored combat vehicle, armoured combat vehicle': [0], 'tape player': [0], 'teapot': [0], 'teddy, teddy bear': [0], 'television, television system': [0], 'tennis ball': [0], 'thatch, thatched roof': [0], 'theater curtain, theatre curtain': [0], 'thimble': [0], 'thresher, thrasher, threshing machine': [0], 'throne': [0], 'tile roof': [0], 'toaster': [0], 'tobacco shop, tobacconist shop, tobacconist': [0], 'toilet seat': [0], 'torch': [0], 'totem pole': [0], 'tow truck, tow car, wrecker': [0], 'toyshop': [0], 'tractor': [0], 'trailer truck, tractor trailer, trucking rig, rig, articulated lorry, semi': [0], 'tray': [0], 'trench coat': [0], 'tricycle, trike, velocipede': [0], 'trimaran': [0], 'tripod': [0], 'triumphal arch': [0], 'trolleybus, trolley coach, trackless trolley': [0], 'trombone': [0], 'tub, vat': [0], 'turnstile': [0], 'typewriter keyboard': [0], 'umbrella': [0], 'unicycle, monocycle': [0], 'upright, upright piano': [0], 'vacuum, vacuum cleaner': [0], 'vase': [0], 'vault': [0], 'velvet': [0], 'vending machine': [0], 'vestment': [0], 'viaduct': [0], 'violin, fiddle': [0], 'volleyball': [0], 'waffle iron': [0], 'wall clock': [0], 'wallet, billfold, notecase, pocketbook': [0], 'wardrobe, closet, press': [0], 'warplane, military plane': [0], 'washbasin, handbasin, washbowl, lavabo, wash-hand basin': [0], 'washer, automatic washer, washing machine': [0], 'water bottle': [0], 'water jug': [0], 'water tower': [0], 'whiskey jug': [0], 'whistle': [0], 'wig': [0], 'window screen': [0], 'window shade': [0], 'Windsor tie': [0], 'wine bottle': [0], 'wing': [0], 'wok': [0], 'wooden spoon': [0], 'wool, woolen, woollen': [0], 'worm fence, snake fence, snake-rail fence, Virginia fence': [0], 'wreck': [0], 'yawl': [0], 'yurt': [0], 'web site, website, internet site, site': [0], 'comic book': [0], 'crossword puzzle, crossword': [0], 'street sign': [0], 'traffic light, traffic signal, stoplight': [0], 'book jacket, dust cover, dust jacket, dust wrapper': [0], 'menu': [0], 'plate': [0], 'guacamole': [0], 'consomme': [0], 'hot pot, hotpot': [0], 'trifle': [0], 'ice cream, icecream': [0], 'ice lolly, lolly, lollipop, popsicle': [0], 'French loaf': [0], 'bagel, beigel': [0], 'pretzel': [0], 'cheeseburger': [0], 'hotdog, hot dog, red hot': [0], 'mashed potato': [0], 'head cabbage': [0], 'broccoli': [0], 'cauliflower': [0], 'zucchini, courgette': [0], 'spaghetti squash': [0], 'acorn squash': [0], 'butternut squash': [0], 'cucumber, cuke': [0], 'artichoke, globe artichoke': [0], 'bell pepper': [0], 'cardoon': [0], 'mushroom': [0], 'Granny Smith': [0], 'strawberry': [0], 'orange': [0], 'lemon': [0], 'fig': [0], 'pineapple, ananas': [0], 'banana': [0], 'jackfruit, jak, jack': [0], 'custard apple': [0], 'pomegranate': [0], 'hay': [0], 'carbonara': [0], 'chocolate sauce, chocolate syrup': [0], 'dough': [0], 'meat loaf, meatloaf': [0], 'pizza, pizza pie': [0], 'potpie': [0], 'burrito': [0], 'red wine': [0], 'espresso': [0], 'cup': [0], 'eggnog': [0], 'alp': [0], 'bubble': [0], 'cliff, drop, drop-off': [0], 'coral reef': [0], 'geyser': [0], 'lakeside, lakeshore': [0], 'promontory, headland, head, foreland': [0], 'sandbar, sand bar': [0], 'seashore, coast, seacoast, sea-coast': [0], 'valley, vale': [0], 'volcano': [0], 'ballplayer, baseball player': [0], 'groom, bridegroom': [0], 'scuba diver': [0], 'rapeseed': [0], 'daisy': [0], \"yellow lady's slipper, yellow lady-slipper, Cypripedium calceolus, Cypripedium parviflorum\": [0], 'corn': [0], 'acorn': [0], 'hip, rose hip, rosehip': [0], 'buckeye, horse chestnut, conker': [0], 'coral fungus': [0], 'agaric': [0], 'gyromitra': [0], 'stinkhorn, carrion fungus': [0], 'earthstar': [0], 'hen-of-the-woods, hen of the woods, Polyporus frondosus, Grifola frondosa': [0], 'bolete': [0], 'ear, spike, capitulum': [0], 'toilet tissue, toilet paper, bathroom tissue': [0]}\n"
          ]
        }
      ]
    },
    {
      "cell_type": "code",
      "source": [
        "with open(\"imagenet_classes.txt\") as f:\n",
        "    imagenet_classes = [line.strip() for line in f.readlines()]\n",
        "print(f\"Number of classes => {len(imagenet_classes)}\")\n",
        "imagenet_classes"
      ],
      "metadata": {
        "colab": {
          "base_uri": "https://localhost:8080/"
        },
        "id": "k0UJe0Moyd8C",
        "outputId": "5f1d0475-0cc0-44e6-e857-67ab7901928e"
      },
      "execution_count": null,
      "outputs": [
        {
          "output_type": "stream",
          "name": "stdout",
          "text": [
            "Number of classes => 1000\n"
          ]
        },
        {
          "output_type": "execute_result",
          "data": {
            "text/plain": [
              "['tench, Tinca tinca',\n",
              " 'goldfish, Carassius auratus',\n",
              " 'great white shark, white shark, man-eater, man-eating shark, Carcharodon carcharias',\n",
              " 'tiger shark, Galeocerdo cuvieri',\n",
              " 'hammerhead, hammerhead shark',\n",
              " 'electric ray, crampfish, numbfish, torpedo',\n",
              " 'stingray',\n",
              " 'cock',\n",
              " 'hen',\n",
              " 'ostrich, Struthio camelus',\n",
              " 'brambling, Fringilla montifringilla',\n",
              " 'goldfinch, Carduelis carduelis',\n",
              " 'house finch, linnet, Carpodacus mexicanus',\n",
              " 'junco, snowbird',\n",
              " 'indigo bunting, indigo finch, indigo bird, Passerina cyanea',\n",
              " 'robin, American robin, Turdus migratorius',\n",
              " 'bulbul',\n",
              " 'jay',\n",
              " 'magpie',\n",
              " 'chickadee',\n",
              " 'water ouzel, dipper',\n",
              " 'kite',\n",
              " 'bald eagle, American eagle, Haliaeetus leucocephalus',\n",
              " 'vulture',\n",
              " 'great grey owl, great gray owl, Strix nebulosa',\n",
              " 'European fire salamander, Salamandra salamandra',\n",
              " 'common newt, Triturus vulgaris',\n",
              " 'eft',\n",
              " 'spotted salamander, Ambystoma maculatum',\n",
              " 'axolotl, mud puppy, Ambystoma mexicanum',\n",
              " 'bullfrog, Rana catesbeiana',\n",
              " 'tree frog, tree-frog',\n",
              " 'tailed frog, bell toad, ribbed toad, tailed toad, Ascaphus trui',\n",
              " 'loggerhead, loggerhead turtle, Caretta caretta',\n",
              " 'leatherback turtle, leatherback, leathery turtle, Dermochelys coriacea',\n",
              " 'mud turtle',\n",
              " 'terrapin',\n",
              " 'box turtle, box tortoise',\n",
              " 'banded gecko',\n",
              " 'common iguana, iguana, Iguana iguana',\n",
              " 'American chameleon, anole, Anolis carolinensis',\n",
              " 'whiptail, whiptail lizard',\n",
              " 'agama',\n",
              " 'frilled lizard, Chlamydosaurus kingi',\n",
              " 'alligator lizard',\n",
              " 'Gila monster, Heloderma suspectum',\n",
              " 'green lizard, Lacerta viridis',\n",
              " 'African chameleon, Chamaeleo chamaeleon',\n",
              " 'Komodo dragon, Komodo lizard, dragon lizard, giant lizard, Varanus komodoensis',\n",
              " 'African crocodile, Nile crocodile, Crocodylus niloticus',\n",
              " 'American alligator, Alligator mississipiensis',\n",
              " 'triceratops',\n",
              " 'thunder snake, worm snake, Carphophis amoenus',\n",
              " 'ringneck snake, ring-necked snake, ring snake',\n",
              " 'hognose snake, puff adder, sand viper',\n",
              " 'green snake, grass snake',\n",
              " 'king snake, kingsnake',\n",
              " 'garter snake, grass snake',\n",
              " 'water snake',\n",
              " 'vine snake',\n",
              " 'night snake, Hypsiglena torquata',\n",
              " 'boa constrictor, Constrictor constrictor',\n",
              " 'rock python, rock snake, Python sebae',\n",
              " 'Indian cobra, Naja naja',\n",
              " 'green mamba',\n",
              " 'sea snake',\n",
              " 'horned viper, cerastes, sand viper, horned asp, Cerastes cornutus',\n",
              " 'diamondback, diamondback rattlesnake, Crotalus adamanteus',\n",
              " 'sidewinder, horned rattlesnake, Crotalus cerastes',\n",
              " 'trilobite',\n",
              " 'harvestman, daddy longlegs, Phalangium opilio',\n",
              " 'scorpion',\n",
              " 'black and gold garden spider, Argiope aurantia',\n",
              " 'barn spider, Araneus cavaticus',\n",
              " 'garden spider, Aranea diademata',\n",
              " 'black widow, Latrodectus mactans',\n",
              " 'tarantula',\n",
              " 'wolf spider, hunting spider',\n",
              " 'tick',\n",
              " 'centipede',\n",
              " 'black grouse',\n",
              " 'ptarmigan',\n",
              " 'ruffed grouse, partridge, Bonasa umbellus',\n",
              " 'prairie chicken, prairie grouse, prairie fowl',\n",
              " 'peacock',\n",
              " 'quail',\n",
              " 'partridge',\n",
              " 'African grey, African gray, Psittacus erithacus',\n",
              " 'macaw',\n",
              " 'sulphur-crested cockatoo, Kakatoe galerita, Cacatua galerita',\n",
              " 'lorikeet',\n",
              " 'coucal',\n",
              " 'bee eater',\n",
              " 'hornbill',\n",
              " 'hummingbird',\n",
              " 'jacamar',\n",
              " 'toucan',\n",
              " 'drake',\n",
              " 'red-breasted merganser, Mergus serrator',\n",
              " 'goose',\n",
              " 'black swan, Cygnus atratus',\n",
              " 'tusker',\n",
              " 'echidna, spiny anteater, anteater',\n",
              " 'platypus, duckbill, duckbilled platypus, duck-billed platypus, Ornithorhynchus anatinus',\n",
              " 'wallaby, brush kangaroo',\n",
              " 'koala, koala bear, kangaroo bear, native bear, Phascolarctos cinereus',\n",
              " 'wombat',\n",
              " 'jellyfish',\n",
              " 'sea anemone, anemone',\n",
              " 'brain coral',\n",
              " 'flatworm, platyhelminth',\n",
              " 'nematode, nematode worm, roundworm',\n",
              " 'conch',\n",
              " 'snail',\n",
              " 'slug',\n",
              " 'sea slug, nudibranch',\n",
              " 'chiton, coat-of-mail shell, sea cradle, polyplacophore',\n",
              " 'chambered nautilus, pearly nautilus, nautilus',\n",
              " 'Dungeness crab, Cancer magister',\n",
              " 'rock crab, Cancer irroratus',\n",
              " 'fiddler crab',\n",
              " 'king crab, Alaska crab, Alaskan king crab, Alaska king crab, Paralithodes camtschatica',\n",
              " 'American lobster, Northern lobster, Maine lobster, Homarus americanus',\n",
              " 'spiny lobster, langouste, rock lobster, crawfish, crayfish, sea crawfish',\n",
              " 'crayfish, crawfish, crawdad, crawdaddy',\n",
              " 'hermit crab',\n",
              " 'isopod',\n",
              " 'white stork, Ciconia ciconia',\n",
              " 'black stork, Ciconia nigra',\n",
              " 'spoonbill',\n",
              " 'flamingo',\n",
              " 'little blue heron, Egretta caerulea',\n",
              " 'American egret, great white heron, Egretta albus',\n",
              " 'bittern',\n",
              " 'crane',\n",
              " 'limpkin, Aramus pictus',\n",
              " 'European gallinule, Porphyrio porphyrio',\n",
              " 'American coot, marsh hen, mud hen, water hen, Fulica americana',\n",
              " 'bustard',\n",
              " 'ruddy turnstone, Arenaria interpres',\n",
              " 'red-backed sandpiper, dunlin, Erolia alpina',\n",
              " 'redshank, Tringa totanus',\n",
              " 'dowitcher',\n",
              " 'oystercatcher, oyster catcher',\n",
              " 'pelican',\n",
              " 'king penguin, Aptenodytes patagonica',\n",
              " 'albatross, mollymawk',\n",
              " 'grey whale, gray whale, devilfish, Eschrichtius gibbosus, Eschrichtius robustus',\n",
              " 'killer whale, killer, orca, grampus, sea wolf, Orcinus orca',\n",
              " 'dugong, Dugong dugon',\n",
              " 'sea lion',\n",
              " 'Chihuahua',\n",
              " 'Japanese spaniel',\n",
              " 'Maltese dog, Maltese terrier, Maltese',\n",
              " 'Pekinese, Pekingese, Peke',\n",
              " 'Shih-Tzu',\n",
              " 'Blenheim spaniel',\n",
              " 'papillon',\n",
              " 'toy terrier',\n",
              " 'Rhodesian ridgeback',\n",
              " 'Afghan hound, Afghan',\n",
              " 'basset, basset hound',\n",
              " 'beagle',\n",
              " 'bloodhound, sleuthhound',\n",
              " 'bluetick',\n",
              " 'black-and-tan coonhound',\n",
              " 'Walker hound, Walker foxhound',\n",
              " 'English foxhound',\n",
              " 'redbone',\n",
              " 'borzoi, Russian wolfhound',\n",
              " 'Irish wolfhound',\n",
              " 'Italian greyhound',\n",
              " 'whippet',\n",
              " 'Ibizan hound, Ibizan Podenco',\n",
              " 'Norwegian elkhound, elkhound',\n",
              " 'otterhound, otter hound',\n",
              " 'Saluki, gazelle hound',\n",
              " 'Scottish deerhound, deerhound',\n",
              " 'Weimaraner',\n",
              " 'Staffordshire bullterrier, Staffordshire bull terrier',\n",
              " 'American Staffordshire terrier, Staffordshire terrier, American pit bull terrier, pit bull terrier',\n",
              " 'Bedlington terrier',\n",
              " 'Border terrier',\n",
              " 'Kerry blue terrier',\n",
              " 'Irish terrier',\n",
              " 'Norfolk terrier',\n",
              " 'Norwich terrier',\n",
              " 'Yorkshire terrier',\n",
              " 'wire-haired fox terrier',\n",
              " 'Lakeland terrier',\n",
              " 'Sealyham terrier, Sealyham',\n",
              " 'Airedale, Airedale terrier',\n",
              " 'cairn, cairn terrier',\n",
              " 'Australian terrier',\n",
              " 'Dandie Dinmont, Dandie Dinmont terrier',\n",
              " 'Boston bull, Boston terrier',\n",
              " 'miniature schnauzer',\n",
              " 'giant schnauzer',\n",
              " 'standard schnauzer',\n",
              " 'Scotch terrier, Scottish terrier, Scottie',\n",
              " 'Tibetan terrier, chrysanthemum dog',\n",
              " 'silky terrier, Sydney silky',\n",
              " 'soft-coated wheaten terrier',\n",
              " 'West Highland white terrier',\n",
              " 'Lhasa, Lhasa apso',\n",
              " 'flat-coated retriever',\n",
              " 'curly-coated retriever',\n",
              " 'golden retriever',\n",
              " 'Labrador retriever',\n",
              " 'Chesapeake Bay retriever',\n",
              " 'German short-haired pointer',\n",
              " 'vizsla, Hungarian pointer',\n",
              " 'English setter',\n",
              " 'Irish setter, red setter',\n",
              " 'Gordon setter',\n",
              " 'Brittany spaniel',\n",
              " 'clumber, clumber spaniel',\n",
              " 'English springer, English springer spaniel',\n",
              " 'Welsh springer spaniel',\n",
              " 'cocker spaniel, English cocker spaniel, cocker',\n",
              " 'Sussex spaniel',\n",
              " 'Irish water spaniel',\n",
              " 'kuvasz',\n",
              " 'schipperke',\n",
              " 'groenendael',\n",
              " 'malinois',\n",
              " 'briard',\n",
              " 'kelpie',\n",
              " 'komondor',\n",
              " 'Old English sheepdog, bobtail',\n",
              " 'Shetland sheepdog, Shetland sheep dog, Shetland',\n",
              " 'collie',\n",
              " 'Border collie',\n",
              " 'Bouvier des Flandres, Bouviers des Flandres',\n",
              " 'Rottweiler',\n",
              " 'German shepherd, German shepherd dog, German police dog, alsatian',\n",
              " 'Doberman, Doberman pinscher',\n",
              " 'miniature pinscher',\n",
              " 'Greater Swiss Mountain dog',\n",
              " 'Bernese mountain dog',\n",
              " 'Appenzeller',\n",
              " 'EntleBucher',\n",
              " 'boxer',\n",
              " 'bull mastiff',\n",
              " 'Tibetan mastiff',\n",
              " 'French bulldog',\n",
              " 'Great Dane',\n",
              " 'Saint Bernard, St Bernard',\n",
              " 'Eskimo dog, husky',\n",
              " 'malamute, malemute, Alaskan malamute',\n",
              " 'Siberian husky',\n",
              " 'dalmatian, coach dog, carriage dog',\n",
              " 'affenpinscher, monkey pinscher, monkey dog',\n",
              " 'basenji',\n",
              " 'pug, pug-dog',\n",
              " 'Leonberg',\n",
              " 'Newfoundland, Newfoundland dog',\n",
              " 'Great Pyrenees',\n",
              " 'Samoyed, Samoyede',\n",
              " 'Pomeranian',\n",
              " 'chow, chow chow',\n",
              " 'keeshond',\n",
              " 'Brabancon griffon',\n",
              " 'Pembroke, Pembroke Welsh corgi',\n",
              " 'Cardigan, Cardigan Welsh corgi',\n",
              " 'toy poodle',\n",
              " 'miniature poodle',\n",
              " 'standard poodle',\n",
              " 'Mexican hairless',\n",
              " 'timber wolf, grey wolf, gray wolf, Canis lupus',\n",
              " 'white wolf, Arctic wolf, Canis lupus tundrarum',\n",
              " 'red wolf, maned wolf, Canis rufus, Canis niger',\n",
              " 'coyote, prairie wolf, brush wolf, Canis latrans',\n",
              " 'dingo, warrigal, warragal, Canis dingo',\n",
              " 'dhole, Cuon alpinus',\n",
              " 'African hunting dog, hyena dog, Cape hunting dog, Lycaon pictus',\n",
              " 'hyena, hyaena',\n",
              " 'red fox, Vulpes vulpes',\n",
              " 'kit fox, Vulpes macrotis',\n",
              " 'Arctic fox, white fox, Alopex lagopus',\n",
              " 'grey fox, gray fox, Urocyon cinereoargenteus',\n",
              " 'tabby, tabby cat',\n",
              " 'tiger cat',\n",
              " 'Persian cat',\n",
              " 'Siamese cat, Siamese',\n",
              " 'Egyptian cat',\n",
              " 'cougar, puma, catamount, mountain lion, painter, panther, Felis concolor',\n",
              " 'lynx, catamount',\n",
              " 'leopard, Panthera pardus',\n",
              " 'snow leopard, ounce, Panthera uncia',\n",
              " 'jaguar, panther, Panthera onca, Felis onca',\n",
              " 'lion, king of beasts, Panthera leo',\n",
              " 'tiger, Panthera tigris',\n",
              " 'cheetah, chetah, Acinonyx jubatus',\n",
              " 'brown bear, bruin, Ursus arctos',\n",
              " 'American black bear, black bear, Ursus americanus, Euarctos americanus',\n",
              " 'ice bear, polar bear, Ursus Maritimus, Thalarctos maritimus',\n",
              " 'sloth bear, Melursus ursinus, Ursus ursinus',\n",
              " 'mongoose',\n",
              " 'meerkat, mierkat',\n",
              " 'tiger beetle',\n",
              " 'ladybug, ladybeetle, lady beetle, ladybird, ladybird beetle',\n",
              " 'ground beetle, carabid beetle',\n",
              " 'long-horned beetle, longicorn, longicorn beetle',\n",
              " 'leaf beetle, chrysomelid',\n",
              " 'dung beetle',\n",
              " 'rhinoceros beetle',\n",
              " 'weevil',\n",
              " 'fly',\n",
              " 'bee',\n",
              " 'ant, emmet, pismire',\n",
              " 'grasshopper, hopper',\n",
              " 'cricket',\n",
              " 'walking stick, walkingstick, stick insect',\n",
              " 'cockroach, roach',\n",
              " 'mantis, mantid',\n",
              " 'cicada, cicala',\n",
              " 'leafhopper',\n",
              " 'lacewing, lacewing fly',\n",
              " \"dragonfly, darning needle, devil's darning needle, sewing needle, snake feeder, snake doctor, mosquito hawk, skeeter hawk\",\n",
              " 'damselfly',\n",
              " 'admiral',\n",
              " 'ringlet, ringlet butterfly',\n",
              " 'monarch, monarch butterfly, milkweed butterfly, Danaus plexippus',\n",
              " 'cabbage butterfly',\n",
              " 'sulphur butterfly, sulfur butterfly',\n",
              " 'lycaenid, lycaenid butterfly',\n",
              " 'starfish, sea star',\n",
              " 'sea urchin',\n",
              " 'sea cucumber, holothurian',\n",
              " 'wood rabbit, cottontail, cottontail rabbit',\n",
              " 'hare',\n",
              " 'Angora, Angora rabbit',\n",
              " 'hamster',\n",
              " 'porcupine, hedgehog',\n",
              " 'fox squirrel, eastern fox squirrel, Sciurus niger',\n",
              " 'marmot',\n",
              " 'beaver',\n",
              " 'guinea pig, Cavia cobaya',\n",
              " 'sorrel',\n",
              " 'zebra',\n",
              " 'hog, pig, grunter, squealer, Sus scrofa',\n",
              " 'wild boar, boar, Sus scrofa',\n",
              " 'warthog',\n",
              " 'hippopotamus, hippo, river horse, Hippopotamus amphibius',\n",
              " 'ox',\n",
              " 'water buffalo, water ox, Asiatic buffalo, Bubalus bubalis',\n",
              " 'bison',\n",
              " 'ram, tup',\n",
              " 'bighorn, bighorn sheep, cimarron, Rocky Mountain bighorn, Rocky Mountain sheep, Ovis canadensis',\n",
              " 'ibex, Capra ibex',\n",
              " 'hartebeest',\n",
              " 'impala, Aepyceros melampus',\n",
              " 'gazelle',\n",
              " 'Arabian camel, dromedary, Camelus dromedarius',\n",
              " 'llama',\n",
              " 'weasel',\n",
              " 'mink',\n",
              " 'polecat, fitch, foulmart, foumart, Mustela putorius',\n",
              " 'black-footed ferret, ferret, Mustela nigripes',\n",
              " 'otter',\n",
              " 'skunk, polecat, wood pussy',\n",
              " 'badger',\n",
              " 'armadillo',\n",
              " 'three-toed sloth, ai, Bradypus tridactylus',\n",
              " 'orangutan, orang, orangutang, Pongo pygmaeus',\n",
              " 'gorilla, Gorilla gorilla',\n",
              " 'chimpanzee, chimp, Pan troglodytes',\n",
              " 'gibbon, Hylobates lar',\n",
              " 'siamang, Hylobates syndactylus, Symphalangus syndactylus',\n",
              " 'guenon, guenon monkey',\n",
              " 'patas, hussar monkey, Erythrocebus patas',\n",
              " 'baboon',\n",
              " 'macaque',\n",
              " 'langur',\n",
              " 'colobus, colobus monkey',\n",
              " 'proboscis monkey, Nasalis larvatus',\n",
              " 'marmoset',\n",
              " 'capuchin, ringtail, Cebus capucinus',\n",
              " 'howler monkey, howler',\n",
              " 'titi, titi monkey',\n",
              " 'spider monkey, Ateles geoffroyi',\n",
              " 'squirrel monkey, Saimiri sciureus',\n",
              " 'Madagascar cat, ring-tailed lemur, Lemur catta',\n",
              " 'indri, indris, Indri indri, Indri brevicaudatus',\n",
              " 'Indian elephant, Elephas maximus',\n",
              " 'African elephant, Loxodonta africana',\n",
              " 'lesser panda, red panda, panda, bear cat, cat bear, Ailurus fulgens',\n",
              " 'giant panda, panda, panda bear, coon bear, Ailuropoda melanoleuca',\n",
              " 'barracouta, snoek',\n",
              " 'eel',\n",
              " 'coho, cohoe, coho salmon, blue jack, silver salmon, Oncorhynchus kisutch',\n",
              " 'rock beauty, Holocanthus tricolor',\n",
              " 'anemone fish',\n",
              " 'sturgeon',\n",
              " 'gar, garfish, garpike, billfish, Lepisosteus osseus',\n",
              " 'lionfish',\n",
              " 'puffer, pufferfish, blowfish, globefish',\n",
              " 'abacus',\n",
              " 'abaya',\n",
              " \"academic gown, academic robe, judge's robe\",\n",
              " 'accordion, piano accordion, squeeze box',\n",
              " 'acoustic guitar',\n",
              " 'aircraft carrier, carrier, flattop, attack aircraft carrier',\n",
              " 'airliner',\n",
              " 'airship, dirigible',\n",
              " 'altar',\n",
              " 'ambulance',\n",
              " 'amphibian, amphibious vehicle',\n",
              " 'analog clock',\n",
              " 'apiary, bee house',\n",
              " 'apron',\n",
              " 'ashcan, trash can, garbage can, wastebin, ash bin, ash-bin, ashbin, dustbin, trash barrel, trash bin',\n",
              " 'assault rifle, assault gun',\n",
              " 'backpack, back pack, knapsack, packsack, rucksack, haversack',\n",
              " 'bakery, bakeshop, bakehouse',\n",
              " 'balance beam, beam',\n",
              " 'balloon',\n",
              " 'ballpoint, ballpoint pen, ballpen, Biro',\n",
              " 'Band Aid',\n",
              " 'banjo',\n",
              " 'bannister, banister, balustrade, balusters, handrail',\n",
              " 'barbell',\n",
              " 'barber chair',\n",
              " 'barbershop',\n",
              " 'barn',\n",
              " 'barometer',\n",
              " 'barrel, cask',\n",
              " 'barrow, garden cart, lawn cart, wheelbarrow',\n",
              " 'baseball',\n",
              " 'basketball',\n",
              " 'bassinet',\n",
              " 'bassoon',\n",
              " 'bathing cap, swimming cap',\n",
              " 'bath towel',\n",
              " 'bathtub, bathing tub, bath, tub',\n",
              " 'beach wagon, station wagon, wagon, estate car, beach waggon, station waggon, waggon',\n",
              " 'beacon, lighthouse, beacon light, pharos',\n",
              " 'beaker',\n",
              " 'bearskin, busby, shako',\n",
              " 'beer bottle',\n",
              " 'beer glass',\n",
              " 'bell cote, bell cot',\n",
              " 'bib',\n",
              " 'bicycle-built-for-two, tandem bicycle, tandem',\n",
              " 'bikini, two-piece',\n",
              " 'binder, ring-binder',\n",
              " 'binoculars, field glasses, opera glasses',\n",
              " 'birdhouse',\n",
              " 'boathouse',\n",
              " 'bobsled, bobsleigh, bob',\n",
              " 'bolo tie, bolo, bola tie, bola',\n",
              " 'bonnet, poke bonnet',\n",
              " 'bookcase',\n",
              " 'bookshop, bookstore, bookstall',\n",
              " 'bottlecap',\n",
              " 'bow',\n",
              " 'bow tie, bow-tie, bowtie',\n",
              " 'brass, memorial tablet, plaque',\n",
              " 'brassiere, bra, bandeau',\n",
              " 'breakwater, groin, groyne, mole, bulwark, seawall, jetty',\n",
              " 'breastplate, aegis, egis',\n",
              " 'broom',\n",
              " 'bucket, pail',\n",
              " 'buckle',\n",
              " 'bulletproof vest',\n",
              " 'bullet train, bullet',\n",
              " 'butcher shop, meat market',\n",
              " 'cab, hack, taxi, taxicab',\n",
              " 'caldron, cauldron',\n",
              " 'candle, taper, wax light',\n",
              " 'cannon',\n",
              " 'canoe',\n",
              " 'can opener, tin opener',\n",
              " 'cardigan',\n",
              " 'car mirror',\n",
              " 'carousel, carrousel, merry-go-round, roundabout, whirligig',\n",
              " \"carpenter's kit, tool kit\",\n",
              " 'carton',\n",
              " 'car wheel',\n",
              " 'cash machine, cash dispenser, automated teller machine, automatic teller machine, automated teller, automatic teller, ATM',\n",
              " 'cassette',\n",
              " 'cassette player',\n",
              " 'castle',\n",
              " 'catamaran',\n",
              " 'CD player',\n",
              " 'cello, violoncello',\n",
              " 'cellular telephone, cellular phone, cellphone, cell, mobile phone',\n",
              " 'chain',\n",
              " 'chainlink fence',\n",
              " 'chain mail, ring mail, mail, chain armor, chain armour, ring armor, ring armour',\n",
              " 'chain saw, chainsaw',\n",
              " 'chest',\n",
              " 'chiffonier, commode',\n",
              " 'chime, bell, gong',\n",
              " 'china cabinet, china closet',\n",
              " 'Christmas stocking',\n",
              " 'church, church building',\n",
              " 'cinema, movie theater, movie theatre, movie house, picture palace',\n",
              " 'cleaver, meat cleaver, chopper',\n",
              " 'cliff dwelling',\n",
              " 'cloak',\n",
              " 'clog, geta, patten, sabot',\n",
              " 'cocktail shaker',\n",
              " 'coffee mug',\n",
              " 'coffeepot',\n",
              " 'coil, spiral, volute, whorl, helix',\n",
              " 'combination lock',\n",
              " 'computer keyboard, keypad',\n",
              " 'confectionery, confectionary, candy store',\n",
              " 'container ship, containership, container vessel',\n",
              " 'convertible',\n",
              " 'corkscrew, bottle screw',\n",
              " 'cornet, horn, trumpet, trump',\n",
              " 'cowboy boot',\n",
              " 'cowboy hat, ten-gallon hat',\n",
              " 'cradle',\n",
              " 'crane',\n",
              " 'crash helmet',\n",
              " 'crate',\n",
              " 'crib, cot',\n",
              " 'Crock Pot',\n",
              " 'croquet ball',\n",
              " 'crutch',\n",
              " 'cuirass',\n",
              " 'dam, dike, dyke',\n",
              " 'desk',\n",
              " 'desktop computer',\n",
              " 'dial telephone, dial phone',\n",
              " 'diaper, nappy, napkin',\n",
              " 'digital clock',\n",
              " 'digital watch',\n",
              " 'dining table, board',\n",
              " 'dishrag, dishcloth',\n",
              " 'dishwasher, dish washer, dishwashing machine',\n",
              " 'disk brake, disc brake',\n",
              " 'dock, dockage, docking facility',\n",
              " 'dogsled, dog sled, dog sleigh',\n",
              " 'dome',\n",
              " 'doormat, welcome mat',\n",
              " 'drilling platform, offshore rig',\n",
              " 'drum, membranophone, tympan',\n",
              " 'drumstick',\n",
              " 'dumbbell',\n",
              " 'Dutch oven',\n",
              " 'electric fan, blower',\n",
              " 'electric guitar',\n",
              " 'electric locomotive',\n",
              " 'entertainment center',\n",
              " 'envelope',\n",
              " 'espresso maker',\n",
              " 'face powder',\n",
              " 'feather boa, boa',\n",
              " 'file, file cabinet, filing cabinet',\n",
              " 'fireboat',\n",
              " 'fire engine, fire truck',\n",
              " 'fire screen, fireguard',\n",
              " 'flagpole, flagstaff',\n",
              " 'flute, transverse flute',\n",
              " 'folding chair',\n",
              " 'football helmet',\n",
              " 'forklift',\n",
              " 'fountain',\n",
              " 'fountain pen',\n",
              " 'four-poster',\n",
              " 'freight car',\n",
              " 'French horn, horn',\n",
              " 'frying pan, frypan, skillet',\n",
              " 'fur coat',\n",
              " 'garbage truck, dustcart',\n",
              " 'gasmask, respirator, gas helmet',\n",
              " 'gas pump, gasoline pump, petrol pump, island dispenser',\n",
              " 'goblet',\n",
              " 'go-kart',\n",
              " 'golf ball',\n",
              " 'golfcart, golf cart',\n",
              " 'gondola',\n",
              " 'gong, tam-tam',\n",
              " 'gown',\n",
              " 'grand piano, grand',\n",
              " 'greenhouse, nursery, glasshouse',\n",
              " 'grille, radiator grille',\n",
              " 'grocery store, grocery, food market, market',\n",
              " 'guillotine',\n",
              " 'hair slide',\n",
              " 'hair spray',\n",
              " 'half track',\n",
              " 'hammer',\n",
              " 'hamper',\n",
              " 'hand blower, blow dryer, blow drier, hair dryer, hair drier',\n",
              " 'hand-held computer, hand-held microcomputer',\n",
              " 'handkerchief, hankie, hanky, hankey',\n",
              " 'hard disc, hard disk, fixed disk',\n",
              " 'harmonica, mouth organ, harp, mouth harp',\n",
              " 'harp',\n",
              " 'harvester, reaper',\n",
              " 'hatchet',\n",
              " 'holster',\n",
              " 'home theater, home theatre',\n",
              " 'honeycomb',\n",
              " 'hook, claw',\n",
              " 'hoopskirt, crinoline',\n",
              " 'horizontal bar, high bar',\n",
              " 'horse cart, horse-cart',\n",
              " 'hourglass',\n",
              " 'iPod',\n",
              " 'iron, smoothing iron',\n",
              " \"jack-o'-lantern\",\n",
              " 'jean, blue jean, denim',\n",
              " 'jeep, landrover',\n",
              " 'jersey, T-shirt, tee shirt',\n",
              " 'jigsaw puzzle',\n",
              " 'jinrikisha, ricksha, rickshaw',\n",
              " 'joystick',\n",
              " 'kimono',\n",
              " 'knee pad',\n",
              " 'knot',\n",
              " 'lab coat, laboratory coat',\n",
              " 'ladle',\n",
              " 'lampshade, lamp shade',\n",
              " 'laptop, laptop computer',\n",
              " 'lawn mower, mower',\n",
              " 'lens cap, lens cover',\n",
              " 'letter opener, paper knife, paperknife',\n",
              " 'library',\n",
              " 'lifeboat',\n",
              " 'lighter, light, igniter, ignitor',\n",
              " 'limousine, limo',\n",
              " 'liner, ocean liner',\n",
              " 'lipstick, lip rouge',\n",
              " 'Loafer',\n",
              " 'lotion',\n",
              " 'loudspeaker, speaker, speaker unit, loudspeaker system, speaker system',\n",
              " \"loupe, jeweler's loupe\",\n",
              " 'lumbermill, sawmill',\n",
              " 'magnetic compass',\n",
              " 'mailbag, postbag',\n",
              " 'mailbox, letter box',\n",
              " 'maillot',\n",
              " 'maillot, tank suit',\n",
              " 'manhole cover',\n",
              " 'maraca',\n",
              " 'marimba, xylophone',\n",
              " 'mask',\n",
              " 'matchstick',\n",
              " 'maypole',\n",
              " 'maze, labyrinth',\n",
              " 'measuring cup',\n",
              " 'medicine chest, medicine cabinet',\n",
              " 'megalith, megalithic structure',\n",
              " 'microphone, mike',\n",
              " 'microwave, microwave oven',\n",
              " 'military uniform',\n",
              " 'milk can',\n",
              " 'minibus',\n",
              " 'miniskirt, mini',\n",
              " 'minivan',\n",
              " 'missile',\n",
              " 'mitten',\n",
              " 'mixing bowl',\n",
              " 'mobile home, manufactured home',\n",
              " 'Model T',\n",
              " 'modem',\n",
              " 'monastery',\n",
              " 'monitor',\n",
              " 'moped',\n",
              " 'mortar',\n",
              " 'mortarboard',\n",
              " 'mosque',\n",
              " 'mosquito net',\n",
              " 'motor scooter, scooter',\n",
              " 'mountain bike, all-terrain bike, off-roader',\n",
              " 'mountain tent',\n",
              " 'mouse, computer mouse',\n",
              " 'mousetrap',\n",
              " 'moving van',\n",
              " 'muzzle',\n",
              " 'nail',\n",
              " 'neck brace',\n",
              " 'necklace',\n",
              " 'nipple',\n",
              " 'notebook, notebook computer',\n",
              " 'obelisk',\n",
              " 'oboe, hautboy, hautbois',\n",
              " 'ocarina, sweet potato',\n",
              " 'odometer, hodometer, mileometer, milometer',\n",
              " 'oil filter',\n",
              " 'organ, pipe organ',\n",
              " 'oscilloscope, scope, cathode-ray oscilloscope, CRO',\n",
              " 'overskirt',\n",
              " 'oxcart',\n",
              " 'oxygen mask',\n",
              " 'packet',\n",
              " 'paddle, boat paddle',\n",
              " 'paddlewheel, paddle wheel',\n",
              " 'padlock',\n",
              " 'paintbrush',\n",
              " \"pajama, pyjama, pj's, jammies\",\n",
              " 'palace',\n",
              " 'panpipe, pandean pipe, syrinx',\n",
              " 'paper towel',\n",
              " 'parachute, chute',\n",
              " 'parallel bars, bars',\n",
              " 'park bench',\n",
              " 'parking meter',\n",
              " 'passenger car, coach, carriage',\n",
              " 'patio, terrace',\n",
              " 'pay-phone, pay-station',\n",
              " 'pedestal, plinth, footstall',\n",
              " 'pencil box, pencil case',\n",
              " 'pencil sharpener',\n",
              " 'perfume, essence',\n",
              " 'Petri dish',\n",
              " 'photocopier',\n",
              " 'pick, plectrum, plectron',\n",
              " 'pickelhaube',\n",
              " 'picket fence, paling',\n",
              " 'pickup, pickup truck',\n",
              " 'pier',\n",
              " 'piggy bank, penny bank',\n",
              " 'pill bottle',\n",
              " 'pillow',\n",
              " 'ping-pong ball',\n",
              " 'pinwheel',\n",
              " 'pirate, pirate ship',\n",
              " 'pitcher, ewer',\n",
              " \"plane, carpenter's plane, woodworking plane\",\n",
              " 'planetarium',\n",
              " 'plastic bag',\n",
              " 'plate rack',\n",
              " 'plow, plough',\n",
              " \"plunger, plumber's helper\",\n",
              " 'Polaroid camera, Polaroid Land camera',\n",
              " 'pole',\n",
              " 'police van, police wagon, paddy wagon, patrol wagon, wagon, black Maria',\n",
              " 'poncho',\n",
              " 'pool table, billiard table, snooker table',\n",
              " 'pop bottle, soda bottle',\n",
              " 'pot, flowerpot',\n",
              " \"potter's wheel\",\n",
              " 'power drill',\n",
              " 'prayer rug, prayer mat',\n",
              " 'printer',\n",
              " 'prison, prison house',\n",
              " 'projectile, missile',\n",
              " 'projector',\n",
              " 'puck, hockey puck',\n",
              " 'punching bag, punch bag, punching ball, punchball',\n",
              " 'purse',\n",
              " 'quill, quill pen',\n",
              " 'quilt, comforter, comfort, puff',\n",
              " 'racer, race car, racing car',\n",
              " 'racket, racquet',\n",
              " 'radiator',\n",
              " 'radio, wireless',\n",
              " 'radio telescope, radio reflector',\n",
              " 'rain barrel',\n",
              " 'recreational vehicle, RV, R.V.',\n",
              " 'reel',\n",
              " 'reflex camera',\n",
              " 'refrigerator, icebox',\n",
              " 'remote control, remote',\n",
              " 'restaurant, eating house, eating place, eatery',\n",
              " 'revolver, six-gun, six-shooter',\n",
              " 'rifle',\n",
              " 'rocking chair, rocker',\n",
              " 'rotisserie',\n",
              " 'rubber eraser, rubber, pencil eraser',\n",
              " 'rugby ball',\n",
              " 'rule, ruler',\n",
              " 'running shoe',\n",
              " 'safe',\n",
              " 'safety pin',\n",
              " 'saltshaker, salt shaker',\n",
              " 'sandal',\n",
              " 'sarong',\n",
              " 'sax, saxophone',\n",
              " 'scabbard',\n",
              " 'scale, weighing machine',\n",
              " 'school bus',\n",
              " 'schooner',\n",
              " 'scoreboard',\n",
              " 'screen, CRT screen',\n",
              " 'screw',\n",
              " 'screwdriver',\n",
              " 'seat belt, seatbelt',\n",
              " 'sewing machine',\n",
              " 'shield, buckler',\n",
              " 'shoe shop, shoe-shop, shoe store',\n",
              " 'shoji',\n",
              " 'shopping basket',\n",
              " 'shopping cart',\n",
              " 'shovel',\n",
              " 'shower cap',\n",
              " 'shower curtain',\n",
              " 'ski',\n",
              " 'ski mask',\n",
              " 'sleeping bag',\n",
              " 'slide rule, slipstick',\n",
              " 'sliding door',\n",
              " 'slot, one-armed bandit',\n",
              " 'snorkel',\n",
              " 'snowmobile',\n",
              " 'snowplow, snowplough',\n",
              " 'soap dispenser',\n",
              " 'soccer ball',\n",
              " 'sock',\n",
              " 'solar dish, solar collector, solar furnace',\n",
              " 'sombrero',\n",
              " 'soup bowl',\n",
              " 'space bar',\n",
              " 'space heater',\n",
              " 'space shuttle',\n",
              " 'spatula',\n",
              " 'speedboat',\n",
              " \"spider web, spider's web\",\n",
              " 'spindle',\n",
              " 'sports car, sport car',\n",
              " 'spotlight, spot',\n",
              " 'stage',\n",
              " 'steam locomotive',\n",
              " 'steel arch bridge',\n",
              " 'steel drum',\n",
              " 'stethoscope',\n",
              " 'stole',\n",
              " 'stone wall',\n",
              " 'stopwatch, stop watch',\n",
              " 'stove',\n",
              " 'strainer',\n",
              " 'streetcar, tram, tramcar, trolley, trolley car',\n",
              " 'stretcher',\n",
              " 'studio couch, day bed',\n",
              " 'stupa, tope',\n",
              " 'submarine, pigboat, sub, U-boat',\n",
              " 'suit, suit of clothes',\n",
              " 'sundial',\n",
              " 'sunglass',\n",
              " 'sunglasses, dark glasses, shades',\n",
              " 'sunscreen, sunblock, sun blocker',\n",
              " 'suspension bridge',\n",
              " 'swab, swob, mop',\n",
              " 'sweatshirt',\n",
              " 'swimming trunks, bathing trunks',\n",
              " 'swing',\n",
              " 'switch, electric switch, electrical switch',\n",
              " 'syringe',\n",
              " 'table lamp',\n",
              " 'tank, army tank, armored combat vehicle, armoured combat vehicle',\n",
              " 'tape player',\n",
              " 'teapot',\n",
              " 'teddy, teddy bear',\n",
              " 'television, television system',\n",
              " 'tennis ball',\n",
              " 'thatch, thatched roof',\n",
              " 'theater curtain, theatre curtain',\n",
              " 'thimble',\n",
              " 'thresher, thrasher, threshing machine',\n",
              " 'throne',\n",
              " 'tile roof',\n",
              " 'toaster',\n",
              " 'tobacco shop, tobacconist shop, tobacconist',\n",
              " 'toilet seat',\n",
              " 'torch',\n",
              " 'totem pole',\n",
              " 'tow truck, tow car, wrecker',\n",
              " 'toyshop',\n",
              " 'tractor',\n",
              " 'trailer truck, tractor trailer, trucking rig, rig, articulated lorry, semi',\n",
              " 'tray',\n",
              " 'trench coat',\n",
              " 'tricycle, trike, velocipede',\n",
              " 'trimaran',\n",
              " 'tripod',\n",
              " 'triumphal arch',\n",
              " 'trolleybus, trolley coach, trackless trolley',\n",
              " 'trombone',\n",
              " 'tub, vat',\n",
              " 'turnstile',\n",
              " 'typewriter keyboard',\n",
              " 'umbrella',\n",
              " 'unicycle, monocycle',\n",
              " 'upright, upright piano',\n",
              " 'vacuum, vacuum cleaner',\n",
              " 'vase',\n",
              " 'vault',\n",
              " 'velvet',\n",
              " 'vending machine',\n",
              " 'vestment',\n",
              " 'viaduct',\n",
              " 'violin, fiddle',\n",
              " 'volleyball',\n",
              " 'waffle iron',\n",
              " 'wall clock',\n",
              " 'wallet, billfold, notecase, pocketbook',\n",
              " 'wardrobe, closet, press',\n",
              " 'warplane, military plane',\n",
              " 'washbasin, handbasin, washbowl, lavabo, wash-hand basin',\n",
              " 'washer, automatic washer, washing machine',\n",
              " 'water bottle',\n",
              " 'water jug',\n",
              " 'water tower',\n",
              " 'whiskey jug',\n",
              " 'whistle',\n",
              " 'wig',\n",
              " 'window screen',\n",
              " 'window shade',\n",
              " 'Windsor tie',\n",
              " 'wine bottle',\n",
              " 'wing',\n",
              " 'wok',\n",
              " 'wooden spoon',\n",
              " 'wool, woolen, woollen',\n",
              " 'worm fence, snake fence, snake-rail fence, Virginia fence',\n",
              " 'wreck',\n",
              " 'yawl',\n",
              " 'yurt',\n",
              " 'web site, website, internet site, site',\n",
              " 'comic book',\n",
              " 'crossword puzzle, crossword',\n",
              " 'street sign',\n",
              " 'traffic light, traffic signal, stoplight',\n",
              " 'book jacket, dust cover, dust jacket, dust wrapper',\n",
              " 'menu',\n",
              " 'plate',\n",
              " 'guacamole',\n",
              " 'consomme',\n",
              " 'hot pot, hotpot',\n",
              " 'trifle',\n",
              " 'ice cream, icecream',\n",
              " 'ice lolly, lolly, lollipop, popsicle',\n",
              " 'French loaf',\n",
              " 'bagel, beigel',\n",
              " 'pretzel',\n",
              " 'cheeseburger',\n",
              " 'hotdog, hot dog, red hot',\n",
              " 'mashed potato',\n",
              " 'head cabbage',\n",
              " 'broccoli',\n",
              " 'cauliflower',\n",
              " 'zucchini, courgette',\n",
              " 'spaghetti squash',\n",
              " 'acorn squash',\n",
              " 'butternut squash',\n",
              " 'cucumber, cuke',\n",
              " 'artichoke, globe artichoke',\n",
              " 'bell pepper',\n",
              " 'cardoon',\n",
              " 'mushroom',\n",
              " 'Granny Smith',\n",
              " 'strawberry',\n",
              " 'orange',\n",
              " 'lemon',\n",
              " 'fig',\n",
              " 'pineapple, ananas',\n",
              " 'banana',\n",
              " 'jackfruit, jak, jack',\n",
              " 'custard apple',\n",
              " 'pomegranate',\n",
              " 'hay',\n",
              " 'carbonara',\n",
              " 'chocolate sauce, chocolate syrup',\n",
              " 'dough',\n",
              " 'meat loaf, meatloaf',\n",
              " 'pizza, pizza pie',\n",
              " 'potpie',\n",
              " 'burrito',\n",
              " 'red wine',\n",
              " 'espresso',\n",
              " 'cup',\n",
              " 'eggnog',\n",
              " 'alp',\n",
              " 'bubble',\n",
              " 'cliff, drop, drop-off',\n",
              " 'coral reef',\n",
              " 'geyser',\n",
              " 'lakeside, lakeshore',\n",
              " 'promontory, headland, head, foreland',\n",
              " 'sandbar, sand bar',\n",
              " 'seashore, coast, seacoast, sea-coast',\n",
              " 'valley, vale',\n",
              " 'volcano',\n",
              " 'ballplayer, baseball player',\n",
              " 'groom, bridegroom',\n",
              " 'scuba diver',\n",
              " 'rapeseed',\n",
              " 'daisy',\n",
              " \"yellow lady's slipper, yellow lady-slipper, Cypripedium calceolus, Cypripedium parviflorum\",\n",
              " 'corn',\n",
              " 'acorn',\n",
              " 'hip, rose hip, rosehip',\n",
              " 'buckeye, horse chestnut, conker',\n",
              " 'coral fungus',\n",
              " 'agaric',\n",
              " 'gyromitra',\n",
              " 'stinkhorn, carrion fungus',\n",
              " 'earthstar',\n",
              " 'hen-of-the-woods, hen of the woods, Polyporus frondosus, Grifola frondosa',\n",
              " 'bolete',\n",
              " 'ear, spike, capitulum',\n",
              " 'toilet tissue, toilet paper, bathroom tissue']"
            ]
          },
          "metadata": {},
          "execution_count": 11
        }
      ]
    },
    {
      "cell_type": "markdown",
      "source": [
        "# Alexnet Pretrained Model"
      ],
      "metadata": {
        "id": "NofvoGjaVDHA"
      }
    },
    {
      "cell_type": "code",
      "source": [
        "alex = models.alexnet(pretrained=True)\n",
        "alex.eval()"
      ],
      "metadata": {
        "colab": {
          "base_uri": "https://localhost:8080/"
        },
        "id": "R6lKltdXVFhV",
        "outputId": "0bde529a-e6ab-4f30-98d2-a9b7a78855ed"
      },
      "execution_count": null,
      "outputs": [
        {
          "output_type": "execute_result",
          "data": {
            "text/plain": [
              "AlexNet(\n",
              "  (features): Sequential(\n",
              "    (0): Conv2d(3, 64, kernel_size=(11, 11), stride=(4, 4), padding=(2, 2))\n",
              "    (1): ReLU(inplace=True)\n",
              "    (2): MaxPool2d(kernel_size=3, stride=2, padding=0, dilation=1, ceil_mode=False)\n",
              "    (3): Conv2d(64, 192, kernel_size=(5, 5), stride=(1, 1), padding=(2, 2))\n",
              "    (4): ReLU(inplace=True)\n",
              "    (5): MaxPool2d(kernel_size=3, stride=2, padding=0, dilation=1, ceil_mode=False)\n",
              "    (6): Conv2d(192, 384, kernel_size=(3, 3), stride=(1, 1), padding=(1, 1))\n",
              "    (7): ReLU(inplace=True)\n",
              "    (8): Conv2d(384, 256, kernel_size=(3, 3), stride=(1, 1), padding=(1, 1))\n",
              "    (9): ReLU(inplace=True)\n",
              "    (10): Conv2d(256, 256, kernel_size=(3, 3), stride=(1, 1), padding=(1, 1))\n",
              "    (11): ReLU(inplace=True)\n",
              "    (12): MaxPool2d(kernel_size=3, stride=2, padding=0, dilation=1, ceil_mode=False)\n",
              "  )\n",
              "  (avgpool): AdaptiveAvgPool2d(output_size=(6, 6))\n",
              "  (classifier): Sequential(\n",
              "    (0): Dropout(p=0.5, inplace=False)\n",
              "    (1): Linear(in_features=9216, out_features=4096, bias=True)\n",
              "    (2): ReLU(inplace=True)\n",
              "    (3): Dropout(p=0.5, inplace=False)\n",
              "    (4): Linear(in_features=4096, out_features=4096, bias=True)\n",
              "    (5): ReLU(inplace=True)\n",
              "    (6): Linear(in_features=4096, out_features=1000, bias=True)\n",
              "  )\n",
              ")"
            ]
          },
          "metadata": {},
          "execution_count": 12
        }
      ]
    },
    {
      "cell_type": "markdown",
      "source": [
        "# GPU Methods"
      ],
      "metadata": {
        "id": "qq69k9BXen44"
      }
    },
    {
      "cell_type": "code",
      "source": [
        "# Check Primary Device \n",
        "def get_device():\n",
        "  return torch.device(\"cuda:0\" if torch.cuda.is_available() else \"cpu\")\n",
        "\n",
        "device = get_device()\n",
        "print(device)"
      ],
      "metadata": {
        "colab": {
          "base_uri": "https://localhost:8080/"
        },
        "id": "y6KGT0JMeVEZ",
        "outputId": "bfac5d3b-b64d-489f-f7ab-3ced79bd3a09"
      },
      "execution_count": null,
      "outputs": [
        {
          "output_type": "stream",
          "name": "stdout",
          "text": [
            "cuda:0\n"
          ]
        }
      ]
    },
    {
      "cell_type": "code",
      "source": [
        "torch.cuda.empty_cache()"
      ],
      "metadata": {
        "id": "diMwexZ45NuN"
      },
      "execution_count": null,
      "outputs": []
    },
    {
      "cell_type": "code",
      "source": [
        "def get_free_mem():\n",
        "  t = torch.cuda.get_device_properties(0).total_memory\n",
        "  r = torch.cuda.memory_reserved(0)\n",
        "  a = torch.cuda.memory_allocated(0)\n",
        "  f = r-a  # free inside reserved\n",
        "  return t,f\n",
        "\n",
        "get_free_mem()"
      ],
      "metadata": {
        "colab": {
          "base_uri": "https://localhost:8080/"
        },
        "id": "Etl-VpU245AD",
        "outputId": "81718bbb-d60a-4584-e984-fdf0fd569760"
      },
      "execution_count": null,
      "outputs": [
        {
          "output_type": "execute_result",
          "data": {
            "text/plain": [
              "(17071734784, 0)"
            ]
          },
          "metadata": {},
          "execution_count": 15
        }
      ]
    },
    {
      "cell_type": "code",
      "source": [
        "alex.to(device)\n",
        "preds = []"
      ],
      "metadata": {
        "id": "48GteA7h2yLA"
      },
      "execution_count": null,
      "outputs": []
    },
    {
      "cell_type": "markdown",
      "source": [
        "## Classify CIFAR10 Images Using AlexNet (GPU)"
      ],
      "metadata": {
        "id": "Tv0VDRpM-3BY"
      }
    },
    {
      "cell_type": "code",
      "source": [
        "from tqdm import tqdm\n",
        "with torch.no_grad():\n",
        "  for images, labels in tqdm(test_loader):\n",
        "    images, labels = images.to(device), labels.to(device) \n",
        "    out = alex(images)\n",
        "    for i in range(batch_size):\n",
        "      sorted_out, indices = torch.sort(out, descending=True)\n",
        "      percent = torch.nn.functional.softmax(out, dim=1)[i] * 100\n",
        "      for index in indices[i][:10]:\n",
        "        preds.append([ imagenet_classes[index], percent[index].item(), cifar_classes[int(labels[i])] ])\n",
        "\n"
      ],
      "metadata": {
        "colab": {
          "base_uri": "https://localhost:8080/"
        },
        "id": "f0sRTT7Pwd5M",
        "outputId": "8e98a01b-1bbd-4678-9c76-2b4484df0f8e"
      },
      "execution_count": null,
      "outputs": [
        {
          "output_type": "stream",
          "name": "stderr",
          "text": [
            "100%|██████████| 100/100 [00:29<00:00,  3.35it/s]\n"
          ]
        }
      ]
    },
    {
      "cell_type": "markdown",
      "source": [
        "### Get Correlation Matrix"
      ],
      "metadata": {
        "id": "QURvVNmW_IeV"
      }
    },
    {
      "cell_type": "code",
      "source": [
        "from collections import Counter\n",
        "def get_most_common(arr, num_elements=10):\n",
        "  a_counter = Counter(arr)\n",
        "  most_common = a_counter.most_common(num_elements)\n",
        "  ret = []\n",
        "  for i in range(num_elements):\n",
        "    ret.append(most_common[i][0])\n",
        "  return ret, most_common"
      ],
      "metadata": {
        "id": "UJHSV_cec-Za"
      },
      "execution_count": null,
      "outputs": []
    },
    {
      "cell_type": "code",
      "source": [
        "y_pred = []\n",
        "for row in preds:\n",
        "  y_pred.append(row[0])\n",
        "\n",
        "common_imagenet_classes, freqs = get_most_common(y_pred)\n",
        "common_imagenet_classes\n"
      ],
      "metadata": {
        "colab": {
          "base_uri": "https://localhost:8080/"
        },
        "id": "MyQ1Dgtj4AFz",
        "outputId": "f2258767-bbd6-4631-8b03-d2608b0def11"
      },
      "execution_count": null,
      "outputs": [
        {
          "output_type": "execute_result",
          "data": {
            "text/plain": [
              "['fox squirrel, eastern fox squirrel, Sciurus niger',\n",
              " 'moving van',\n",
              " 'milk can',\n",
              " 'English foxhound',\n",
              " 'thresher, thrasher, threshing machine',\n",
              " 'Dandie Dinmont, Dandie Dinmont terrier',\n",
              " 'wire-haired fox terrier',\n",
              " 'patas, hussar monkey, Erythrocebus patas',\n",
              " 'container ship, containership, container vessel',\n",
              " 'Japanese spaniel']"
            ]
          },
          "metadata": {},
          "execution_count": 19
        }
      ]
    },
    {
      "cell_type": "code",
      "source": [
        "freqs"
      ],
      "metadata": {
        "colab": {
          "base_uri": "https://localhost:8080/"
        },
        "id": "XjDd_0VUFwH-",
        "outputId": "255757b8-84f0-43eb-897e-8158b229eca7"
      },
      "execution_count": null,
      "outputs": [
        {
          "output_type": "execute_result",
          "data": {
            "text/plain": [
              "[('fox squirrel, eastern fox squirrel, Sciurus niger', 2741),\n",
              " ('moving van', 2513),\n",
              " ('milk can', 1798),\n",
              " ('English foxhound', 1735),\n",
              " ('thresher, thrasher, threshing machine', 1644),\n",
              " ('Dandie Dinmont, Dandie Dinmont terrier', 1399),\n",
              " ('wire-haired fox terrier', 1354),\n",
              " ('patas, hussar monkey, Erythrocebus patas', 1307),\n",
              " ('container ship, containership, container vessel', 1287),\n",
              " ('Japanese spaniel', 1253)]"
            ]
          },
          "metadata": {},
          "execution_count": 20
        }
      ]
    },
    {
      "cell_type": "code",
      "source": [
        "y_predicted = []\n",
        "y_truth = []\n",
        "y = []\n",
        "for row in preds:\n",
        "  if row[0] in common_imagenet_classes:\n",
        "    y_predicted.append(row[0])\n",
        "    y_truth.append(row[-1])\n",
        "    y.append([row[0], row[-1]])"
      ],
      "metadata": {
        "id": "Pliqz24tDlAs"
      },
      "execution_count": null,
      "outputs": []
    },
    {
      "cell_type": "code",
      "source": [
        "len(y_predicted)"
      ],
      "metadata": {
        "colab": {
          "base_uri": "https://localhost:8080/"
        },
        "id": "XpMr7yY-EOgx",
        "outputId": "21a26552-a492-4c09-d05a-9711592048cd"
      },
      "execution_count": null,
      "outputs": [
        {
          "output_type": "execute_result",
          "data": {
            "text/plain": [
              "17031"
            ]
          },
          "metadata": {},
          "execution_count": 22
        }
      ]
    },
    {
      "cell_type": "code",
      "source": [
        "len(y)"
      ],
      "metadata": {
        "colab": {
          "base_uri": "https://localhost:8080/"
        },
        "id": "QZ03Gf3tmsv_",
        "outputId": "4184b5fb-3499-4db4-e047-df419289e678"
      },
      "execution_count": null,
      "outputs": [
        {
          "output_type": "execute_result",
          "data": {
            "text/plain": [
              "17031"
            ]
          },
          "metadata": {},
          "execution_count": 23
        }
      ]
    },
    {
      "cell_type": "code",
      "source": [
        "len(y_truth)"
      ],
      "metadata": {
        "colab": {
          "base_uri": "https://localhost:8080/"
        },
        "id": "AwkPhVIcGUjw",
        "outputId": "1c217dd8-09f1-4663-acca-890add23a7f7"
      },
      "execution_count": null,
      "outputs": [
        {
          "output_type": "execute_result",
          "data": {
            "text/plain": [
              "17031"
            ]
          },
          "metadata": {},
          "execution_count": 24
        }
      ]
    },
    {
      "cell_type": "code",
      "source": [
        "import pandas as pd\n",
        "\n",
        "df = pd.DataFrame(y, columns = ['Predicted Value', 'Truth Value'])\n",
        "print(df)"
      ],
      "metadata": {
        "colab": {
          "base_uri": "https://localhost:8080/"
        },
        "id": "1J3cLnp0mO7V",
        "outputId": "7ccc3c72-a28f-4c4e-9051-d74af69d8ec8"
      },
      "execution_count": null,
      "outputs": [
        {
          "output_type": "stream",
          "name": "stdout",
          "text": [
            "                                         Predicted Value Truth Value\n",
            "0      fox squirrel, eastern fox squirrel, Sciurus niger         cat\n",
            "1                                       English foxhound         cat\n",
            "2        container ship, containership, container vessel         cat\n",
            "3                                             moving van        ship\n",
            "4        container ship, containership, container vessel        ship\n",
            "...                                                  ...         ...\n",
            "17026                                   Japanese spaniel         dog\n",
            "17027             Dandie Dinmont, Dandie Dinmont terrier         dog\n",
            "17028                            wire-haired fox terrier         dog\n",
            "17029                                           milk can         dog\n",
            "17030                                   English foxhound  automobile\n",
            "\n",
            "[17031 rows x 2 columns]\n"
          ]
        }
      ]
    },
    {
      "cell_type": "code",
      "source": [
        "confusion_matrix = pd.crosstab(df['Predicted Value'], df['Truth Value'], rownames=['Predicted Values (ImageNet Labels)'], colnames=['True Values (CIFAR10 Labels)'])\n",
        "print (confusion_matrix)"
      ],
      "metadata": {
        "colab": {
          "base_uri": "https://localhost:8080/"
        },
        "id": "AYwyktCa7IKp",
        "outputId": "6220a946-985d-4c3e-95eb-ad40f6104e22"
      },
      "execution_count": null,
      "outputs": [
        {
          "output_type": "stream",
          "name": "stdout",
          "text": [
            "True Values (CIFAR10 Labels)                       airplane  automobile  bird  \\\n",
            "Predicted Values (ImageNet Labels)                                              \n",
            "Dandie Dinmont, Dandie Dinmont terrier                   25          40   119   \n",
            "English foxhound                                         34          31   162   \n",
            "Japanese spaniel                                         25          32   101   \n",
            "container ship, containership, container vessel         205         112     5   \n",
            "fox squirrel, eastern fox squirrel, Sciurus niger        91          72   519   \n",
            "milk can                                                107         283   125   \n",
            "moving van                                              237         767     8   \n",
            "patas, hussar monkey, Erythrocebus patas                 11          27   312   \n",
            "thresher, thrasher, threshing machine                   237         364    18   \n",
            "wire-haired fox terrier                                  14           5   103   \n",
            "\n",
            "True Values (CIFAR10 Labels)                       cat  deer  dog  frog  \\\n",
            "Predicted Values (ImageNet Labels)                                        \n",
            "Dandie Dinmont, Dandie Dinmont terrier             268   158  469   114   \n",
            "English foxhound                                   284   252  419    44   \n",
            "Japanese spaniel                                   262    41  563    15   \n",
            "container ship, containership, container vessel      3    14    0     2   \n",
            "fox squirrel, eastern fox squirrel, Sciurus niger  411   515  173   682   \n",
            "milk can                                           210   108   88    73   \n",
            "moving van                                          27     8    9     1   \n",
            "patas, hussar monkey, Erythrocebus patas           185   242  186   209   \n",
            "thresher, thrasher, threshing machine                5    27    4     6   \n",
            "wire-haired fox terrier                            382   102  489    58   \n",
            "\n",
            "True Values (CIFAR10 Labels)                       horse  ship  truck  \n",
            "Predicted Values (ImageNet Labels)                                     \n",
            "Dandie Dinmont, Dandie Dinmont terrier               129    30     47  \n",
            "English foxhound                                     464    28     17  \n",
            "Japanese spaniel                                     193    15      6  \n",
            "container ship, containership, container vessel       21   609    316  \n",
            "fox squirrel, eastern fox squirrel, Sciurus niger    166    71     41  \n",
            "milk can                                             144   299    361  \n",
            "moving van                                            62   467    927  \n",
            "patas, hussar monkey, Erythrocebus patas             115    10     10  \n",
            "thresher, thrasher, threshing machine                108   173    702  \n",
            "wire-haired fox terrier                              180    15      6  \n"
          ]
        }
      ]
    },
    {
      "cell_type": "code",
      "source": [
        "import seaborn as sns\n",
        "fig, ax = plt.subplots(figsize=(15, 15)) \n",
        "sns.heatmap(confusion_matrix, annot=True, square=False)\n",
        "plt.title(\"Correlation Matrix\")\n",
        "plt.show()\n",
        "fig.tight_layout()\n",
        "fig.savefig(\"part_a_correlation_matrix.png\", dpi=199)\n"
      ],
      "metadata": {
        "colab": {
          "base_uri": "https://localhost:8080/",
          "height": 893
        },
        "id": "XIe8kL3q7Z13",
        "outputId": "4e70fe1e-ca62-4c5f-cbb4-2af7e5e8bac0"
      },
      "execution_count": null,
      "outputs": [
        {
          "output_type": "display_data",
          "data": {
            "text/plain": [
              "<Figure size 1080x1080 with 2 Axes>"
            ],
            "image/png": "[encoded data removed]"
          },
          "metadata": {
            "needs_background": "light"
          }
        }
      ]
    },
    {
      "cell_type": "markdown",
      "source": [
        "#### Debugging (Don't Run)"
      ],
      "metadata": {
        "id": "CoM-u_p582dQ"
      }
    },
    {
      "cell_type": "code",
      "source": [
        "frame = df.groupby(['Predicted Value', 'Truth Value']).size().reset_index().rename(columns={0:'Count'})\n",
        "frame"
      ],
      "metadata": {
        "colab": {
          "base_uri": "https://localhost:8080/",
          "height": 423
        },
        "id": "PYDwHgWaoPBs",
        "outputId": "1e569bd1-da42-4103-8184-fb3eef970df5"
      },
      "execution_count": null,
      "outputs": [
        {
          "output_type": "execute_result",
          "data": {
            "text/plain": [
              "                           Predicted Value Truth Value  Count\n",
              "0   Dandie Dinmont, Dandie Dinmont terrier    airplane     25\n",
              "1   Dandie Dinmont, Dandie Dinmont terrier  automobile     40\n",
              "2   Dandie Dinmont, Dandie Dinmont terrier        bird    119\n",
              "3   Dandie Dinmont, Dandie Dinmont terrier         cat    268\n",
              "4   Dandie Dinmont, Dandie Dinmont terrier        deer    158\n",
              "..                                     ...         ...    ...\n",
              "94                 wire-haired fox terrier         dog    489\n",
              "95                 wire-haired fox terrier        frog     58\n",
              "96                 wire-haired fox terrier       horse    180\n",
              "97                 wire-haired fox terrier        ship     15\n",
              "98                 wire-haired fox terrier       truck      6\n",
              "\n",
              "[99 rows x 3 columns]"
            ],
            "text/html": [
              "\n",
              "  <div id=\"df-aaad1133-5126-4544-bfd7-97ec5becf3bb\">\n",
              "    <div class=\"colab-df-container\">\n",
              "      <div>\n",
              "<style scoped>\n",
              "    .dataframe tbody tr th:only-of-type {\n",
              "        vertical-align: middle;\n",
              "    }\n",
              "\n",
              "    .dataframe tbody tr th {\n",
              "        vertical-align: top;\n",
              "    }\n",
              "\n",
              "    .dataframe thead th {\n",
              "        text-align: right;\n",
              "    }\n",
              "</style>\n",
              "<table border=\"1\" class=\"dataframe\">\n",
              "  <thead>\n",
              "    <tr style=\"text-align: right;\">\n",
              "      <th></th>\n",
              "      <th>Predicted Value</th>\n",
              "      <th>Truth Value</th>\n",
              "      <th>Count</th>\n",
              "    </tr>\n",
              "  </thead>\n",
              "  <tbody>\n",
              "    <tr>\n",
              "      <th>0</th>\n",
              "      <td>Dandie Dinmont, Dandie Dinmont terrier</td>\n",
              "      <td>airplane</td>\n",
              "      <td>25</td>\n",
              "    </tr>\n",
              "    <tr>\n",
              "      <th>1</th>\n",
              "      <td>Dandie Dinmont, Dandie Dinmont terrier</td>\n",
              "      <td>automobile</td>\n",
              "      <td>40</td>\n",
              "    </tr>\n",
              "    <tr>\n",
              "      <th>2</th>\n",
              "      <td>Dandie Dinmont, Dandie Dinmont terrier</td>\n",
              "      <td>bird</td>\n",
              "      <td>119</td>\n",
              "    </tr>\n",
              "    <tr>\n",
              "      <th>3</th>\n",
              "      <td>Dandie Dinmont, Dandie Dinmont terrier</td>\n",
              "      <td>cat</td>\n",
              "      <td>268</td>\n",
              "    </tr>\n",
              "    <tr>\n",
              "      <th>4</th>\n",
              "      <td>Dandie Dinmont, Dandie Dinmont terrier</td>\n",
              "      <td>deer</td>\n",
              "      <td>158</td>\n",
              "    </tr>\n",
              "    <tr>\n",
              "      <th>...</th>\n",
              "      <td>...</td>\n",
              "      <td>...</td>\n",
              "      <td>...</td>\n",
              "    </tr>\n",
              "    <tr>\n",
              "      <th>94</th>\n",
              "      <td>wire-haired fox terrier</td>\n",
              "      <td>dog</td>\n",
              "      <td>489</td>\n",
              "    </tr>\n",
              "    <tr>\n",
              "      <th>95</th>\n",
              "      <td>wire-haired fox terrier</td>\n",
              "      <td>frog</td>\n",
              "      <td>58</td>\n",
              "    </tr>\n",
              "    <tr>\n",
              "      <th>96</th>\n",
              "      <td>wire-haired fox terrier</td>\n",
              "      <td>horse</td>\n",
              "      <td>180</td>\n",
              "    </tr>\n",
              "    <tr>\n",
              "      <th>97</th>\n",
              "      <td>wire-haired fox terrier</td>\n",
              "      <td>ship</td>\n",
              "      <td>15</td>\n",
              "    </tr>\n",
              "    <tr>\n",
              "      <th>98</th>\n",
              "      <td>wire-haired fox terrier</td>\n",
              "      <td>truck</td>\n",
              "      <td>6</td>\n",
              "    </tr>\n",
              "  </tbody>\n",
              "</table>\n",
              "<p>99 rows × 3 columns</p>\n",
              "</div>\n",
              "      <button class=\"colab-df-convert\" onclick=\"convertToInteractive('df-aaad1133-5126-4544-bfd7-97ec5becf3bb')\"\n",
              "              title=\"Convert this dataframe to an interactive table.\"\n",
              "              style=\"display:none;\">\n",
              "        \n",
              "  <svg xmlns=\"http://www.w3.org/2000/svg\" height=\"24px\"viewBox=\"0 0 24 24\"\n",
              "       width=\"24px\">\n",
              "    <path d=\"M0 0h24v24H0V0z\" fill=\"none\"/>\n",
              "    <path d=\"M18.56 5.44l.94 2.06.94-2.06 2.06-.94-2.06-.94-.94-2.06-.94 2.06-2.06.94zm-11 1L8.5 8.5l.94-2.06 2.06-.94-2.06-.94L8.5 2.5l-.94 2.06-2.06.94zm10 10l.94 2.06.94-2.06 2.06-.94-2.06-.94-.94-2.06-.94 2.06-2.06.94z\"/><path d=\"M17.41 7.96l-1.37-1.37c-.4-.4-.92-.59-1.43-.59-.52 0-1.04.2-1.43.59L10.3 9.45l-7.72 7.72c-.78.78-.78 2.05 0 2.83L4 21.41c.39.39.9.59 1.41.59.51 0 1.02-.2 1.41-.59l7.78-7.78 2.81-2.81c.8-.78.8-2.07 0-2.86zM5.41 20L4 18.59l7.72-7.72 1.47 1.35L5.41 20z\"/>\n",
              "  </svg>\n",
              "      </button>\n",
              "      \n",
              "  <style>\n",
              "    .colab-df-container {\n",
              "      display:flex;\n",
              "      flex-wrap:wrap;\n",
              "      gap: 12px;\n",
              "    }\n",
              "\n",
              "    .colab-df-convert {\n",
              "      background-color: #E8F0FE;\n",
              "      border: none;\n",
              "      border-radius: 50%;\n",
              "      cursor: pointer;\n",
              "      display: none;\n",
              "      fill: #1967D2;\n",
              "      height: 32px;\n",
              "      padding: 0 0 0 0;\n",
              "      width: 32px;\n",
              "    }\n",
              "\n",
              "    .colab-df-convert:hover {\n",
              "      background-color: #E2EBFA;\n",
              "      box-shadow: 0px 1px 2px rgba(60, 64, 67, 0.3), 0px 1px 3px 1px rgba(60, 64, 67, 0.15);\n",
              "      fill: #174EA6;\n",
              "    }\n",
              "\n",
              "    [theme=dark] .colab-df-convert {\n",
              "      background-color: #3B4455;\n",
              "      fill: #D2E3FC;\n",
              "    }\n",
              "\n",
              "    [theme=dark] .colab-df-convert:hover {\n",
              "      background-color: #434B5C;\n",
              "      box-shadow: 0px 1px 3px 1px rgba(0, 0, 0, 0.15);\n",
              "      filter: drop-shadow(0px 1px 2px rgba(0, 0, 0, 0.3));\n",
              "      fill: #FFFFFF;\n",
              "    }\n",
              "  </style>\n",
              "\n",
              "      <script>\n",
              "        const buttonEl =\n",
              "          document.querySelector('#df-aaad1133-5126-4544-bfd7-97ec5becf3bb button.colab-df-convert');\n",
              "        buttonEl.style.display =\n",
              "          google.colab.kernel.accessAllowed ? 'block' : 'none';\n",
              "\n",
              "        async function convertToInteractive(key) {\n",
              "          const element = document.querySelector('#df-aaad1133-5126-4544-bfd7-97ec5becf3bb');\n",
              "          const dataTable =\n",
              "            await google.colab.kernel.invokeFunction('convertToInteractive',\n",
              "                                                     [key], {});\n",
              "          if (!dataTable) return;\n",
              "\n",
              "          const docLinkHtml = 'Like what you see? Visit the ' +\n",
              "            '<a target=\"_blank\" href=https://colab.research.google.com/notebooks/data_table.ipynb>data table notebook</a>'\n",
              "            + ' to learn more about interactive tables.';\n",
              "          element.innerHTML = '';\n",
              "          dataTable['output_type'] = 'display_data';\n",
              "          await google.colab.output.renderOutput(dataTable, element);\n",
              "          const docLink = document.createElement('div');\n",
              "          docLink.innerHTML = docLinkHtml;\n",
              "          element.appendChild(docLink);\n",
              "        }\n",
              "      </script>\n",
              "    </div>\n",
              "  </div>\n",
              "  "
            ]
          },
          "metadata": {},
          "execution_count": 28
        }
      ]
    },
    {
      "cell_type": "code",
      "source": [
        "frame_sorted = frame.sort_values(by=['Count'], ascending=False)\n",
        "frame_sorted"
      ],
      "metadata": {
        "colab": {
          "base_uri": "https://localhost:8080/",
          "height": 423
        },
        "id": "yvakPM0-8I9w",
        "outputId": "5e5b0cc4-2bbe-4e03-89eb-62b84b4b6d37"
      },
      "execution_count": null,
      "outputs": [
        {
          "output_type": "execute_result",
          "data": {
            "text/plain": [
              "                                      Predicted Value Truth Value  Count\n",
              "68                                         moving van       truck    927\n",
              "60                                         moving van  automobile    767\n",
              "88              thresher, thrasher, threshing machine       truck    702\n",
              "45  fox squirrel, eastern fox squirrel, Sciurus niger        frog    682\n",
              "37    container ship, containership, container vessel        ship    609\n",
              "..                                                ...         ...    ...\n",
              "82              thresher, thrasher, threshing machine         cat      5\n",
              "84              thresher, thrasher, threshing machine         dog      4\n",
              "33    container ship, containership, container vessel         cat      3\n",
              "35    container ship, containership, container vessel        frog      2\n",
              "65                                         moving van        frog      1\n",
              "\n",
              "[99 rows x 3 columns]"
            ],
            "text/html": [
              "\n",
              "  <div id=\"df-34665102-c160-4357-9f71-e31afc2f1421\">\n",
              "    <div class=\"colab-df-container\">\n",
              "      <div>\n",
              "<style scoped>\n",
              "    .dataframe tbody tr th:only-of-type {\n",
              "        vertical-align: middle;\n",
              "    }\n",
              "\n",
              "    .dataframe tbody tr th {\n",
              "        vertical-align: top;\n",
              "    }\n",
              "\n",
              "    .dataframe thead th {\n",
              "        text-align: right;\n",
              "    }\n",
              "</style>\n",
              "<table border=\"1\" class=\"dataframe\">\n",
              "  <thead>\n",
              "    <tr style=\"text-align: right;\">\n",
              "      <th></th>\n",
              "      <th>Predicted Value</th>\n",
              "      <th>Truth Value</th>\n",
              "      <th>Count</th>\n",
              "    </tr>\n",
              "  </thead>\n",
              "  <tbody>\n",
              "    <tr>\n",
              "      <th>68</th>\n",
              "      <td>moving van</td>\n",
              "      <td>truck</td>\n",
              "      <td>927</td>\n",
              "    </tr>\n",
              "    <tr>\n",
              "      <th>60</th>\n",
              "      <td>moving van</td>\n",
              "      <td>automobile</td>\n",
              "      <td>767</td>\n",
              "    </tr>\n",
              "    <tr>\n",
              "      <th>88</th>\n",
              "      <td>thresher, thrasher, threshing machine</td>\n",
              "      <td>truck</td>\n",
              "      <td>702</td>\n",
              "    </tr>\n",
              "    <tr>\n",
              "      <th>45</th>\n",
              "      <td>fox squirrel, eastern fox squirrel, Sciurus niger</td>\n",
              "      <td>frog</td>\n",
              "      <td>682</td>\n",
              "    </tr>\n",
              "    <tr>\n",
              "      <th>37</th>\n",
              "      <td>container ship, containership, container vessel</td>\n",
              "      <td>ship</td>\n",
              "      <td>609</td>\n",
              "    </tr>\n",
              "    <tr>\n",
              "      <th>...</th>\n",
              "      <td>...</td>\n",
              "      <td>...</td>\n",
              "      <td>...</td>\n",
              "    </tr>\n",
              "    <tr>\n",
              "      <th>82</th>\n",
              "      <td>thresher, thrasher, threshing machine</td>\n",
              "      <td>cat</td>\n",
              "      <td>5</td>\n",
              "    </tr>\n",
              "    <tr>\n",
              "      <th>84</th>\n",
              "      <td>thresher, thrasher, threshing machine</td>\n",
              "      <td>dog</td>\n",
              "      <td>4</td>\n",
              "    </tr>\n",
              "    <tr>\n",
              "      <th>33</th>\n",
              "      <td>container ship, containership, container vessel</td>\n",
              "      <td>cat</td>\n",
              "      <td>3</td>\n",
              "    </tr>\n",
              "    <tr>\n",
              "      <th>35</th>\n",
              "      <td>container ship, containership, container vessel</td>\n",
              "      <td>frog</td>\n",
              "      <td>2</td>\n",
              "    </tr>\n",
              "    <tr>\n",
              "      <th>65</th>\n",
              "      <td>moving van</td>\n",
              "      <td>frog</td>\n",
              "      <td>1</td>\n",
              "    </tr>\n",
              "  </tbody>\n",
              "</table>\n",
              "<p>99 rows × 3 columns</p>\n",
              "</div>\n",
              "      <button class=\"colab-df-convert\" onclick=\"convertToInteractive('df-34665102-c160-4357-9f71-e31afc2f1421')\"\n",
              "              title=\"Convert this dataframe to an interactive table.\"\n",
              "              style=\"display:none;\">\n",
              "        \n",
              "  <svg xmlns=\"http://www.w3.org/2000/svg\" height=\"24px\"viewBox=\"0 0 24 24\"\n",
              "       width=\"24px\">\n",
              "    <path d=\"M0 0h24v24H0V0z\" fill=\"none\"/>\n",
              "    <path d=\"M18.56 5.44l.94 2.06.94-2.06 2.06-.94-2.06-.94-.94-2.06-.94 2.06-2.06.94zm-11 1L8.5 8.5l.94-2.06 2.06-.94-2.06-.94L8.5 2.5l-.94 2.06-2.06.94zm10 10l.94 2.06.94-2.06 2.06-.94-2.06-.94-.94-2.06-.94 2.06-2.06.94z\"/><path d=\"M17.41 7.96l-1.37-1.37c-.4-.4-.92-.59-1.43-.59-.52 0-1.04.2-1.43.59L10.3 9.45l-7.72 7.72c-.78.78-.78 2.05 0 2.83L4 21.41c.39.39.9.59 1.41.59.51 0 1.02-.2 1.41-.59l7.78-7.78 2.81-2.81c.8-.78.8-2.07 0-2.86zM5.41 20L4 18.59l7.72-7.72 1.47 1.35L5.41 20z\"/>\n",
              "  </svg>\n",
              "      </button>\n",
              "      \n",
              "  <style>\n",
              "    .colab-df-container {\n",
              "      display:flex;\n",
              "      flex-wrap:wrap;\n",
              "      gap: 12px;\n",
              "    }\n",
              "\n",
              "    .colab-df-convert {\n",
              "      background-color: #E8F0FE;\n",
              "      border: none;\n",
              "      border-radius: 50%;\n",
              "      cursor: pointer;\n",
              "      display: none;\n",
              "      fill: #1967D2;\n",
              "      height: 32px;\n",
              "      padding: 0 0 0 0;\n",
              "      width: 32px;\n",
              "    }\n",
              "\n",
              "    .colab-df-convert:hover {\n",
              "      background-color: #E2EBFA;\n",
              "      box-shadow: 0px 1px 2px rgba(60, 64, 67, 0.3), 0px 1px 3px 1px rgba(60, 64, 67, 0.15);\n",
              "      fill: #174EA6;\n",
              "    }\n",
              "\n",
              "    [theme=dark] .colab-df-convert {\n",
              "      background-color: #3B4455;\n",
              "      fill: #D2E3FC;\n",
              "    }\n",
              "\n",
              "    [theme=dark] .colab-df-convert:hover {\n",
              "      background-color: #434B5C;\n",
              "      box-shadow: 0px 1px 3px 1px rgba(0, 0, 0, 0.15);\n",
              "      filter: drop-shadow(0px 1px 2px rgba(0, 0, 0, 0.3));\n",
              "      fill: #FFFFFF;\n",
              "    }\n",
              "  </style>\n",
              "\n",
              "      <script>\n",
              "        const buttonEl =\n",
              "          document.querySelector('#df-34665102-c160-4357-9f71-e31afc2f1421 button.colab-df-convert');\n",
              "        buttonEl.style.display =\n",
              "          google.colab.kernel.accessAllowed ? 'block' : 'none';\n",
              "\n",
              "        async function convertToInteractive(key) {\n",
              "          const element = document.querySelector('#df-34665102-c160-4357-9f71-e31afc2f1421');\n",
              "          const dataTable =\n",
              "            await google.colab.kernel.invokeFunction('convertToInteractive',\n",
              "                                                     [key], {});\n",
              "          if (!dataTable) return;\n",
              "\n",
              "          const docLinkHtml = 'Like what you see? Visit the ' +\n",
              "            '<a target=\"_blank\" href=https://colab.research.google.com/notebooks/data_table.ipynb>data table notebook</a>'\n",
              "            + ' to learn more about interactive tables.';\n",
              "          element.innerHTML = '';\n",
              "          dataTable['output_type'] = 'display_data';\n",
              "          await google.colab.output.renderOutput(dataTable, element);\n",
              "          const docLink = document.createElement('div');\n",
              "          docLink.innerHTML = docLinkHtml;\n",
              "          element.appendChild(docLink);\n",
              "        }\n",
              "      </script>\n",
              "    </div>\n",
              "  </div>\n",
              "  "
            ]
          },
          "metadata": {},
          "execution_count": 29
        }
      ]
    },
    {
      "cell_type": "code",
      "source": [
        "x_labels = [v for v in sorted ((df['Predicted Value']).unique())]\n",
        "x_labels"
      ],
      "metadata": {
        "colab": {
          "base_uri": "https://localhost:8080/"
        },
        "id": "t6c5lJPp20DP",
        "outputId": "5e179a04-c3a8-43e3-ae0c-09af9b292e67"
      },
      "execution_count": null,
      "outputs": [
        {
          "output_type": "execute_result",
          "data": {
            "text/plain": [
              "['Dandie Dinmont, Dandie Dinmont terrier',\n",
              " 'English foxhound',\n",
              " 'Japanese spaniel',\n",
              " 'container ship, containership, container vessel',\n",
              " 'fox squirrel, eastern fox squirrel, Sciurus niger',\n",
              " 'milk can',\n",
              " 'moving van',\n",
              " 'patas, hussar monkey, Erythrocebus patas',\n",
              " 'thresher, thrasher, threshing machine',\n",
              " 'wire-haired fox terrier']"
            ]
          },
          "metadata": {},
          "execution_count": 30
        }
      ]
    },
    {
      "cell_type": "code",
      "source": [
        "y_labels = [v for v in sorted ((df['Truth Value']).unique())]\n",
        "y_labels"
      ],
      "metadata": {
        "colab": {
          "base_uri": "https://localhost:8080/"
        },
        "id": "U1KcbbRb4Tdv",
        "outputId": "37f17fc5-fca1-4f07-d675-46e20c2ff1b6"
      },
      "execution_count": null,
      "outputs": [
        {
          "output_type": "execute_result",
          "data": {
            "text/plain": [
              "['airplane',\n",
              " 'automobile',\n",
              " 'bird',\n",
              " 'cat',\n",
              " 'deer',\n",
              " 'dog',\n",
              " 'frog',\n",
              " 'horse',\n",
              " 'ship',\n",
              " 'truck']"
            ]
          },
          "metadata": {},
          "execution_count": 31
        }
      ]
    },
    {
      "cell_type": "markdown",
      "source": [
        "# Part C\n",
        "\n",
        "Use one of deep learning frameworks (Pytorch, Tensorflow, Keras) and the AlexNet\n",
        "pretrained model to extract features for all the images in the CIFAR10 dataset. Use the output of the ’fc6’ layer. Train a linear classifier (logistic regression or linear svm) and evaluate it, using the train, validation and test partitions suggested for the dataset "
      ],
      "metadata": {
        "id": "VhWH6mjRE_1R"
      }
    },
    {
      "cell_type": "code",
      "source": [
        "model = models.alexnet(pretrained=True)\n",
        "model.eval()"
      ],
      "metadata": {
        "colab": {
          "base_uri": "https://localhost:8080/"
        },
        "id": "tthutegqFA_s",
        "outputId": "5f37027c-cd06-4b4d-ac9b-af8319451fbf"
      },
      "execution_count": null,
      "outputs": [
        {
          "output_type": "execute_result",
          "data": {
            "text/plain": [
              "AlexNet(\n",
              "  (features): Sequential(\n",
              "    (0): Conv2d(3, 64, kernel_size=(11, 11), stride=(4, 4), padding=(2, 2))\n",
              "    (1): ReLU(inplace=True)\n",
              "    (2): MaxPool2d(kernel_size=3, stride=2, padding=0, dilation=1, ceil_mode=False)\n",
              "    (3): Conv2d(64, 192, kernel_size=(5, 5), stride=(1, 1), padding=(2, 2))\n",
              "    (4): ReLU(inplace=True)\n",
              "    (5): MaxPool2d(kernel_size=3, stride=2, padding=0, dilation=1, ceil_mode=False)\n",
              "    (6): Conv2d(192, 384, kernel_size=(3, 3), stride=(1, 1), padding=(1, 1))\n",
              "    (7): ReLU(inplace=True)\n",
              "    (8): Conv2d(384, 256, kernel_size=(3, 3), stride=(1, 1), padding=(1, 1))\n",
              "    (9): ReLU(inplace=True)\n",
              "    (10): Conv2d(256, 256, kernel_size=(3, 3), stride=(1, 1), padding=(1, 1))\n",
              "    (11): ReLU(inplace=True)\n",
              "    (12): MaxPool2d(kernel_size=3, stride=2, padding=0, dilation=1, ceil_mode=False)\n",
              "  )\n",
              "  (avgpool): AdaptiveAvgPool2d(output_size=(6, 6))\n",
              "  (classifier): Sequential(\n",
              "    (0): Dropout(p=0.5, inplace=False)\n",
              "    (1): Linear(in_features=9216, out_features=4096, bias=True)\n",
              "    (2): ReLU(inplace=True)\n",
              "    (3): Dropout(p=0.5, inplace=False)\n",
              "    (4): Linear(in_features=4096, out_features=4096, bias=True)\n",
              "    (5): ReLU(inplace=True)\n",
              "    (6): Linear(in_features=4096, out_features=1000, bias=True)\n",
              "  )\n",
              ")"
            ]
          },
          "metadata": {},
          "execution_count": 102
        }
      ]
    },
    {
      "cell_type": "code",
      "source": [
        "print(model.classifier[:-5]) #fc6 layer output\n",
        "print(model.classifier[:-2]) #fc7 layer"
      ],
      "metadata": {
        "colab": {
          "base_uri": "https://localhost:8080/"
        },
        "id": "LPUmpqaX1_qZ",
        "outputId": "995bd0a3-4e0b-4b7e-c4c6-9f1a49ba9f14"
      },
      "execution_count": null,
      "outputs": [
        {
          "output_type": "stream",
          "name": "stdout",
          "text": [
            "Sequential(\n",
            "  (0): Dropout(p=0.5, inplace=False)\n",
            "  (1): Linear(in_features=9216, out_features=4096, bias=True)\n",
            ")\n",
            "Sequential(\n",
            "  (0): Dropout(p=0.5, inplace=False)\n",
            "  (1): Linear(in_features=9216, out_features=4096, bias=True)\n",
            "  (2): ReLU(inplace=True)\n",
            "  (3): Dropout(p=0.5, inplace=False)\n",
            "  (4): Linear(in_features=4096, out_features=4096, bias=True)\n",
            ")\n"
          ]
        }
      ]
    },
    {
      "cell_type": "markdown",
      "source": [
        "## Setup Alexnet for FC6 Layer feature extraction & move to GPU"
      ],
      "metadata": {
        "id": "HhX5O7wg-uG4"
      }
    },
    {
      "cell_type": "code",
      "source": [
        "model_fc6 = models.alexnet(pretrained=True)\n",
        "\n",
        "for param in model_fc6.features.parameters():\n",
        "  param.requires_grad = False \n",
        "\n",
        "for param in model_fc6.classifier.parameters():\n",
        "  param.requires_grad = False \n",
        "\n",
        "new_classifier = nn.Sequential(*list(model_fc6.classifier.children())[:-5])\n",
        "model_fc6.classifier = new_classifier\n"
      ],
      "metadata": {
        "id": "WAWnSj7dFJyo"
      },
      "execution_count": null,
      "outputs": []
    },
    {
      "cell_type": "code",
      "source": [
        "model_fc6.eval()"
      ],
      "metadata": {
        "colab": {
          "base_uri": "https://localhost:8080/"
        },
        "id": "jIbmrhHK-zVk",
        "outputId": "398c21b6-ce9b-4d31-f9a4-236ac058a2fb"
      },
      "execution_count": null,
      "outputs": [
        {
          "output_type": "execute_result",
          "data": {
            "text/plain": [
              "AlexNet(\n",
              "  (features): Sequential(\n",
              "    (0): Conv2d(3, 64, kernel_size=(11, 11), stride=(4, 4), padding=(2, 2))\n",
              "    (1): ReLU(inplace=True)\n",
              "    (2): MaxPool2d(kernel_size=3, stride=2, padding=0, dilation=1, ceil_mode=False)\n",
              "    (3): Conv2d(64, 192, kernel_size=(5, 5), stride=(1, 1), padding=(2, 2))\n",
              "    (4): ReLU(inplace=True)\n",
              "    (5): MaxPool2d(kernel_size=3, stride=2, padding=0, dilation=1, ceil_mode=False)\n",
              "    (6): Conv2d(192, 384, kernel_size=(3, 3), stride=(1, 1), padding=(1, 1))\n",
              "    (7): ReLU(inplace=True)\n",
              "    (8): Conv2d(384, 256, kernel_size=(3, 3), stride=(1, 1), padding=(1, 1))\n",
              "    (9): ReLU(inplace=True)\n",
              "    (10): Conv2d(256, 256, kernel_size=(3, 3), stride=(1, 1), padding=(1, 1))\n",
              "    (11): ReLU(inplace=True)\n",
              "    (12): MaxPool2d(kernel_size=3, stride=2, padding=0, dilation=1, ceil_mode=False)\n",
              "  )\n",
              "  (avgpool): AdaptiveAvgPool2d(output_size=(6, 6))\n",
              "  (classifier): Sequential(\n",
              "    (0): Dropout(p=0.5, inplace=False)\n",
              "    (1): Linear(in_features=9216, out_features=4096, bias=True)\n",
              "  )\n",
              ")"
            ]
          },
          "metadata": {},
          "execution_count": 105
        }
      ]
    },
    {
      "cell_type": "code",
      "source": [
        "print(get_free_mem())\n",
        "torch.cuda.empty_cache()\n",
        "print(get_free_mem())\n"
      ],
      "metadata": {
        "colab": {
          "base_uri": "https://localhost:8080/"
        },
        "id": "Xi0_nYBzDU1n",
        "outputId": "25091fb3-d846-4565-cf3d-7e43462ca5b1"
      },
      "execution_count": null,
      "outputs": [
        {
          "output_type": "stream",
          "name": "stdout",
          "text": [
            "(17071734784, 543190528)\n",
            "(17071734784, 81817088)\n"
          ]
        }
      ]
    },
    {
      "cell_type": "code",
      "source": [
        "device = get_device()\n",
        "model_fc6.to(device)\n",
        "model_fc6.eval()"
      ],
      "metadata": {
        "colab": {
          "base_uri": "https://localhost:8080/"
        },
        "id": "67dfzxXKDgaj",
        "outputId": "b3b1b4ed-5d0d-46bb-9701-549ae2884152"
      },
      "execution_count": null,
      "outputs": [
        {
          "output_type": "execute_result",
          "data": {
            "text/plain": [
              "AlexNet(\n",
              "  (features): Sequential(\n",
              "    (0): Conv2d(3, 64, kernel_size=(11, 11), stride=(4, 4), padding=(2, 2))\n",
              "    (1): ReLU(inplace=True)\n",
              "    (2): MaxPool2d(kernel_size=3, stride=2, padding=0, dilation=1, ceil_mode=False)\n",
              "    (3): Conv2d(64, 192, kernel_size=(5, 5), stride=(1, 1), padding=(2, 2))\n",
              "    (4): ReLU(inplace=True)\n",
              "    (5): MaxPool2d(kernel_size=3, stride=2, padding=0, dilation=1, ceil_mode=False)\n",
              "    (6): Conv2d(192, 384, kernel_size=(3, 3), stride=(1, 1), padding=(1, 1))\n",
              "    (7): ReLU(inplace=True)\n",
              "    (8): Conv2d(384, 256, kernel_size=(3, 3), stride=(1, 1), padding=(1, 1))\n",
              "    (9): ReLU(inplace=True)\n",
              "    (10): Conv2d(256, 256, kernel_size=(3, 3), stride=(1, 1), padding=(1, 1))\n",
              "    (11): ReLU(inplace=True)\n",
              "    (12): MaxPool2d(kernel_size=3, stride=2, padding=0, dilation=1, ceil_mode=False)\n",
              "  )\n",
              "  (avgpool): AdaptiveAvgPool2d(output_size=(6, 6))\n",
              "  (classifier): Sequential(\n",
              "    (0): Dropout(p=0.5, inplace=False)\n",
              "    (1): Linear(in_features=9216, out_features=4096, bias=True)\n",
              "  )\n",
              ")"
            ]
          },
          "metadata": {},
          "execution_count": 107
        }
      ]
    },
    {
      "cell_type": "code",
      "source": [
        "from torchsummary import summary\n",
        "summary(model_fc6, (3,224,224))"
      ],
      "metadata": {
        "colab": {
          "base_uri": "https://localhost:8080/"
        },
        "id": "lqNVNWGDZLcz",
        "outputId": "4bb22102-e1e9-4efd-bc50-c8bce29cbe77"
      },
      "execution_count": null,
      "outputs": [
        {
          "output_type": "stream",
          "name": "stdout",
          "text": [
            "----------------------------------------------------------------\n",
            "        Layer (type)               Output Shape         Param #\n",
            "================================================================\n",
            "            Conv2d-1           [-1, 64, 55, 55]          23,296\n",
            "              ReLU-2           [-1, 64, 55, 55]               0\n",
            "         MaxPool2d-3           [-1, 64, 27, 27]               0\n",
            "            Conv2d-4          [-1, 192, 27, 27]         307,392\n",
            "              ReLU-5          [-1, 192, 27, 27]               0\n",
            "         MaxPool2d-6          [-1, 192, 13, 13]               0\n",
            "            Conv2d-7          [-1, 384, 13, 13]         663,936\n",
            "              ReLU-8          [-1, 384, 13, 13]               0\n",
            "            Conv2d-9          [-1, 256, 13, 13]         884,992\n",
            "             ReLU-10          [-1, 256, 13, 13]               0\n",
            "           Conv2d-11          [-1, 256, 13, 13]         590,080\n",
            "             ReLU-12          [-1, 256, 13, 13]               0\n",
            "        MaxPool2d-13            [-1, 256, 6, 6]               0\n",
            "AdaptiveAvgPool2d-14            [-1, 256, 6, 6]               0\n",
            "          Dropout-15                 [-1, 9216]               0\n",
            "           Linear-16                 [-1, 4096]      37,752,832\n",
            "================================================================\n",
            "Total params: 40,222,528\n",
            "Trainable params: 0\n",
            "Non-trainable params: 40,222,528\n",
            "----------------------------------------------------------------\n",
            "Input size (MB): 0.57\n",
            "Forward/backward pass size (MB): 8.25\n",
            "Params size (MB): 153.44\n",
            "Estimated Total Size (MB): 162.26\n",
            "----------------------------------------------------------------\n"
          ]
        }
      ]
    },
    {
      "cell_type": "markdown",
      "source": [
        "## Extract Features from Training Set"
      ],
      "metadata": {
        "id": "mrdsLNrvQ6XR"
      }
    },
    {
      "cell_type": "code",
      "source": [
        "features_train = np.zeros(shape= (train_size, 4096))\n",
        "labels_train = np.zeros(shape= (train_size))\n",
        "\n",
        "i=0\n",
        "with torch.no_grad():\n",
        "  for images, labels in tqdm(train_loader):\n",
        "    images, labels = images.to(device), labels.to(device)\n",
        "    batch_features = model_fc6(images)\n",
        "    features_train[i * batch_size : (i+1) * batch_size] = batch_features.to('cpu')\n",
        "    labels_train[i * batch_size : (i+1) * batch_size] = labels.to('cpu')\n",
        "    i += 1\n"
      ],
      "metadata": {
        "colab": {
          "base_uri": "https://localhost:8080/"
        },
        "id": "AkvEk1lLDz5l",
        "outputId": "5fb11765-4e6f-43b6-d381-f856e4c95dd4"
      },
      "execution_count": null,
      "outputs": [
        {
          "output_type": "stream",
          "name": "stderr",
          "text": [
            "100%|██████████| 400/400 [01:39<00:00,  4.04it/s]\n"
          ]
        }
      ]
    },
    {
      "cell_type": "code",
      "source": [
        "print(features_train.shape)\n",
        "print(labels_train.shape)\n",
        "torch.cuda.empty_cache()"
      ],
      "metadata": {
        "colab": {
          "base_uri": "https://localhost:8080/"
        },
        "id": "kP7udlovJwGl",
        "outputId": "df34db83-9187-4a3d-d008-9840684ee65e"
      },
      "execution_count": null,
      "outputs": [
        {
          "output_type": "stream",
          "name": "stdout",
          "text": [
            "(40000, 4096)\n",
            "(40000,)\n"
          ]
        }
      ]
    },
    {
      "cell_type": "markdown",
      "source": [
        "## Extract Features from Validation Set"
      ],
      "metadata": {
        "id": "PuAYGUceOe_W"
      }
    },
    {
      "cell_type": "code",
      "source": [
        "features_val = np.zeros(shape= (val_size, 4096))\n",
        "labels_val = np.zeros(shape= (val_size))\n",
        "\n",
        "i=0\n",
        "with torch.no_grad():\n",
        "  for images, labels in tqdm(val_loader):\n",
        "    images, labels = images.to(device), labels.to(device)\n",
        "    batch_features = model_fc6(images)\n",
        "    features_val[i * batch_size : (i+1) * batch_size] = batch_features.to('cpu')\n",
        "    labels_val[i * batch_size : (i+1) * batch_size] = labels.to('cpu')\n",
        "    i += 1"
      ],
      "metadata": {
        "colab": {
          "base_uri": "https://localhost:8080/"
        },
        "id": "nBLA-cPQOjoj",
        "outputId": "9b035267-4e1f-494e-a785-81674ea12275"
      },
      "execution_count": null,
      "outputs": [
        {
          "output_type": "stream",
          "name": "stderr",
          "text": [
            "100%|██████████| 100/100 [00:21<00:00,  4.70it/s]\n"
          ]
        }
      ]
    },
    {
      "cell_type": "code",
      "source": [
        "print(features_val.shape)\n",
        "print(labels_val.shape)\n",
        "torch.cuda.empty_cache()"
      ],
      "metadata": {
        "colab": {
          "base_uri": "https://localhost:8080/"
        },
        "id": "Bx6mVIzMPdFZ",
        "outputId": "d06a3056-e91a-462c-f796-99c20bff4cb9"
      },
      "execution_count": null,
      "outputs": [
        {
          "output_type": "stream",
          "name": "stdout",
          "text": [
            "(10000, 4096)\n",
            "(10000,)\n"
          ]
        }
      ]
    },
    {
      "cell_type": "markdown",
      "source": [
        "## Extract Features from Test Set"
      ],
      "metadata": {
        "id": "i56hi83UPrOJ"
      }
    },
    {
      "cell_type": "code",
      "source": [
        "test_size = len(test_set)\n",
        "features_test = np.zeros(shape= (test_size, 4096))\n",
        "labels_test = np.zeros(shape= (test_size))\n",
        "\n",
        "i=0\n",
        "with torch.no_grad():\n",
        "  for images, labels in tqdm(val_loader):\n",
        "    images, labels = images.to(device), labels.to(device)\n",
        "    batch_features = model_fc6(images)\n",
        "    features_test[i * batch_size : (i+1) * batch_size] = batch_features.to('cpu')\n",
        "    labels_test[i * batch_size : (i+1) * batch_size] = labels.to('cpu')\n",
        "    i += 1"
      ],
      "metadata": {
        "colab": {
          "base_uri": "https://localhost:8080/"
        },
        "id": "1MEySgbSPtsQ",
        "outputId": "93675868-a81a-47f7-e530-b76e376ccc17"
      },
      "execution_count": null,
      "outputs": [
        {
          "output_type": "stream",
          "name": "stderr",
          "text": [
            "100%|██████████| 100/100 [00:21<00:00,  4.70it/s]\n"
          ]
        }
      ]
    },
    {
      "cell_type": "code",
      "source": [
        "print(features_test.shape)\n",
        "print(labels_test.shape)\n",
        "torch.cuda.empty_cache()"
      ],
      "metadata": {
        "colab": {
          "base_uri": "https://localhost:8080/"
        },
        "id": "woARMhPiPt4b",
        "outputId": "02247034-a402-4253-cc2b-3b2d8fd95b5d"
      },
      "execution_count": null,
      "outputs": [
        {
          "output_type": "stream",
          "name": "stdout",
          "text": [
            "(10000, 4096)\n",
            "(10000,)\n"
          ]
        }
      ]
    },
    {
      "cell_type": "markdown",
      "source": [
        "## Linear SVC"
      ],
      "metadata": {
        "id": "p3bMnSwogLgM"
      }
    },
    {
      "cell_type": "code",
      "source": [
        "from sklearn.svm import LinearSVC\n",
        "svm_fc6 = LinearSVC(verbose=2)\n"
      ],
      "metadata": {
        "id": "6sIWCIZIzSXr"
      },
      "execution_count": null,
      "outputs": []
    },
    {
      "cell_type": "code",
      "source": [
        "svm_fc6.fit(features_train, labels_train)\n",
        "score = svm_fc6.score(features_train, labels_train)\n",
        "print(f\"Score of Linear SVM on training data {score}\")"
      ],
      "metadata": {
        "colab": {
          "base_uri": "https://localhost:8080/"
        },
        "id": "HKl3xOSAyBZC",
        "outputId": "d86e0dde-4919-4329-c8ac-ac335979eb84"
      },
      "execution_count": null,
      "outputs": [
        {
          "output_type": "stream",
          "name": "stdout",
          "text": [
            "[LibLinear]"
          ]
        },
        {
          "output_type": "stream",
          "name": "stderr",
          "text": [
            "/usr/local/lib/python3.7/dist-packages/sklearn/svm/_base.py:1208: ConvergenceWarning: Liblinear failed to converge, increase the number of iterations.\n",
            "  ConvergenceWarning,\n"
          ]
        },
        {
          "output_type": "stream",
          "name": "stdout",
          "text": [
            "Score of Linear SVM on training data 0.940025\n"
          ]
        }
      ]
    },
    {
      "cell_type": "markdown",
      "source": [
        "## Run Prediction "
      ],
      "metadata": {
        "id": "fsHQ1OdU7fnR"
      }
    },
    {
      "cell_type": "code",
      "source": [
        "from sklearn.metrics import ConfusionMatrixDisplay\n",
        "import matplotlib.pyplot as plt\n",
        "\n",
        "def plot_cm(y_true, y_pred, display_labels, title=\"\", dim=(15,15)):\n",
        "  fig, ax = plt.subplots(figsize=dim) \n",
        "  ConfusionMatrixDisplay.from_predictions(y_true = y_true, y_pred = y_pred, display_labels = display_labels, ax = ax)\n",
        "  plt.title(title)\n",
        "  plt.show()"
      ],
      "metadata": {
        "id": "J6IRW8EjFb_Z"
      },
      "execution_count": null,
      "outputs": []
    },
    {
      "cell_type": "code",
      "source": [
        "val_fc6_preds = svm_fc6.predict(features_val)\n",
        "score_val_6 = svm_fc6.score(features_val, labels_val)\n",
        "\n",
        "plot_cm(labels_val, val_fc6_preds, cifar_classes, f\"FC6 Validation Set Confusion Matrix (Score {score_val_6})\", (13,13))\n",
        "\n",
        "\n"
      ],
      "metadata": {
        "colab": {
          "base_uri": "https://localhost:8080/",
          "height": 744
        },
        "id": "GbzZ_IMM7iUt",
        "outputId": "71f8f2f0-a2d2-465c-cee3-e4cdc36d5757"
      },
      "execution_count": null,
      "outputs": [
        {
          "output_type": "display_data",
          "data": {
            "text/plain": [
              "<Figure size 936x936 with 2 Axes>"
            ],
            "image/png": "[encoded data removed]"
          },
          "metadata": {
            "needs_background": "light"
          }
        }
      ]
    },
    {
      "cell_type": "code",
      "source": [
        "test_fc6_preds = svm_fc6.predict(features_test)\n",
        "score_test_6 = svm_fc6.score(features_test, labels_test)\n",
        "plot_cm(labels_test, test_fc6_preds, cifar_classes, f\"FC6 Test Set Confusion Matrix (Score {score_test_6})\", (13,13))\n"
      ],
      "metadata": {
        "colab": {
          "base_uri": "https://localhost:8080/",
          "height": 744
        },
        "id": "9TlCvPs8GT81",
        "outputId": "280c429c-3402-4d4d-d145-b9588cbf0232"
      },
      "execution_count": null,
      "outputs": [
        {
          "output_type": "display_data",
          "data": {
            "text/plain": [
              "<Figure size 936x936 with 2 Axes>"
            ],
            "image/png": "[encoded data removed]"
          },
          "metadata": {
            "needs_background": "light"
          }
        }
      ]
    },
    {
      "cell_type": "markdown",
      "source": [
        "# Part D"
      ],
      "metadata": {
        "id": "y4RRny8NHr7F"
      }
    },
    {
      "cell_type": "markdown",
      "source": [
        "## Setup alexnet to extract features from fc7 layer"
      ],
      "metadata": {
        "id": "urBV4wRiH_Oc"
      }
    },
    {
      "cell_type": "code",
      "source": [
        "model_fc7 = models.alexnet(pretrained=True)\n",
        "\n",
        "for param in model_fc7.features.parameters():\n",
        "  param.requires_grad = False \n",
        "\n",
        "for param in model_fc7.classifier.parameters():\n",
        "  param.requires_grad = False \n",
        "\n",
        "fc7_classifier = nn.Sequential(*list(model_fc7.classifier.children())[:-2])\n",
        "model_fc7.classifier = fc7_classifier\n"
      ],
      "metadata": {
        "id": "lRM7x-y7H20Z"
      },
      "execution_count": null,
      "outputs": []
    },
    {
      "cell_type": "code",
      "source": [
        "torch.cuda.empty_cache()\n",
        "device = get_device()\n",
        "model_fc7.to(device)\n",
        "model_fc7.eval()"
      ],
      "metadata": {
        "colab": {
          "base_uri": "https://localhost:8080/"
        },
        "id": "EUtNhMe-IbNy",
        "outputId": "fba7fd78-7fff-4da2-8998-36ee2b04a1d4"
      },
      "execution_count": null,
      "outputs": [
        {
          "output_type": "execute_result",
          "data": {
            "text/plain": [
              "AlexNet(\n",
              "  (features): Sequential(\n",
              "    (0): Conv2d(3, 64, kernel_size=(11, 11), stride=(4, 4), padding=(2, 2))\n",
              "    (1): ReLU(inplace=True)\n",
              "    (2): MaxPool2d(kernel_size=3, stride=2, padding=0, dilation=1, ceil_mode=False)\n",
              "    (3): Conv2d(64, 192, kernel_size=(5, 5), stride=(1, 1), padding=(2, 2))\n",
              "    (4): ReLU(inplace=True)\n",
              "    (5): MaxPool2d(kernel_size=3, stride=2, padding=0, dilation=1, ceil_mode=False)\n",
              "    (6): Conv2d(192, 384, kernel_size=(3, 3), stride=(1, 1), padding=(1, 1))\n",
              "    (7): ReLU(inplace=True)\n",
              "    (8): Conv2d(384, 256, kernel_size=(3, 3), stride=(1, 1), padding=(1, 1))\n",
              "    (9): ReLU(inplace=True)\n",
              "    (10): Conv2d(256, 256, kernel_size=(3, 3), stride=(1, 1), padding=(1, 1))\n",
              "    (11): ReLU(inplace=True)\n",
              "    (12): MaxPool2d(kernel_size=3, stride=2, padding=0, dilation=1, ceil_mode=False)\n",
              "  )\n",
              "  (avgpool): AdaptiveAvgPool2d(output_size=(6, 6))\n",
              "  (classifier): Sequential(\n",
              "    (0): Dropout(p=0.5, inplace=False)\n",
              "    (1): Linear(in_features=9216, out_features=4096, bias=True)\n",
              "    (2): ReLU(inplace=True)\n",
              "    (3): Dropout(p=0.5, inplace=False)\n",
              "    (4): Linear(in_features=4096, out_features=4096, bias=True)\n",
              "  )\n",
              ")"
            ]
          },
          "metadata": {},
          "execution_count": 94
        }
      ]
    },
    {
      "cell_type": "markdown",
      "source": [
        "## Feature Extraction"
      ],
      "metadata": {
        "id": "y4NI2hmxIo9w"
      }
    },
    {
      "cell_type": "code",
      "source": [
        "# Extract features from training set\n",
        "fc7_features_train = np.zeros(shape= (train_size, 4096))\n",
        "fc7_labels_train = np.zeros(shape= (train_size))\n",
        "\n",
        "i=0\n",
        "with torch.no_grad():\n",
        "  for images, labels in tqdm(train_loader):\n",
        "    images, labels = images.to(device), labels.to(device)\n",
        "    batch_features = model_fc7(images)\n",
        "    fc7_features_train[i * batch_size : (i+1) * batch_size] = batch_features.to('cpu')\n",
        "    fc7_labels_train[i * batch_size : (i+1) * batch_size] = labels.to('cpu')\n",
        "    i += 1\n",
        "\n",
        "torch.cuda.empty_cache()"
      ],
      "metadata": {
        "colab": {
          "base_uri": "https://localhost:8080/"
        },
        "id": "c0Nfo5vaIxM8",
        "outputId": "55a749b1-30ea-4f72-87e8-b3a876225843"
      },
      "execution_count": null,
      "outputs": [
        {
          "output_type": "stream",
          "name": "stderr",
          "text": [
            "100%|██████████| 400/400 [01:23<00:00,  4.77it/s]\n"
          ]
        }
      ]
    },
    {
      "cell_type": "code",
      "source": [
        "# Extract features from validation set\n",
        "fc7_features_val = np.zeros(shape= (val_size, 4096))\n",
        "fc7_labels_val = np.zeros(shape= (val_size))\n",
        "\n",
        "i=0\n",
        "with torch.no_grad():\n",
        "  for images, labels in tqdm(val_loader):\n",
        "    images, labels = images.to(device), labels.to(device)\n",
        "    batch_features = model_fc7(images)\n",
        "    fc7_features_val[i * batch_size : (i+1) * batch_size] = batch_features.to('cpu')\n",
        "    fc7_labels_val[i * batch_size : (i+1) * batch_size] = labels.to('cpu')\n",
        "    i += 1\n",
        "\n",
        "torch.cuda.empty_cache()"
      ],
      "metadata": {
        "colab": {
          "base_uri": "https://localhost:8080/"
        },
        "id": "S85MopUSIqyY",
        "outputId": "0dc96f75-aa9d-4158-d385-fca6e2fa40ce"
      },
      "execution_count": null,
      "outputs": [
        {
          "output_type": "stream",
          "name": "stderr",
          "text": [
            "100%|██████████| 100/100 [00:20<00:00,  4.84it/s]\n"
          ]
        }
      ]
    },
    {
      "cell_type": "code",
      "source": [
        "# Extract features from test set\n",
        "test_size = len(test_set)\n",
        "fc7_features_test = np.zeros(shape= (test_size, 4096))\n",
        "fc7_labels_test = np.zeros(shape= (test_size))\n",
        "\n",
        "i=0\n",
        "with torch.no_grad():\n",
        "  for images, labels in tqdm(val_loader):\n",
        "    images, labels = images.to(device), labels.to(device)\n",
        "    batch_features = model_fc7(images)\n",
        "    fc7_features_test[i * batch_size : (i+1) * batch_size] = batch_features.to('cpu')\n",
        "    fc7_labels_test[i * batch_size : (i+1) * batch_size] = labels.to('cpu')\n",
        "    i += 1"
      ],
      "metadata": {
        "colab": {
          "base_uri": "https://localhost:8080/"
        },
        "id": "Pthu5gRpJNQz",
        "outputId": "94253c64-85cc-41a6-9b76-a2f01842861d"
      },
      "execution_count": null,
      "outputs": [
        {
          "output_type": "stream",
          "name": "stderr",
          "text": [
            "100%|██████████| 100/100 [00:20<00:00,  4.92it/s]\n"
          ]
        }
      ]
    },
    {
      "cell_type": "markdown",
      "source": [
        "## Support Vector Classifier"
      ],
      "metadata": {
        "id": "djtHlzbnKHcU"
      }
    },
    {
      "cell_type": "code",
      "source": [
        "from sklearn.svm import LinearSVC\n",
        "svm_fc7 = LinearSVC(verbose=2)\n",
        "\n",
        "svm_fc7.fit(fc7_features_train, fc7_labels_train)\n",
        "score = svm_fc7.score(fc7_features_train, fc7_labels_train)\n",
        "\n",
        "print(f\"Score of Linear SVM on training data {score}\")"
      ],
      "metadata": {
        "colab": {
          "base_uri": "https://localhost:8080/"
        },
        "id": "GZ0Yqg3gJ6BU",
        "outputId": "4b2f30e0-11fb-4a55-dcf3-7a9a53370402"
      },
      "execution_count": null,
      "outputs": [
        {
          "output_type": "stream",
          "name": "stdout",
          "text": [
            "[LibLinear]"
          ]
        },
        {
          "output_type": "stream",
          "name": "stderr",
          "text": [
            "/usr/local/lib/python3.7/dist-packages/sklearn/svm/_base.py:1208: ConvergenceWarning: Liblinear failed to converge, increase the number of iterations.\n",
            "  ConvergenceWarning,\n"
          ]
        },
        {
          "output_type": "stream",
          "name": "stdout",
          "text": [
            "Score of Linear SVM on training data 0.913875\n"
          ]
        }
      ]
    },
    {
      "cell_type": "markdown",
      "source": [
        "## Run Prediction "
      ],
      "metadata": {
        "id": "tUGp3u3JKSsZ"
      }
    },
    {
      "cell_type": "code",
      "source": [
        "from sklearn.metrics import ConfusionMatrixDisplay\n",
        "import matplotlib.pyplot as plt\n",
        "\n",
        "def plot_cm(y_true, y_pred, display_labels, title=\"\", dim=(15,15)):\n",
        "  fig, ax = plt.subplots(figsize=dim) \n",
        "  ConfusionMatrixDisplay.from_predictions(y_true = y_true, y_pred = y_pred, display_labels = display_labels, ax = ax)\n",
        "  plt.title(title)\n",
        "  plt.show()"
      ],
      "metadata": {
        "id": "ZSXDHBJ1KSsZ"
      },
      "execution_count": null,
      "outputs": []
    },
    {
      "cell_type": "code",
      "source": [
        "score_val_7 = svm_fc7.score(fc7_features_val, fc7_labels_val)\n",
        "\n",
        "val_fc7_preds = svm_fc7.predict(fc7_features_val)\n",
        "plot_cm(fc7_labels_val, val_fc7_preds, cifar_classes, f\"FC7 Validation Set Confusion Matrix (Score {score_val_7})\", (13,13))\n",
        "\n",
        "\n"
      ],
      "metadata": {
        "colab": {
          "base_uri": "https://localhost:8080/",
          "height": 744
        },
        "outputId": "70d778a8-24ab-46ad-da6e-a04b241b04a2",
        "id": "bf9KwtiTKSsZ"
      },
      "execution_count": null,
      "outputs": [
        {
          "output_type": "display_data",
          "data": {
            "text/plain": [
              "<Figure size 936x936 with 2 Axes>"
            ],
            "image/png": "[encoded data removed]"
          },
          "metadata": {
            "needs_background": "light"
          }
        }
      ]
    },
    {
      "cell_type": "code",
      "source": [
        "test_fc7_preds = svm_fc7.predict(fc7_features_test)\n",
        "score_test_7 = svm_fc7.score(fc7_features_test, fc7_labels_test)\n",
        "\n",
        "plot_cm(fc7_labels_test, test_fc7_preds, cifar_classes, f\"FC7 Test Set Confusion Matrix (Score {score_test_7})\", (13,13))\n"
      ],
      "metadata": {
        "colab": {
          "base_uri": "https://localhost:8080/",
          "height": 744
        },
        "id": "v3C8T2rmKSsZ",
        "outputId": "7f8ee3cb-b809-42c7-e6d3-4d83d806222e"
      },
      "execution_count": null,
      "outputs": [
        {
          "output_type": "display_data",
          "data": {
            "text/plain": [
              "<Figure size 936x936 with 2 Axes>"
            ],
            "image/png": "[encoded data removed]"
          },
          "metadata": {
            "needs_background": "light"
          }
        }
      ]
    }
  ]
}