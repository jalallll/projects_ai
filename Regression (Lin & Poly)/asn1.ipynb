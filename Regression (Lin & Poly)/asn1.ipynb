{
  "nbformat": 4,
  "nbformat_minor": 0,
  "metadata": {
    "colab": {
      "name": "cs4442_asn1.ipynb",
      "provenance": [],
      "collapsed_sections": []
    },
    "kernelspec": {
      "name": "python3",
      "display_name": "Python 3"
    },
    "language_info": {
      "name": "python"
    }
  },
  "cells": [
    {
      "cell_type": "markdown",
      "source": [
        "Jalal Qureshi\n",
        "250925204\n",
        "CS4442 Asn1"
      ],
      "metadata": {
        "id": "-FrlEOnMynGN"
      }
    },
    {
      "cell_type": "markdown",
      "source": [
        "Import data"
      ],
      "metadata": {
        "id": "kYB4n_wtZrWO"
      }
    },
    {
      "cell_type": "code",
      "execution_count": 490,
      "metadata": {
        "colab": {
          "base_uri": "https://localhost:8080/"
        },
        "id": "Uw_41xY-ZLTl",
        "outputId": "6693bddd-6aa2-4ece-fd1e-c46f38da3528"
      },
      "outputs": [
        {
          "output_type": "stream",
          "name": "stdout",
          "text": [
            "(40,)\n"
          ]
        }
      ],
      "source": [
        "import numpy as np\n",
        "from matplotlib import pyplot as plt\n",
        "from scipy.interpolate import *\n",
        "\n",
        "# Question 2.a)\n",
        "\n",
        "# load training data\n",
        "x_training = np.loadtxt(\"hw1xtr.dat\")\n",
        "y_training = np.loadtxt(\"hw1ytr.dat\")\n",
        "\n",
        "print(y_training.shape)\n",
        "\n",
        "# load test data\n",
        "x_testing = np.loadtxt(\"hw1xte.dat\")\n",
        "y_testing = np.loadtxt(\"hw1yte.dat\")"
      ]
    },
    {
      "cell_type": "markdown",
      "source": [
        "Question 2 a)"
      ],
      "metadata": {
        "id": "kZf_dZPYZkWQ"
      }
    },
    {
      "cell_type": "code",
      "source": [
        "# plot training data\n",
        "plt.figure(1)\n",
        "plt.scatter(x_training, y_training)\n",
        "plt.title(\"Training Data\")\n",
        "plt.xlabel(\"Features\")\n",
        "plt.ylabel(\"Outputs\")\n",
        "\n",
        "# plot training data\n",
        "plt.figure(2)\n",
        "plt.scatter(x_testing, y_testing)\n",
        "plt.title(\"Test Data\")\n",
        "plt.xlabel(\"Features\")\n",
        "plt.ylabel(\"Outputs\")\n",
        "\n",
        "# show the plots\n",
        "plt.show()"
      ],
      "metadata": {
        "colab": {
          "base_uri": "https://localhost:8080/",
          "height": 573
        },
        "id": "_2xoWFOkZbe6",
        "outputId": "cab9399c-64fd-4da7-a19d-f66a0a2ea383"
      },
      "execution_count": 491,
      "outputs": [
        {
          "output_type": "display_data",
          "data": {
            "image/png": "[encoded data removed]",
            "text/plain": [
              "<Figure size 432x288 with 1 Axes>"
            ]
          },
          "metadata": {
            "needs_background": "light"
          }
        },
        {
          "output_type": "display_data",
          "data": {
            "image/png": "[encoded data removed]",
            "text/plain": [
              "<Figure size 432x288 with 1 Axes>"
            ]
          },
          "metadata": {
            "needs_background": "light"
          }
        }
      ]
    },
    {
      "cell_type": "markdown",
      "source": [
        "Helper functions"
      ],
      "metadata": {
        "id": "HBG4yylm8cy4"
      }
    },
    {
      "cell_type": "code",
      "source": [
        "# y is training output\n",
        "# x is training/test input\n",
        "def get_weight(x,y):\n",
        "  x_transpose_dot_x = np.dot(x.T, x)\n",
        "  inverse_x_transpose_dot_x = np.linalg.pinv(x_transpose_dot_x)\n",
        "  x_transpose_dot_y = np.dot(x.T, y)\n",
        "  weight = np.dot(inverse_x_transpose_dot_x,x_transpose_dot_y)\n",
        "  return weight\n",
        "\n",
        "# x is training/test data\n",
        "def get_hypothesis(x,w): \n",
        "  hypothesis = np.dot(x,w)\n",
        "  return hypothesis\n",
        "\n",
        "def get_error(x,y,w):\n",
        "  len_target = len(y)\n",
        "  hypothesis = get_hypothesis(x,w) \n",
        "  total_variation=0\n",
        "  for i in range(len_target):\n",
        "    actual_val = y[i]\n",
        "    calculated_val = hypothesis[i]\n",
        "    total_variation += (actual_val - calculated_val)**2\n",
        "  error = total_variation/len_target\n",
        "  return error\n",
        "\n",
        "\n",
        "def order_poly(x,w, order):\n",
        "  if order==2:\n",
        "    return( w[0]*(x)**2 + w[1]*x + w[2])\n",
        "  if order==3:\n",
        "    return( w[0]*(x)**3 + w[1]*(x)**2 + w[2]*x + w[3])\n",
        "  if order==4:\n",
        "    return( w[0]*(x)**4 + w[1]*(x)**3 + w[2]*(x)**2 + w[3]*x + w[4])\n",
        "\n"
      ],
      "metadata": {
        "id": "OG2mH9_i8gWn"
      },
      "execution_count": 492,
      "outputs": []
    },
    {
      "cell_type": "markdown",
      "source": [
        "Get the shape of the features arrays and create the respective column vectors of ones"
      ],
      "metadata": {
        "id": "1ZL7mGd0cEXs"
      }
    },
    {
      "cell_type": "code",
      "source": [
        "shape_training = x_training.shape\n",
        "shape_testing = x_testing.shape\n",
        "ones_training = np.ones(shape_training)\n",
        "ones_testing = np.ones(shape_testing)\n",
        "\n",
        "print(ones_training.shape)"
      ],
      "metadata": {
        "colab": {
          "base_uri": "https://localhost:8080/"
        },
        "id": "9IV9A-y8Ztmy",
        "outputId": "07c8b6de-6c8b-42f4-9978-9e7c519a084f"
      },
      "execution_count": 493,
      "outputs": [
        {
          "output_type": "stream",
          "name": "stdout",
          "text": [
            "(40,)\n"
          ]
        }
      ]
    },
    {
      "cell_type": "markdown",
      "source": [
        "Add column vector of ones to the features"
      ],
      "metadata": {
        "id": "upFjnFwpcMBF"
      }
    },
    {
      "cell_type": "code",
      "source": [
        "x_training_ones = np.c_[x_training, ones_training]\n",
        "x_testing_ones = np.c_[x_testing, ones_testing]\n",
        "\n",
        "print(x_testing_ones)\n",
        "\n"
      ],
      "metadata": {
        "colab": {
          "base_uri": "https://localhost:8080/"
        },
        "id": "7YIRqbHmcf01",
        "outputId": "560a52ea-e420-4851-9248-e26e74b1914c"
      },
      "execution_count": 494,
      "outputs": [
        {
          "output_type": "stream",
          "name": "stdout",
          "text": [
            "[[2.3114047  1.        ]\n",
            " [2.6561232  1.        ]\n",
            " [1.7697643  1.        ]\n",
            " [0.55082798 1.        ]\n",
            " [0.81445064 1.        ]\n",
            " [0.87971425 1.        ]\n",
            " [3.1300948  1.        ]\n",
            " [2.831442   1.        ]\n",
            " [2.0959708  1.        ]\n",
            " [3.9161472  1.        ]\n",
            " [1.0678487  1.        ]\n",
            " [2.913461   1.        ]\n",
            " [1.4881792  1.        ]\n",
            " [1.934699   1.        ]\n",
            " [3.1029632  1.        ]\n",
            " [3.7949112  1.        ]\n",
            " [2.6665423  1.        ]\n",
            " [2.9375816  1.        ]\n",
            " [2.5834993  1.        ]\n",
            " [0.07600009 1.        ]]\n"
          ]
        }
      ]
    },
    {
      "cell_type": "markdown",
      "source": [
        "Obtain 2D weight vector and hypothesis"
      ],
      "metadata": {
        "id": "tGtFKkR9d4vW"
      }
    },
    {
      "cell_type": "code",
      "source": [
        "weight_regression = get_weight(x_training_ones, y_training)\n",
        "print(weight_regression.shape)\n",
        "hypothesis_regression_training = get_hypothesis(x_training_ones, weight_regression)\n",
        "\n"
      ],
      "metadata": {
        "colab": {
          "base_uri": "https://localhost:8080/"
        },
        "id": "qxsKlagpd7D2",
        "outputId": "66aa5c95-5604-4cb8-bc89-c3b93a3028ed"
      },
      "execution_count": 495,
      "outputs": [
        {
          "output_type": "stream",
          "name": "stdout",
          "text": [
            "(2,)\n"
          ]
        }
      ]
    },
    {
      "cell_type": "markdown",
      "source": [
        "Plot the training data"
      ],
      "metadata": {
        "id": "yGB3Cx6Xi84W"
      }
    },
    {
      "cell_type": "code",
      "source": [
        "print(hypothesis_regression_training)\n",
        "plt.figure()\n",
        "plt.scatter(x_training, y_training)\n",
        "plt.title(\"Linear Regression for Training Data\")\n",
        "plt.xlabel(\"Features\")\n",
        "plt.ylabel(\"Outputs\")\n",
        "plt.plot(x_training, hypothesis_regression_training, \"green\")"
      ],
      "metadata": {
        "colab": {
          "base_uri": "https://localhost:8080/",
          "height": 434
        },
        "id": "Q1Z-sGJMi_f-",
        "outputId": "54127067-fc65-4cea-9203-02ac3bdbcd7b"
      },
      "execution_count": 496,
      "outputs": [
        {
          "output_type": "stream",
          "name": "stdout",
          "text": [
            "[4.33381848 6.11960243 6.35262758 4.71677665 4.47689756 6.19876856\n",
            " 5.90153234 5.74174616 5.89250583 4.0599723  6.38155959 5.17474147\n",
            " 3.95991118 4.16996774 4.70739013 3.73447926 5.9120974  3.91331772\n",
            " 5.01349654 6.18195128 3.80420846 5.3260459  6.12815325 6.20340555\n",
            " 4.76084962 4.93937096 6.35813033 3.72030648 4.23188791 4.89016935\n",
            " 5.55353065 4.11384549 3.82007541 5.86618305 5.34420257 6.00886967\n",
            " 4.18007025 3.92271913 5.2106451  5.35264298]\n"
          ]
        },
        {
          "output_type": "execute_result",
          "data": {
            "text/plain": [
              "[<matplotlib.lines.Line2D at 0x7f725866fb50>]"
            ]
          },
          "metadata": {},
          "execution_count": 496
        },
        {
          "output_type": "display_data",
          "data": {
            "image/png": "[encoded data removed]",
            "text/plain": [
              "<Figure size 432x288 with 1 Axes>"
            ]
          },
          "metadata": {
            "needs_background": "light"
          }
        }
      ]
    },
    {
      "cell_type": "markdown",
      "source": [
        "Calculate average error for training set"
      ],
      "metadata": {
        "id": "kwIDiuzznyri"
      }
    },
    {
      "cell_type": "code",
      "source": [
        "error_regression_training = get_error(x_training_ones, y_training, weight_regression)\n",
        "\n",
        "print(f\"Average error for training set is: {error_regression_training}\")\n"
      ],
      "metadata": {
        "colab": {
          "base_uri": "https://localhost:8080/"
        },
        "id": "uNsl-TLyn2RP",
        "outputId": "aad571c9-d20a-4638-d778-2b84d06b8d3d"
      },
      "execution_count": 498,
      "outputs": [
        {
          "output_type": "stream",
          "name": "stdout",
          "text": [
            "Average error for training set is: 0.5085888601660318\n"
          ]
        }
      ]
    },
    {
      "cell_type": "markdown",
      "source": [
        "Question 2. C)\n",
        "\n",
        "Plot the test data"
      ],
      "metadata": {
        "id": "LDJ_d_TWteTZ"
      }
    },
    {
      "cell_type": "code",
      "source": [
        "hypothesis_regression_test = get_hypothesis(x_testing_ones, weight_regression)\n",
        "print(hypothesis_regression_test.shape)\n",
        "print(x_testing.shape)\n",
        "\n",
        "plt.figure()\n",
        "plt.scatter(x_testing, y_testing)\n",
        "plt.title(\"Linear Regression for Test Data\")\n",
        "plt.xlabel(\"Features\")\n",
        "plt.ylabel(\"Outputs\")\n",
        "plt.plot(x_testing, hypothesis_regression_test, \"green\")"
      ],
      "metadata": {
        "colab": {
          "base_uri": "https://localhost:8080/",
          "height": 347
        },
        "id": "t_zTjyCitjVA",
        "outputId": "414580c8-7414-4185-e3c9-63733f1b4771"
      },
      "execution_count": 499,
      "outputs": [
        {
          "output_type": "stream",
          "name": "stdout",
          "text": [
            "(20,)\n",
            "(20,)\n"
          ]
        },
        {
          "output_type": "execute_result",
          "data": {
            "text/plain": [
              "[<matplotlib.lines.Line2D at 0x7f72585e0f90>]"
            ]
          },
          "metadata": {},
          "execution_count": 499
        },
        {
          "output_type": "display_data",
          "data": {
            "image/png": "[encoded data removed]",
            "text/plain": [
              "<Figure size 432x288 with 1 Axes>"
            ]
          },
          "metadata": {
            "needs_background": "light"
          }
        }
      ]
    },
    {
      "cell_type": "markdown",
      "source": [
        "Calculate Average Error for test set"
      ],
      "metadata": {
        "id": "IYP9xfl6utHG"
      }
    },
    {
      "cell_type": "code",
      "source": [
        "error_regression_test = get_error(x_testing_ones, y_testing, weight_regression)\n",
        "print(f\"Average error for test set is: {error_regression_test}\")"
      ],
      "metadata": {
        "colab": {
          "base_uri": "https://localhost:8080/"
        },
        "id": "5pDwKFPJuvI1",
        "outputId": "0a2eabf4-ab75-4be3-cee0-f80285bd3465"
      },
      "execution_count": 501,
      "outputs": [
        {
          "output_type": "stream",
          "name": "stdout",
          "text": [
            "Average error for test set is: 0.44391185790774995\n"
          ]
        }
      ]
    },
    {
      "cell_type": "markdown",
      "source": [
        "2. d)\n",
        "\n",
        "Implement the 2nd-order polynomial regression by adding new features x^2 to the inputs.\n",
        "\n",
        "Repeat (b) and (c). Compare the training error and test error. Is it a better fit than linear\n",
        "regression?\n"
      ],
      "metadata": {
        "id": "4cF1kQ_HvZgy"
      }
    },
    {
      "cell_type": "code",
      "source": [
        "x_training_squared = np.c_[np.square(x_training), x_training_ones]\n",
        "x_testing_squared = np.c_[np.square(x_testing), x_testing_ones]\n",
        "\n",
        "\n",
        "print(x_training_ones)"
      ],
      "metadata": {
        "colab": {
          "base_uri": "https://localhost:8080/"
        },
        "id": "CbgzlqEfv8tK",
        "outputId": "507e4325-dfc7-4817-a77e-7f494439dfc0"
      },
      "execution_count": 502,
      "outputs": [
        {
          "output_type": "stream",
          "name": "stdout",
          "text": [
            "[[0.80880917 1.        ]\n",
            " [3.1381904  1.        ]\n",
            " [3.442149   1.        ]\n",
            " [1.3083408  1.        ]\n",
            " [0.9954419  1.        ]\n",
            " [3.2414549  1.        ]\n",
            " [2.8537392  1.        ]\n",
            " [2.6453137  1.        ]\n",
            " [2.841965   1.        ]\n",
            " [0.4516035  1.        ]\n",
            " [3.479888   1.        ]\n",
            " [1.9057113  1.        ]\n",
            " [0.32108352 1.        ]\n",
            " [0.59508185 1.        ]\n",
            " [1.296097   1.        ]\n",
            " [0.02702954 1.        ]\n",
            " [2.8675203  1.        ]\n",
            " [0.26030689 1.        ]\n",
            " [1.695383   1.        ]\n",
            " [3.2195184  1.        ]\n",
            " [0.11798449 1.        ]\n",
            " [2.1030732  1.        ]\n",
            " [3.1493441  1.        ]\n",
            " [3.2475034  1.        ]\n",
            " [1.3658297  1.        ]\n",
            " [1.5986934  1.        ]\n",
            " [3.4493268  1.        ]\n",
            " [0.00854252 1.        ]\n",
            " [0.67585068 1.        ]\n",
            " [1.5345147  1.        ]\n",
            " [2.3998049  1.        ]\n",
            " [0.52187583 1.        ]\n",
            " [0.13868138 1.        ]\n",
            " [2.8076295  1.        ]\n",
            " [2.1267568  1.        ]\n",
            " [2.9937503  1.        ]\n",
            " [0.60825958 1.        ]\n",
            " [0.27257011 1.        ]\n",
            " [1.9525441  1.        ]\n",
            " [2.1377665  1.        ]]\n"
          ]
        }
      ]
    },
    {
      "cell_type": "code",
      "source": [
        "print(x_training_squared.shape)"
      ],
      "metadata": {
        "colab": {
          "base_uri": "https://localhost:8080/"
        },
        "id": "B3gVIpdfjYKU",
        "outputId": "4c9b52da-2655-46cf-ad99-e524037f85ee"
      },
      "execution_count": 503,
      "outputs": [
        {
          "output_type": "stream",
          "name": "stdout",
          "text": [
            "(40, 3)\n"
          ]
        }
      ]
    },
    {
      "cell_type": "markdown",
      "source": [
        "Calculate Weight Vector (params)\n",
        "\n"
      ],
      "metadata": {
        "id": "NGHRIPuZ3wVV"
      }
    },
    {
      "cell_type": "code",
      "source": [
        "squared_weight = get_weight(x_training_squared, y_training)\n",
        "print(squared_weight)\n",
        "\n",
        "\n",
        "\n"
      ],
      "metadata": {
        "colab": {
          "base_uri": "https://localhost:8080/"
        },
        "outputId": "e6a920ac-d305-4658-8cd7-97d6c9544959",
        "id": "qgCWQ4t630oa"
      },
      "execution_count": 504,
      "outputs": [
        {
          "output_type": "stream",
          "name": "stdout",
          "text": [
            "[-0.55139798  2.69130097  2.77944073]\n"
          ]
        }
      ]
    },
    {
      "cell_type": "markdown",
      "source": [
        "Plot training and test data"
      ],
      "metadata": {
        "id": "q7LkkQ6fSog7"
      }
    },
    {
      "cell_type": "code",
      "source": [
        "x_interval_training = np.linspace(min(x_training), max(x_training),999)\n",
        "\n",
        "plt.figure()\n",
        "plt.title(\"Second Order Polynomial Regression for Training Data\")\n",
        "plt.xlabel(\"Features\")\n",
        "plt.ylabel(\"Outputs\")\n",
        "plt.scatter(x_training, y_training)\n",
        "plt.plot(x_interval_training, order_poly(x_interval_training, squared_weight,2))\n",
        "\n",
        "\n",
        "x_interval_testing = np.linspace(min(x_testing), max(x_testing),999)\n",
        "\n",
        "plt.figure()\n",
        "plt.title(\"Second Order Polynomial Regression for Test Data\")\n",
        "plt.xlabel(\"Features\")\n",
        "plt.ylabel(\"Outputs\")\n",
        "plt.scatter(x_testing, y_testing)\n",
        "plt.plot(x_interval_testing, order_poly(x_interval_testing, squared_weight,2))"
      ],
      "metadata": {
        "colab": {
          "base_uri": "https://localhost:8080/",
          "height": 591
        },
        "id": "vHY9Hxk2jGk2",
        "outputId": "d8094772-027e-411a-d681-9bd0c8f29db0"
      },
      "execution_count": 505,
      "outputs": [
        {
          "output_type": "execute_result",
          "data": {
            "text/plain": [
              "[<matplotlib.lines.Line2D at 0x7f7258527c50>]"
            ]
          },
          "metadata": {},
          "execution_count": 505
        },
        {
          "output_type": "display_data",
          "data": {
            "image/png": "[encoded data removed]",
            "text/plain": [
              "<Figure size 432x288 with 1 Axes>"
            ]
          },
          "metadata": {
            "needs_background": "light"
          }
        },
        {
          "output_type": "display_data",
          "data": {
            "image/png": "[encoded data removed]",
            "text/plain": [
              "<Figure size 432x288 with 1 Axes>"
            ]
          },
          "metadata": {
            "needs_background": "light"
          }
        }
      ]
    },
    {
      "cell_type": "markdown",
      "source": [
        "Calculate Average Error "
      ],
      "metadata": {
        "id": "VH6B8a_hGUbR"
      }
    },
    {
      "cell_type": "code",
      "source": [
        "error_squared_training = get_error(x_training_squared, y_training, squared_weight)\n",
        "error_squared_testing = get_error(x_testing_squared, y_testing, squared_weight)\n",
        "\n",
        "print(f\"Average error for training set is: {error_squared_training}\")\n",
        "print(f\"Average error for testing set is: {error_squared_testing}\")"
      ],
      "metadata": {
        "colab": {
          "base_uri": "https://localhost:8080/"
        },
        "id": "Mfvx0d8VGW1D",
        "outputId": "f427f020-428c-42e0-889d-dff7c8535472"
      },
      "execution_count": 506,
      "outputs": [
        {
          "output_type": "stream",
          "name": "stdout",
          "text": [
            "Average error for training set is: 0.20098523198396653\n",
            "Average error for testing set is: 0.8532633206012162\n"
          ]
        }
      ]
    },
    {
      "cell_type": "markdown",
      "source": [
        "2. e)\n",
        "Implement the 3rd-order polynomial regression by adding new features x^2 and x^3\n",
        "to the inputs. Repeat (b) and (c). Compare the training error and test error. Is it a better fit than linear\n",
        "regression and 2nd-order polynomial regression?"
      ],
      "metadata": {
        "id": "CfckpFF6qOMC"
      }
    },
    {
      "cell_type": "markdown",
      "source": [
        "Add x^3 as a feature to numpy array containing the feature x^2"
      ],
      "metadata": {
        "id": "P2lP2th3s_IZ"
      }
    },
    {
      "cell_type": "code",
      "source": [
        "x_training_three = np.c_[np.power(x_training,3), x_training_squared]\n",
        "x_testing_three = np.c_[np.power(x_testing,3), x_testing_squared]"
      ],
      "metadata": {
        "id": "YhNcpNqLqtRJ"
      },
      "execution_count": 507,
      "outputs": []
    },
    {
      "cell_type": "markdown",
      "source": [
        "Calculate weight vector"
      ],
      "metadata": {
        "id": "JSUb67SawAjD"
      }
    },
    {
      "cell_type": "code",
      "source": [
        "order_3_weight = get_weight(x_training_three, y_training)\n",
        "print(order_3_weight)"
      ],
      "metadata": {
        "colab": {
          "base_uri": "https://localhost:8080/"
        },
        "id": "BR-rn1Oqqub3",
        "outputId": "4c7faec4-198f-4a27-ca05-4cf5fa77d9a9"
      },
      "execution_count": 508,
      "outputs": [
        {
          "output_type": "stream",
          "name": "stdout",
          "text": [
            "[ 0.46722975 -2.99881265  5.9832758   2.01341991]\n"
          ]
        }
      ]
    },
    {
      "cell_type": "markdown",
      "source": [
        "Plot training and test data\n",
        "\n"
      ],
      "metadata": {
        "id": "UovtLuFNuz_3"
      }
    },
    {
      "cell_type": "code",
      "source": [
        "x_interval_training_order3 = np.linspace(min(x_training), max(x_training),999)\n",
        "\n",
        "plt.figure()\n",
        "plt.title(\"Third Order Polynomial Regression for Training Data\")\n",
        "plt.xlabel(\"Features\")\n",
        "plt.ylabel(\"Outputs\")\n",
        "plt.scatter(x_training, y_training)\n",
        "plt.plot(x_interval_training_order3, order_poly(x_interval_training_order3, order_3_weight,3))\n",
        "\n",
        "\n",
        "x_interval_testing_order3 = np.linspace(min(x_testing), max(x_testing),999)\n",
        "\n",
        "plt.figure()\n",
        "plt.title(\"Third Order Polynomial Regression for Test Data\")\n",
        "plt.xlabel(\"Features\")\n",
        "plt.ylabel(\"Outputs\")\n",
        "plt.scatter(x_testing, y_testing)\n",
        "plt.plot(x_interval_testing_order3, order_poly(x_interval_testing_order3, order_3_weight,3))"
      ],
      "metadata": {
        "colab": {
          "base_uri": "https://localhost:8080/",
          "height": 591
        },
        "id": "C6-EBkVBqujr",
        "outputId": "b3cee2b5-730d-4473-b1dd-f5eb95ac149f"
      },
      "execution_count": 509,
      "outputs": [
        {
          "output_type": "execute_result",
          "data": {
            "text/plain": [
              "[<matplotlib.lines.Line2D at 0x7f725841a550>]"
            ]
          },
          "metadata": {},
          "execution_count": 509
        },
        {
          "output_type": "display_data",
          "data": {
            "image/png": "[encoded data removed]",
            "text/plain": [
              "<Figure size 432x288 with 1 Axes>"
            ]
          },
          "metadata": {
            "needs_background": "light"
          }
        },
        {
          "output_type": "display_data",
          "data": {
            "image/png": "[encoded data removed]",
            "text/plain": [
              "<Figure size 432x288 with 1 Axes>"
            ]
          },
          "metadata": {
            "needs_background": "light"
          }
        }
      ]
    },
    {
      "cell_type": "markdown",
      "source": [
        "Calculate Average Error"
      ],
      "metadata": {
        "id": "wrz3JAZzvIzc"
      }
    },
    {
      "cell_type": "code",
      "source": [
        "error_order_3_training = get_error(x_training_three, y_training, order_3_weight)\n",
        "error_order_3_testing = get_error(x_testing_three, y_testing, order_3_weight)\n",
        "\n",
        "print(f\"Average error for training set is: {error_order_3_training}\")\n",
        "print(f\"Average error for testing set is: {error_order_3_testing}\")"
      ],
      "metadata": {
        "colab": {
          "base_uri": "https://localhost:8080/"
        },
        "id": "Yij7nj-vvIM5",
        "outputId": "a87c301b-a9b1-4726-db31-c6c045ff9d76"
      },
      "execution_count": 510,
      "outputs": [
        {
          "output_type": "stream",
          "name": "stdout",
          "text": [
            "Average error for training set is: 0.03922874661114212\n",
            "Average error for testing set is: 0.05641833004416223\n"
          ]
        }
      ]
    },
    {
      "cell_type": "markdown",
      "source": [
        "2. f) Implement the 3rd-order polynomial regression by adding new features x^2, x^3, x^4 to the inputs. Repeat (b) and (c). Compare the training error and test error. Compared with the previous results, which order is the best for fitting the data?"
      ],
      "metadata": {
        "id": "MVup_0HDqhux"
      }
    },
    {
      "cell_type": "markdown",
      "source": [
        "Add x^4 as a feature to numpy array containing the feature x^3 and x^2"
      ],
      "metadata": {
        "id": "UPaNdQbSvj2O"
      }
    },
    {
      "cell_type": "code",
      "source": [
        "x_training_four = np.c_[np.power(x_training,4), x_training_three]\n",
        "x_testing_four = np.c_[np.power(x_testing,4), x_testing_three]"
      ],
      "metadata": {
        "id": "2eoqN-dcqt04"
      },
      "execution_count": 511,
      "outputs": []
    },
    {
      "cell_type": "markdown",
      "source": [
        "Calculate weight vector"
      ],
      "metadata": {
        "id": "lMw-G4oFwIFj"
      }
    },
    {
      "cell_type": "code",
      "source": [
        "order_4_weight = get_weight(x_training_four, y_training)\n",
        "print(order_4_weight)"
      ],
      "metadata": {
        "colab": {
          "base_uri": "https://localhost:8080/"
        },
        "id": "gMfLpJzHvi2v",
        "outputId": "868eccbd-7d98-414a-f5a4-653a737558de"
      },
      "execution_count": 512,
      "outputs": [
        {
          "output_type": "stream",
          "name": "stdout",
          "text": [
            "[-0.07096305  0.9640118  -4.10194886  6.79940213  1.89643657]\n"
          ]
        }
      ]
    },
    {
      "cell_type": "markdown",
      "source": [
        "Plot training and test data\n"
      ],
      "metadata": {
        "id": "pPlKC1nZvhfX"
      }
    },
    {
      "cell_type": "code",
      "source": [
        "x_interval_training_order4 = np.linspace(min(x_training), max(x_training),999)\n",
        "\n",
        "plt.figure()\n",
        "plt.title(\"Fourth Order Polynomial Regression for Training Data\")\n",
        "plt.xlabel(\"Features\")\n",
        "plt.ylabel(\"Outputs\")\n",
        "plt.scatter(x_training, y_training)\n",
        "plt.plot(x_interval_training_order4, order_poly(x_interval_training_order4, order_4_weight,4))\n",
        "\n",
        "\n",
        "x_interval_testing_order4 = np.linspace(min(x_testing), max(x_testing),999)\n",
        "\n",
        "plt.figure()\n",
        "plt.title(\"Fourth Order Polynomial Regression for Test Data\")\n",
        "plt.xlabel(\"Features\")\n",
        "plt.ylabel(\"Outputs\")\n",
        "plt.scatter(x_testing, y_testing)\n",
        "plt.plot(x_interval_testing_order4, order_poly(x_interval_testing_order4, order_4_weight,4))"
      ],
      "metadata": {
        "colab": {
          "base_uri": "https://localhost:8080/",
          "height": 591
        },
        "id": "K9HrUrBYviEb",
        "outputId": "78e99826-39e3-411b-f968-888d3f4ae644"
      },
      "execution_count": 513,
      "outputs": [
        {
          "output_type": "execute_result",
          "data": {
            "text/plain": [
              "[<matplotlib.lines.Line2D at 0x7f7258374d50>]"
            ]
          },
          "metadata": {},
          "execution_count": 513
        },
        {
          "output_type": "display_data",
          "data": {
            "image/png": "[encoded data removed]",
            "text/plain": [
              "<Figure size 432x288 with 1 Axes>"
            ]
          },
          "metadata": {
            "needs_background": "light"
          }
        },
        {
          "output_type": "display_data",
          "data": {
            "image/png": "[encoded data removed]",
            "text/plain": [
              "<Figure size 432x288 with 1 Axes>"
            ]
          },
          "metadata": {
            "needs_background": "light"
          }
        }
      ]
    },
    {
      "cell_type": "markdown",
      "source": [
        "Calculate Average Error"
      ],
      "metadata": {
        "id": "Hg8_xtCgvidA"
      }
    },
    {
      "cell_type": "code",
      "source": [
        "error_order_4_training = get_error(x_training_four, y_training, order_4_weight)\n",
        "error_order_4_testing = get_error(x_testing_four, y_testing, order_4_weight)\n",
        "\n",
        "print(f\"Average error for training set is: {error_order_4_training}\")\n",
        "print(f\"Average error for testing set is: {error_order_4_testing}\")"
      ],
      "metadata": {
        "colab": {
          "base_uri": "https://localhost:8080/"
        },
        "id": "PwRDwndfvilQ",
        "outputId": "50478242-504e-4b1a-a25f-0200d782a6a1"
      },
      "execution_count": 514,
      "outputs": [
        {
          "output_type": "stream",
          "name": "stdout",
          "text": [
            "Average error for training set is: 0.03564470724439951\n",
            "Average error for testing set is: 0.12722197194709298\n"
          ]
        }
      ]
    }
  ]
}